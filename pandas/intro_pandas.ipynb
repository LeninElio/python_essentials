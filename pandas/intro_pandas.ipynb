{
 "cells": [
  {
   "cell_type": "code",
   "execution_count": 89,
   "metadata": {
    "collapsed": true
   },
   "outputs": [],
   "source": [
    "import pandas as pd"
   ]
  },
  {
   "cell_type": "markdown",
   "source": [
    "## 1. Obteniendo datos de un archivo CSV"
   ],
   "metadata": {
    "collapsed": false
   }
  },
  {
   "cell_type": "code",
   "execution_count": 90,
   "outputs": [],
   "source": [
    "# partidos de las copas del mundo\n",
    "df_data_matches = pd.read_csv('data/fifa_worldcup_matches.csv')\n",
    "# todos los partidos que se van a jugar\n",
    "df_fixture = pd.read_csv('data/fifa_worldcup_fixture.csv')\n",
    "# partidos de las copas del mundo data faltante\n",
    "df_data_faltante = pd.read_csv('data/fifa_worldcup_missing_data.csv')"
   ],
   "metadata": {
    "collapsed": false
   }
  },
  {
   "cell_type": "code",
   "execution_count": 91,
   "outputs": [
    {
     "data": {
      "text/plain": "                home     score              away  year\n0             Qatar    Match 1           Ecuador  2022\n1           Senegal    Match 2       Netherlands  2022\n2             Qatar   Match 18           Senegal  2022\n3       Netherlands   Match 19           Ecuador  2022\n4           Ecuador   Match 35           Senegal  2022\n..               ...       ...               ...   ...\n59  Winners Match 51  Match 59  Winners Match 52  2022\n60  Winners Match 57  Match 61  Winners Match 58  2022\n61  Winners Match 59  Match 62  Winners Match 60  2022\n62   Losers Match 61  Match 63   Losers Match 62  2022\n63  Winners Match 61  Match 64  Winners Match 62  2022\n\n[64 rows x 4 columns]",
      "text/html": "<div>\n<style scoped>\n    .dataframe tbody tr th:only-of-type {\n        vertical-align: middle;\n    }\n\n    .dataframe tbody tr th {\n        vertical-align: top;\n    }\n\n    .dataframe thead th {\n        text-align: right;\n    }\n</style>\n<table border=\"1\" class=\"dataframe\">\n  <thead>\n    <tr style=\"text-align: right;\">\n      <th></th>\n      <th>home</th>\n      <th>score</th>\n      <th>away</th>\n      <th>year</th>\n    </tr>\n  </thead>\n  <tbody>\n    <tr>\n      <th>0</th>\n      <td>Qatar</td>\n      <td>Match 1</td>\n      <td>Ecuador</td>\n      <td>2022</td>\n    </tr>\n    <tr>\n      <th>1</th>\n      <td>Senegal</td>\n      <td>Match 2</td>\n      <td>Netherlands</td>\n      <td>2022</td>\n    </tr>\n    <tr>\n      <th>2</th>\n      <td>Qatar</td>\n      <td>Match 18</td>\n      <td>Senegal</td>\n      <td>2022</td>\n    </tr>\n    <tr>\n      <th>3</th>\n      <td>Netherlands</td>\n      <td>Match 19</td>\n      <td>Ecuador</td>\n      <td>2022</td>\n    </tr>\n    <tr>\n      <th>4</th>\n      <td>Ecuador</td>\n      <td>Match 35</td>\n      <td>Senegal</td>\n      <td>2022</td>\n    </tr>\n    <tr>\n      <th>...</th>\n      <td>...</td>\n      <td>...</td>\n      <td>...</td>\n      <td>...</td>\n    </tr>\n    <tr>\n      <th>59</th>\n      <td>Winners Match 51</td>\n      <td>Match 59</td>\n      <td>Winners Match 52</td>\n      <td>2022</td>\n    </tr>\n    <tr>\n      <th>60</th>\n      <td>Winners Match 57</td>\n      <td>Match 61</td>\n      <td>Winners Match 58</td>\n      <td>2022</td>\n    </tr>\n    <tr>\n      <th>61</th>\n      <td>Winners Match 59</td>\n      <td>Match 62</td>\n      <td>Winners Match 60</td>\n      <td>2022</td>\n    </tr>\n    <tr>\n      <th>62</th>\n      <td>Losers Match 61</td>\n      <td>Match 63</td>\n      <td>Losers Match 62</td>\n      <td>2022</td>\n    </tr>\n    <tr>\n      <th>63</th>\n      <td>Winners Match 61</td>\n      <td>Match 64</td>\n      <td>Winners Match 62</td>\n      <td>2022</td>\n    </tr>\n  </tbody>\n</table>\n<p>64 rows × 4 columns</p>\n</div>"
     },
     "execution_count": 91,
     "metadata": {},
     "output_type": "execute_result"
    }
   ],
   "source": [
    "# df_data_matches\n",
    "df_fixture\n",
    "# df_data_faltante"
   ],
   "metadata": {
    "collapsed": false
   }
  },
  {
   "cell_type": "markdown",
   "source": [
    "## 2. Limpiando df_fixture"
   ],
   "metadata": {
    "collapsed": false
   }
  },
  {
   "cell_type": "code",
   "execution_count": 92,
   "outputs": [],
   "source": [
    "# borrando espacios en blanco\n",
    "# Al igualarlo se guarda la data procesada\n",
    "df_fixture['home'] = df_fixture['home'].str.strip()\n",
    "df_fixture['away'] = df_fixture['away'].str.strip()"
   ],
   "metadata": {
    "collapsed": false
   }
  },
  {
   "cell_type": "markdown",
   "source": [
    "## 3. Limpiando la data faltante y agregándolo al historico"
   ],
   "metadata": {
    "collapsed": false
   }
  },
  {
   "cell_type": "code",
   "execution_count": 93,
   "outputs": [
    {
     "data": {
      "text/plain": "    home score away  year\n396  NaN   NaN  NaN  2010\n397  NaN   NaN  NaN  2010\n398  NaN   NaN  NaN  2010\n399  NaN   NaN  NaN  2010\n400  NaN   NaN  NaN  2010\n..   ...   ...  ...   ...\n455  NaN   NaN  NaN  2010\n456  NaN   NaN  NaN  2010\n457  NaN   NaN  NaN  2010\n458  NaN   NaN  NaN  2010\n459  NaN   NaN  NaN  2010\n\n[64 rows x 4 columns]",
      "text/html": "<div>\n<style scoped>\n    .dataframe tbody tr th:only-of-type {\n        vertical-align: middle;\n    }\n\n    .dataframe tbody tr th {\n        vertical-align: top;\n    }\n\n    .dataframe thead th {\n        text-align: right;\n    }\n</style>\n<table border=\"1\" class=\"dataframe\">\n  <thead>\n    <tr style=\"text-align: right;\">\n      <th></th>\n      <th>home</th>\n      <th>score</th>\n      <th>away</th>\n      <th>year</th>\n    </tr>\n  </thead>\n  <tbody>\n    <tr>\n      <th>396</th>\n      <td>NaN</td>\n      <td>NaN</td>\n      <td>NaN</td>\n      <td>2010</td>\n    </tr>\n    <tr>\n      <th>397</th>\n      <td>NaN</td>\n      <td>NaN</td>\n      <td>NaN</td>\n      <td>2010</td>\n    </tr>\n    <tr>\n      <th>398</th>\n      <td>NaN</td>\n      <td>NaN</td>\n      <td>NaN</td>\n      <td>2010</td>\n    </tr>\n    <tr>\n      <th>399</th>\n      <td>NaN</td>\n      <td>NaN</td>\n      <td>NaN</td>\n      <td>2010</td>\n    </tr>\n    <tr>\n      <th>400</th>\n      <td>NaN</td>\n      <td>NaN</td>\n      <td>NaN</td>\n      <td>2010</td>\n    </tr>\n    <tr>\n      <th>...</th>\n      <td>...</td>\n      <td>...</td>\n      <td>...</td>\n      <td>...</td>\n    </tr>\n    <tr>\n      <th>455</th>\n      <td>NaN</td>\n      <td>NaN</td>\n      <td>NaN</td>\n      <td>2010</td>\n    </tr>\n    <tr>\n      <th>456</th>\n      <td>NaN</td>\n      <td>NaN</td>\n      <td>NaN</td>\n      <td>2010</td>\n    </tr>\n    <tr>\n      <th>457</th>\n      <td>NaN</td>\n      <td>NaN</td>\n      <td>NaN</td>\n      <td>2010</td>\n    </tr>\n    <tr>\n      <th>458</th>\n      <td>NaN</td>\n      <td>NaN</td>\n      <td>NaN</td>\n      <td>2010</td>\n    </tr>\n    <tr>\n      <th>459</th>\n      <td>NaN</td>\n      <td>NaN</td>\n      <td>NaN</td>\n      <td>2010</td>\n    </tr>\n  </tbody>\n</table>\n<p>64 rows × 4 columns</p>\n</div>"
     },
     "execution_count": 93,
     "metadata": {},
     "output_type": "execute_result"
    }
   ],
   "source": [
    "df_data_faltante[df_data_faltante['home'].isnull()]"
   ],
   "metadata": {
    "collapsed": false
   }
  },
  {
   "cell_type": "code",
   "execution_count": 94,
   "outputs": [],
   "source": [
    "# Eliminar los datos de tipo NaN\n",
    "df_data_faltante.dropna(inplace=True)"
   ],
   "metadata": {
    "collapsed": false
   }
  },
  {
   "cell_type": "code",
   "execution_count": 95,
   "outputs": [
    {
     "data": {
      "text/plain": "              home score           away  year\n0          Mexico    0–0   Soviet Union  1970\n1         Belgium    3–0    El Salvador  1970\n2    Soviet Union    4–1        Belgium  1970\n3          Mexico    4–0    El Salvador  1970\n4    Soviet Union    2–0    El Salvador  1970\n..             ...   ...            ...   ...\n503         Spain    0–1    Switzerland  2010\n504         Chile    1–0    Switzerland  2010\n505         Spain    2–0       Honduras  2010\n506         Chile    1–2          Spain  2010\n507   Switzerland    0–0       Honduras  2010\n\n[444 rows x 4 columns]",
      "text/html": "<div>\n<style scoped>\n    .dataframe tbody tr th:only-of-type {\n        vertical-align: middle;\n    }\n\n    .dataframe tbody tr th {\n        vertical-align: top;\n    }\n\n    .dataframe thead th {\n        text-align: right;\n    }\n</style>\n<table border=\"1\" class=\"dataframe\">\n  <thead>\n    <tr style=\"text-align: right;\">\n      <th></th>\n      <th>home</th>\n      <th>score</th>\n      <th>away</th>\n      <th>year</th>\n    </tr>\n  </thead>\n  <tbody>\n    <tr>\n      <th>0</th>\n      <td>Mexico</td>\n      <td>0–0</td>\n      <td>Soviet Union</td>\n      <td>1970</td>\n    </tr>\n    <tr>\n      <th>1</th>\n      <td>Belgium</td>\n      <td>3–0</td>\n      <td>El Salvador</td>\n      <td>1970</td>\n    </tr>\n    <tr>\n      <th>2</th>\n      <td>Soviet Union</td>\n      <td>4–1</td>\n      <td>Belgium</td>\n      <td>1970</td>\n    </tr>\n    <tr>\n      <th>3</th>\n      <td>Mexico</td>\n      <td>4–0</td>\n      <td>El Salvador</td>\n      <td>1970</td>\n    </tr>\n    <tr>\n      <th>4</th>\n      <td>Soviet Union</td>\n      <td>2–0</td>\n      <td>El Salvador</td>\n      <td>1970</td>\n    </tr>\n    <tr>\n      <th>...</th>\n      <td>...</td>\n      <td>...</td>\n      <td>...</td>\n      <td>...</td>\n    </tr>\n    <tr>\n      <th>503</th>\n      <td>Spain</td>\n      <td>0–1</td>\n      <td>Switzerland</td>\n      <td>2010</td>\n    </tr>\n    <tr>\n      <th>504</th>\n      <td>Chile</td>\n      <td>1–0</td>\n      <td>Switzerland</td>\n      <td>2010</td>\n    </tr>\n    <tr>\n      <th>505</th>\n      <td>Spain</td>\n      <td>2–0</td>\n      <td>Honduras</td>\n      <td>2010</td>\n    </tr>\n    <tr>\n      <th>506</th>\n      <td>Chile</td>\n      <td>1–2</td>\n      <td>Spain</td>\n      <td>2010</td>\n    </tr>\n    <tr>\n      <th>507</th>\n      <td>Switzerland</td>\n      <td>0–0</td>\n      <td>Honduras</td>\n      <td>2010</td>\n    </tr>\n  </tbody>\n</table>\n<p>444 rows × 4 columns</p>\n</div>"
     },
     "execution_count": 95,
     "metadata": {},
     "output_type": "execute_result"
    }
   ],
   "source": [
    "df_data_faltante"
   ],
   "metadata": {
    "collapsed": false
   }
  },
  {
   "cell_type": "code",
   "execution_count": 96,
   "outputs": [],
   "source": [
    "# Para unir dos dataframe se debe usar concat\n",
    "df_data_historica = pd.concat([df_data_faltante, df_data_matches], ignore_index=True)"
   ],
   "metadata": {
    "collapsed": false
   }
  },
  {
   "cell_type": "code",
   "execution_count": 97,
   "outputs": [
    {
     "data": {
      "text/plain": "               home score            away  year\n450     Yugoslavia    2–1          Brazil  1930\n460        Uruguay    6–1      Yugoslavia  1930\n459      Argentina    6–1   United States  1930\n458       Paraguay    1–0         Belgium  1930\n457  United States    3–0        Paraguay  1930\n..              ...   ...             ...   ...\n863         Brazil    2–0      Costa Rica  2018\n864         Serbia    1–2     Switzerland  2018\n865         Serbia    0–2          Brazil  2018\n867        Germany    0–1          Mexico  2018\n900         France    4–2         Croatia  2018\n\n[901 rows x 4 columns]",
      "text/html": "<div>\n<style scoped>\n    .dataframe tbody tr th:only-of-type {\n        vertical-align: middle;\n    }\n\n    .dataframe tbody tr th {\n        vertical-align: top;\n    }\n\n    .dataframe thead th {\n        text-align: right;\n    }\n</style>\n<table border=\"1\" class=\"dataframe\">\n  <thead>\n    <tr style=\"text-align: right;\">\n      <th></th>\n      <th>home</th>\n      <th>score</th>\n      <th>away</th>\n      <th>year</th>\n    </tr>\n  </thead>\n  <tbody>\n    <tr>\n      <th>450</th>\n      <td>Yugoslavia</td>\n      <td>2–1</td>\n      <td>Brazil</td>\n      <td>1930</td>\n    </tr>\n    <tr>\n      <th>460</th>\n      <td>Uruguay</td>\n      <td>6–1</td>\n      <td>Yugoslavia</td>\n      <td>1930</td>\n    </tr>\n    <tr>\n      <th>459</th>\n      <td>Argentina</td>\n      <td>6–1</td>\n      <td>United States</td>\n      <td>1930</td>\n    </tr>\n    <tr>\n      <th>458</th>\n      <td>Paraguay</td>\n      <td>1–0</td>\n      <td>Belgium</td>\n      <td>1930</td>\n    </tr>\n    <tr>\n      <th>457</th>\n      <td>United States</td>\n      <td>3–0</td>\n      <td>Paraguay</td>\n      <td>1930</td>\n    </tr>\n    <tr>\n      <th>...</th>\n      <td>...</td>\n      <td>...</td>\n      <td>...</td>\n      <td>...</td>\n    </tr>\n    <tr>\n      <th>863</th>\n      <td>Brazil</td>\n      <td>2–0</td>\n      <td>Costa Rica</td>\n      <td>2018</td>\n    </tr>\n    <tr>\n      <th>864</th>\n      <td>Serbia</td>\n      <td>1–2</td>\n      <td>Switzerland</td>\n      <td>2018</td>\n    </tr>\n    <tr>\n      <th>865</th>\n      <td>Serbia</td>\n      <td>0–2</td>\n      <td>Brazil</td>\n      <td>2018</td>\n    </tr>\n    <tr>\n      <th>867</th>\n      <td>Germany</td>\n      <td>0–1</td>\n      <td>Mexico</td>\n      <td>2018</td>\n    </tr>\n    <tr>\n      <th>900</th>\n      <td>France</td>\n      <td>4–2</td>\n      <td>Croatia</td>\n      <td>2018</td>\n    </tr>\n  </tbody>\n</table>\n<p>901 rows × 4 columns</p>\n</div>"
     },
     "execution_count": 97,
     "metadata": {},
     "output_type": "execute_result"
    }
   ],
   "source": [
    "# eliminando datos duplicados\n",
    "df_data_historica.drop_duplicates(inplace=True)\n",
    "# Ordenando los datos por year\n",
    "df_data_historica.sort_values('year', inplace=True)\n",
    "# Mostrar los datos\n",
    "df_data_historica"
   ],
   "metadata": {
    "collapsed": false
   }
  },
  {
   "cell_type": "markdown",
   "source": [
    "## 4. Limpiando los datos historicos"
   ],
   "metadata": {
    "collapsed": false
   }
  },
  {
   "cell_type": "code",
   "execution_count": 98,
   "outputs": [
    {
     "data": {
      "text/plain": "        home         score           away  year\n467  Sweden            3–2      Argentina  1934\n490  Sweden            8–0           Cuba  1938\n481  Sweden         w/o[a]        Austria  1938\n511  Sweden            2–2       Paraguay  1950\n518  Sweden            3–1          Spain  1950\n510  Sweden            3–2          Italy  1950\n578  Sweden            3–1   West Germany  1958\n575  Sweden            2–0   Soviet Union  1958\n563  Sweden            0–0          Wales  1958\n559  Sweden            3–0         Mexico  1958\n562  Sweden            2–1        Hungary  1958\n9    Sweden            1–1         Israel  1970\n41   Sweden            3–0        Uruguay  1974\n37   Sweden            0–0       Bulgaria  1974\n59   Sweden            2–1     Yugoslavia  1974\n55   Sweden            0–1         Poland  1974\n197  Sweden            1–2     Costa Rica  1990\n195  Sweden            1–2       Scotland  1990\n225  Sweden            3–1         Russia  1994\n707  Sweden            4–0       Bulgaria  1994\n706  Sweden            0–1         Brazil  1994\n334  Sweden            1–1      Argentina  2002\n727  Sweden   1–2 (a.e.t.)        Senegal  2002\n332  Sweden            2–1        Nigeria  2002\n358  Sweden            2–2        England  2006\n357  Sweden            1–0       Paraguay  2006\n891  Sweden            1–0    Switzerland  2018\n895  Sweden            0–2        England  2018\n868  Sweden            1–0    South Korea  2018",
      "text/html": "<div>\n<style scoped>\n    .dataframe tbody tr th:only-of-type {\n        vertical-align: middle;\n    }\n\n    .dataframe tbody tr th {\n        vertical-align: top;\n    }\n\n    .dataframe thead th {\n        text-align: right;\n    }\n</style>\n<table border=\"1\" class=\"dataframe\">\n  <thead>\n    <tr style=\"text-align: right;\">\n      <th></th>\n      <th>home</th>\n      <th>score</th>\n      <th>away</th>\n      <th>year</th>\n    </tr>\n  </thead>\n  <tbody>\n    <tr>\n      <th>467</th>\n      <td>Sweden</td>\n      <td>3–2</td>\n      <td>Argentina</td>\n      <td>1934</td>\n    </tr>\n    <tr>\n      <th>490</th>\n      <td>Sweden</td>\n      <td>8–0</td>\n      <td>Cuba</td>\n      <td>1938</td>\n    </tr>\n    <tr>\n      <th>481</th>\n      <td>Sweden</td>\n      <td>w/o[a]</td>\n      <td>Austria</td>\n      <td>1938</td>\n    </tr>\n    <tr>\n      <th>511</th>\n      <td>Sweden</td>\n      <td>2–2</td>\n      <td>Paraguay</td>\n      <td>1950</td>\n    </tr>\n    <tr>\n      <th>518</th>\n      <td>Sweden</td>\n      <td>3–1</td>\n      <td>Spain</td>\n      <td>1950</td>\n    </tr>\n    <tr>\n      <th>510</th>\n      <td>Sweden</td>\n      <td>3–2</td>\n      <td>Italy</td>\n      <td>1950</td>\n    </tr>\n    <tr>\n      <th>578</th>\n      <td>Sweden</td>\n      <td>3–1</td>\n      <td>West Germany</td>\n      <td>1958</td>\n    </tr>\n    <tr>\n      <th>575</th>\n      <td>Sweden</td>\n      <td>2–0</td>\n      <td>Soviet Union</td>\n      <td>1958</td>\n    </tr>\n    <tr>\n      <th>563</th>\n      <td>Sweden</td>\n      <td>0–0</td>\n      <td>Wales</td>\n      <td>1958</td>\n    </tr>\n    <tr>\n      <th>559</th>\n      <td>Sweden</td>\n      <td>3–0</td>\n      <td>Mexico</td>\n      <td>1958</td>\n    </tr>\n    <tr>\n      <th>562</th>\n      <td>Sweden</td>\n      <td>2–1</td>\n      <td>Hungary</td>\n      <td>1958</td>\n    </tr>\n    <tr>\n      <th>9</th>\n      <td>Sweden</td>\n      <td>1–1</td>\n      <td>Israel</td>\n      <td>1970</td>\n    </tr>\n    <tr>\n      <th>41</th>\n      <td>Sweden</td>\n      <td>3–0</td>\n      <td>Uruguay</td>\n      <td>1974</td>\n    </tr>\n    <tr>\n      <th>37</th>\n      <td>Sweden</td>\n      <td>0–0</td>\n      <td>Bulgaria</td>\n      <td>1974</td>\n    </tr>\n    <tr>\n      <th>59</th>\n      <td>Sweden</td>\n      <td>2–1</td>\n      <td>Yugoslavia</td>\n      <td>1974</td>\n    </tr>\n    <tr>\n      <th>55</th>\n      <td>Sweden</td>\n      <td>0–1</td>\n      <td>Poland</td>\n      <td>1974</td>\n    </tr>\n    <tr>\n      <th>197</th>\n      <td>Sweden</td>\n      <td>1–2</td>\n      <td>Costa Rica</td>\n      <td>1990</td>\n    </tr>\n    <tr>\n      <th>195</th>\n      <td>Sweden</td>\n      <td>1–2</td>\n      <td>Scotland</td>\n      <td>1990</td>\n    </tr>\n    <tr>\n      <th>225</th>\n      <td>Sweden</td>\n      <td>3–1</td>\n      <td>Russia</td>\n      <td>1994</td>\n    </tr>\n    <tr>\n      <th>707</th>\n      <td>Sweden</td>\n      <td>4–0</td>\n      <td>Bulgaria</td>\n      <td>1994</td>\n    </tr>\n    <tr>\n      <th>706</th>\n      <td>Sweden</td>\n      <td>0–1</td>\n      <td>Brazil</td>\n      <td>1994</td>\n    </tr>\n    <tr>\n      <th>334</th>\n      <td>Sweden</td>\n      <td>1–1</td>\n      <td>Argentina</td>\n      <td>2002</td>\n    </tr>\n    <tr>\n      <th>727</th>\n      <td>Sweden</td>\n      <td>1–2 (a.e.t.)</td>\n      <td>Senegal</td>\n      <td>2002</td>\n    </tr>\n    <tr>\n      <th>332</th>\n      <td>Sweden</td>\n      <td>2–1</td>\n      <td>Nigeria</td>\n      <td>2002</td>\n    </tr>\n    <tr>\n      <th>358</th>\n      <td>Sweden</td>\n      <td>2–2</td>\n      <td>England</td>\n      <td>2006</td>\n    </tr>\n    <tr>\n      <th>357</th>\n      <td>Sweden</td>\n      <td>1–0</td>\n      <td>Paraguay</td>\n      <td>2006</td>\n    </tr>\n    <tr>\n      <th>891</th>\n      <td>Sweden</td>\n      <td>1–0</td>\n      <td>Switzerland</td>\n      <td>2018</td>\n    </tr>\n    <tr>\n      <th>895</th>\n      <td>Sweden</td>\n      <td>0–2</td>\n      <td>England</td>\n      <td>2018</td>\n    </tr>\n    <tr>\n      <th>868</th>\n      <td>Sweden</td>\n      <td>1–0</td>\n      <td>South Korea</td>\n      <td>2018</td>\n    </tr>\n  </tbody>\n</table>\n</div>"
     },
     "execution_count": 98,
     "metadata": {},
     "output_type": "execute_result"
    }
   ],
   "source": [
    "# buscamos los partidos que fueron ganado por walkover porque no nos darian datos exactos\n",
    "df_data_historica[df_data_historica['home'].str.contains('Sweden')]"
   ],
   "metadata": {
    "collapsed": false
   }
  },
  {
   "cell_type": "code",
   "execution_count": 99,
   "outputs": [],
   "source": [
    "index_eliminar = df_data_historica[df_data_historica['score'].str.contains(\"w\")].index"
   ],
   "metadata": {
    "collapsed": false
   }
  },
  {
   "cell_type": "code",
   "execution_count": 100,
   "outputs": [
    {
     "data": {
      "text/plain": "Int64Index([481], dtype='int64')"
     },
     "execution_count": 100,
     "metadata": {},
     "output_type": "execute_result"
    }
   ],
   "source": [
    "index_eliminar"
   ],
   "metadata": {
    "collapsed": false
   }
  },
  {
   "cell_type": "code",
   "execution_count": 101,
   "outputs": [],
   "source": [
    "df_data_historica.drop(index = index_eliminar, inplace=True)"
   ],
   "metadata": {
    "collapsed": false
   }
  },
  {
   "cell_type": "code",
   "execution_count": 102,
   "outputs": [],
   "source": [
    "# buscando por expresiones regulares\n",
    "# df_data_historica[df_data_historica['score'].str.contains('[^\\d-]')]\n",
    "\n",
    "# remplazamos todos los que no está en nuestra expression regular\n",
    "df_data_historica['score'] = df_data_historica['score'].str.replace('[^\\d–]', '', regex=True)"
   ],
   "metadata": {
    "collapsed": false
   }
  },
  {
   "cell_type": "code",
   "execution_count": 103,
   "outputs": [
    {
     "data": {
      "text/plain": "Empty DataFrame\nColumns: [home, score, away, year]\nIndex: []",
      "text/html": "<div>\n<style scoped>\n    .dataframe tbody tr th:only-of-type {\n        vertical-align: middle;\n    }\n\n    .dataframe tbody tr th {\n        vertical-align: top;\n    }\n\n    .dataframe thead th {\n        text-align: right;\n    }\n</style>\n<table border=\"1\" class=\"dataframe\">\n  <thead>\n    <tr style=\"text-align: right;\">\n      <th></th>\n      <th>home</th>\n      <th>score</th>\n      <th>away</th>\n      <th>year</th>\n    </tr>\n  </thead>\n  <tbody>\n  </tbody>\n</table>\n</div>"
     },
     "execution_count": 103,
     "metadata": {},
     "output_type": "execute_result"
    }
   ],
   "source": [
    "df_data_historica[df_data_historica['score'].str.contains('[^\\d–]')]"
   ],
   "metadata": {
    "collapsed": false
   }
  },
  {
   "cell_type": "code",
   "execution_count": 104,
   "outputs": [],
   "source": [
    "df_data_historica[['home_goals', 'away_goals']] = df_data_historica['score'].str.split('–', expand=True)"
   ],
   "metadata": {
    "collapsed": false
   }
  },
  {
   "cell_type": "code",
   "execution_count": 105,
   "outputs": [
    {
     "data": {
      "text/plain": "               home score            away  year home_goals away_goals\n450     Yugoslavia    2–1          Brazil  1930          2          1\n460        Uruguay    6–1      Yugoslavia  1930          6          1\n459      Argentina    6–1   United States  1930          6          1\n458       Paraguay    1–0         Belgium  1930          1          0\n457  United States    3–0        Paraguay  1930          3          0\n..              ...   ...             ...   ...        ...        ...\n863         Brazil    2–0      Costa Rica  2018          2          0\n864         Serbia    1–2     Switzerland  2018          1          2\n865         Serbia    0–2          Brazil  2018          0          2\n867        Germany    0–1          Mexico  2018          0          1\n900         France    4–2         Croatia  2018          4          2\n\n[900 rows x 6 columns]",
      "text/html": "<div>\n<style scoped>\n    .dataframe tbody tr th:only-of-type {\n        vertical-align: middle;\n    }\n\n    .dataframe tbody tr th {\n        vertical-align: top;\n    }\n\n    .dataframe thead th {\n        text-align: right;\n    }\n</style>\n<table border=\"1\" class=\"dataframe\">\n  <thead>\n    <tr style=\"text-align: right;\">\n      <th></th>\n      <th>home</th>\n      <th>score</th>\n      <th>away</th>\n      <th>year</th>\n      <th>home_goals</th>\n      <th>away_goals</th>\n    </tr>\n  </thead>\n  <tbody>\n    <tr>\n      <th>450</th>\n      <td>Yugoslavia</td>\n      <td>2–1</td>\n      <td>Brazil</td>\n      <td>1930</td>\n      <td>2</td>\n      <td>1</td>\n    </tr>\n    <tr>\n      <th>460</th>\n      <td>Uruguay</td>\n      <td>6–1</td>\n      <td>Yugoslavia</td>\n      <td>1930</td>\n      <td>6</td>\n      <td>1</td>\n    </tr>\n    <tr>\n      <th>459</th>\n      <td>Argentina</td>\n      <td>6–1</td>\n      <td>United States</td>\n      <td>1930</td>\n      <td>6</td>\n      <td>1</td>\n    </tr>\n    <tr>\n      <th>458</th>\n      <td>Paraguay</td>\n      <td>1–0</td>\n      <td>Belgium</td>\n      <td>1930</td>\n      <td>1</td>\n      <td>0</td>\n    </tr>\n    <tr>\n      <th>457</th>\n      <td>United States</td>\n      <td>3–0</td>\n      <td>Paraguay</td>\n      <td>1930</td>\n      <td>3</td>\n      <td>0</td>\n    </tr>\n    <tr>\n      <th>...</th>\n      <td>...</td>\n      <td>...</td>\n      <td>...</td>\n      <td>...</td>\n      <td>...</td>\n      <td>...</td>\n    </tr>\n    <tr>\n      <th>863</th>\n      <td>Brazil</td>\n      <td>2–0</td>\n      <td>Costa Rica</td>\n      <td>2018</td>\n      <td>2</td>\n      <td>0</td>\n    </tr>\n    <tr>\n      <th>864</th>\n      <td>Serbia</td>\n      <td>1–2</td>\n      <td>Switzerland</td>\n      <td>2018</td>\n      <td>1</td>\n      <td>2</td>\n    </tr>\n    <tr>\n      <th>865</th>\n      <td>Serbia</td>\n      <td>0–2</td>\n      <td>Brazil</td>\n      <td>2018</td>\n      <td>0</td>\n      <td>2</td>\n    </tr>\n    <tr>\n      <th>867</th>\n      <td>Germany</td>\n      <td>0–1</td>\n      <td>Mexico</td>\n      <td>2018</td>\n      <td>0</td>\n      <td>1</td>\n    </tr>\n    <tr>\n      <th>900</th>\n      <td>France</td>\n      <td>4–2</td>\n      <td>Croatia</td>\n      <td>2018</td>\n      <td>4</td>\n      <td>2</td>\n    </tr>\n  </tbody>\n</table>\n<p>900 rows × 6 columns</p>\n</div>"
     },
     "execution_count": 105,
     "metadata": {},
     "output_type": "execute_result"
    }
   ],
   "source": [
    "df_data_historica"
   ],
   "metadata": {
    "collapsed": false
   }
  },
  {
   "cell_type": "code",
   "execution_count": 106,
   "outputs": [],
   "source": [
    "# Eliminamos la columna score porque ya fue dividido\n",
    "df_data_historica.drop('score', axis=1, inplace=True)"
   ],
   "metadata": {
    "collapsed": false
   }
  },
  {
   "cell_type": "code",
   "execution_count": 107,
   "outputs": [],
   "source": [
    "# renombramos los titulos\n",
    "df_data_historica.rename(columns={'home':'local_team', 'away':'visit_team', 'home_goals':'local_goals', 'away_goals':'visit_goals'}, inplace=True)"
   ],
   "metadata": {
    "collapsed": false
   }
  },
  {
   "cell_type": "code",
   "execution_count": 108,
   "outputs": [
    {
     "data": {
      "text/plain": "local_team     object\nvisit_team     object\nyear            int64\nlocal_goals    object\nvisit_goals    object\ndtype: object"
     },
     "execution_count": 108,
     "metadata": {},
     "output_type": "execute_result"
    }
   ],
   "source": [
    "# para visualizar los tipos de datos de las series\n",
    "df_data_historica.dtypes"
   ],
   "metadata": {
    "collapsed": false
   }
  },
  {
   "cell_type": "code",
   "execution_count": 109,
   "outputs": [],
   "source": [
    "# para cambiar el tipo de dato\n",
    "df_data_historica = df_data_historica.astype({'local_goals':int, 'visit_goals':int})"
   ],
   "metadata": {
    "collapsed": false
   }
  },
  {
   "cell_type": "code",
   "execution_count": 110,
   "outputs": [],
   "source": [
    "# creamos una nueva columna con el total de goles por partido\n",
    "df_data_historica['total_goals'] = df_data_historica['local_goals'] + df_data_historica['visit_goals']"
   ],
   "metadata": {
    "collapsed": false
   }
  },
  {
   "cell_type": "code",
   "execution_count": 111,
   "outputs": [
    {
     "data": {
      "text/plain": "         local_team      visit_team  year  local_goals  visit_goals  \\\n450     Yugoslavia           Brazil  1930            2            1   \n460        Uruguay       Yugoslavia  1930            6            1   \n459      Argentina    United States  1930            6            1   \n458       Paraguay          Belgium  1930            1            0   \n457  United States         Paraguay  1930            3            0   \n..              ...             ...   ...          ...          ...   \n863         Brazil       Costa Rica  2018            2            0   \n864         Serbia      Switzerland  2018            1            2   \n865         Serbia           Brazil  2018            0            2   \n867        Germany           Mexico  2018            0            1   \n900         France          Croatia  2018            4            2   \n\n     total_goals  \n450            3  \n460            7  \n459            7  \n458            1  \n457            3  \n..           ...  \n863            2  \n864            3  \n865            2  \n867            1  \n900            6  \n\n[900 rows x 6 columns]",
      "text/html": "<div>\n<style scoped>\n    .dataframe tbody tr th:only-of-type {\n        vertical-align: middle;\n    }\n\n    .dataframe tbody tr th {\n        vertical-align: top;\n    }\n\n    .dataframe thead th {\n        text-align: right;\n    }\n</style>\n<table border=\"1\" class=\"dataframe\">\n  <thead>\n    <tr style=\"text-align: right;\">\n      <th></th>\n      <th>local_team</th>\n      <th>visit_team</th>\n      <th>year</th>\n      <th>local_goals</th>\n      <th>visit_goals</th>\n      <th>total_goals</th>\n    </tr>\n  </thead>\n  <tbody>\n    <tr>\n      <th>450</th>\n      <td>Yugoslavia</td>\n      <td>Brazil</td>\n      <td>1930</td>\n      <td>2</td>\n      <td>1</td>\n      <td>3</td>\n    </tr>\n    <tr>\n      <th>460</th>\n      <td>Uruguay</td>\n      <td>Yugoslavia</td>\n      <td>1930</td>\n      <td>6</td>\n      <td>1</td>\n      <td>7</td>\n    </tr>\n    <tr>\n      <th>459</th>\n      <td>Argentina</td>\n      <td>United States</td>\n      <td>1930</td>\n      <td>6</td>\n      <td>1</td>\n      <td>7</td>\n    </tr>\n    <tr>\n      <th>458</th>\n      <td>Paraguay</td>\n      <td>Belgium</td>\n      <td>1930</td>\n      <td>1</td>\n      <td>0</td>\n      <td>1</td>\n    </tr>\n    <tr>\n      <th>457</th>\n      <td>United States</td>\n      <td>Paraguay</td>\n      <td>1930</td>\n      <td>3</td>\n      <td>0</td>\n      <td>3</td>\n    </tr>\n    <tr>\n      <th>...</th>\n      <td>...</td>\n      <td>...</td>\n      <td>...</td>\n      <td>...</td>\n      <td>...</td>\n      <td>...</td>\n    </tr>\n    <tr>\n      <th>863</th>\n      <td>Brazil</td>\n      <td>Costa Rica</td>\n      <td>2018</td>\n      <td>2</td>\n      <td>0</td>\n      <td>2</td>\n    </tr>\n    <tr>\n      <th>864</th>\n      <td>Serbia</td>\n      <td>Switzerland</td>\n      <td>2018</td>\n      <td>1</td>\n      <td>2</td>\n      <td>3</td>\n    </tr>\n    <tr>\n      <th>865</th>\n      <td>Serbia</td>\n      <td>Brazil</td>\n      <td>2018</td>\n      <td>0</td>\n      <td>2</td>\n      <td>2</td>\n    </tr>\n    <tr>\n      <th>867</th>\n      <td>Germany</td>\n      <td>Mexico</td>\n      <td>2018</td>\n      <td>0</td>\n      <td>1</td>\n      <td>1</td>\n    </tr>\n    <tr>\n      <th>900</th>\n      <td>France</td>\n      <td>Croatia</td>\n      <td>2018</td>\n      <td>4</td>\n      <td>2</td>\n      <td>6</td>\n    </tr>\n  </tbody>\n</table>\n<p>900 rows × 6 columns</p>\n</div>"
     },
     "execution_count": 111,
     "metadata": {},
     "output_type": "execute_result"
    }
   ],
   "source": [
    "df_data_historica"
   ],
   "metadata": {
    "collapsed": false
   }
  },
  {
   "cell_type": "markdown",
   "source": [
    "## 5. Exportar datos limpios"
   ],
   "metadata": {
    "collapsed": false
   }
  },
  {
   "cell_type": "code",
   "execution_count": 112,
   "outputs": [],
   "source": [
    "df_data_historica.to_csv('data/fifa_worldcup_matches_clean.csv', index=False)\n",
    "df_fixture.to_csv('data/fifa_worldcup_fixture_clean.csv', index=False)"
   ],
   "metadata": {
    "collapsed": false
   }
  },
  {
   "cell_type": "code",
   "execution_count": 113,
   "outputs": [],
   "source": [
    "years = df_data_historica['year'].unique()"
   ],
   "metadata": {
    "collapsed": false
   }
  },
  {
   "cell_type": "code",
   "execution_count": 117,
   "outputs": [
    {
     "name": "stdout",
     "output_type": "stream",
     "text": [
      "1930 18\n",
      "1934 17\n",
      "1938 18\n",
      "1950 22\n",
      "1954 26\n",
      "1958 35\n",
      "1962 32\n",
      "1966 32\n",
      "1970 32\n",
      "1974 38\n",
      "1978 38\n",
      "1982 52\n",
      "1986 52\n",
      "1990 52\n",
      "1994 52\n",
      "1998 64\n",
      "2002 64\n",
      "2006 64\n",
      "2010 64\n",
      "2014 64\n",
      "2018 64\n"
     ]
    }
   ],
   "source": [
    "for year in years:\n",
    "    print(year, len(df_data_historica[df_data_historica['year'] == year]))"
   ],
   "metadata": {
    "collapsed": false
   }
  },
  {
   "cell_type": "code",
   "execution_count": null,
   "outputs": [],
   "source": [],
   "metadata": {
    "collapsed": false
   }
  }
 ],
 "metadata": {
  "kernelspec": {
   "display_name": "Python 3",
   "language": "python",
   "name": "python3"
  },
  "language_info": {
   "codemirror_mode": {
    "name": "ipython",
    "version": 2
   },
   "file_extension": ".py",
   "mimetype": "text/x-python",
   "name": "python",
   "nbconvert_exporter": "python",
   "pygments_lexer": "ipython2",
   "version": "2.7.6"
  }
 },
 "nbformat": 4,
 "nbformat_minor": 0
}

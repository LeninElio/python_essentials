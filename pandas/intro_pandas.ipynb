{
 "cells": [
  {
   "cell_type": "code",
   "execution_count": 2,
   "metadata": {
    "collapsed": true
   },
   "outputs": [],
   "source": [
    "import pandas as pd"
   ]
  },
  {
   "cell_type": "markdown",
   "source": [
    "## 1. Limpiando los datos"
   ],
   "metadata": {
    "collapsed": false
   }
  },
  {
   "cell_type": "code",
   "execution_count": 7,
   "outputs": [],
   "source": [
    "df_data_matches = pd.read_csv('data/fifa_worldcup_matches.csv')\n",
    "df_fixture = pd.read_csv('data/fifa_worldcup_fixture.csv')\n",
    "df_data_faltante = pd.read_csv('data/fifa_worldcup_missing_data.csv')"
   ],
   "metadata": {
    "collapsed": false
   }
  },
  {
   "cell_type": "code",
   "execution_count": 10,
   "outputs": [
    {
     "data": {
      "text/plain": "                home     score              away  year\n0             Qatar    Match 1           Ecuador  2022\n1           Senegal    Match 2       Netherlands  2022\n2             Qatar   Match 18           Senegal  2022\n3       Netherlands   Match 19           Ecuador  2022\n4           Ecuador   Match 35           Senegal  2022\n..               ...       ...               ...   ...\n59  Winners Match 51  Match 59  Winners Match 52  2022\n60  Winners Match 57  Match 61  Winners Match 58  2022\n61  Winners Match 59  Match 62  Winners Match 60  2022\n62   Losers Match 61  Match 63   Losers Match 62  2022\n63  Winners Match 61  Match 64  Winners Match 62  2022\n\n[64 rows x 4 columns]",
      "text/html": "<div>\n<style scoped>\n    .dataframe tbody tr th:only-of-type {\n        vertical-align: middle;\n    }\n\n    .dataframe tbody tr th {\n        vertical-align: top;\n    }\n\n    .dataframe thead th {\n        text-align: right;\n    }\n</style>\n<table border=\"1\" class=\"dataframe\">\n  <thead>\n    <tr style=\"text-align: right;\">\n      <th></th>\n      <th>home</th>\n      <th>score</th>\n      <th>away</th>\n      <th>year</th>\n    </tr>\n  </thead>\n  <tbody>\n    <tr>\n      <th>0</th>\n      <td>Qatar</td>\n      <td>Match 1</td>\n      <td>Ecuador</td>\n      <td>2022</td>\n    </tr>\n    <tr>\n      <th>1</th>\n      <td>Senegal</td>\n      <td>Match 2</td>\n      <td>Netherlands</td>\n      <td>2022</td>\n    </tr>\n    <tr>\n      <th>2</th>\n      <td>Qatar</td>\n      <td>Match 18</td>\n      <td>Senegal</td>\n      <td>2022</td>\n    </tr>\n    <tr>\n      <th>3</th>\n      <td>Netherlands</td>\n      <td>Match 19</td>\n      <td>Ecuador</td>\n      <td>2022</td>\n    </tr>\n    <tr>\n      <th>4</th>\n      <td>Ecuador</td>\n      <td>Match 35</td>\n      <td>Senegal</td>\n      <td>2022</td>\n    </tr>\n    <tr>\n      <th>...</th>\n      <td>...</td>\n      <td>...</td>\n      <td>...</td>\n      <td>...</td>\n    </tr>\n    <tr>\n      <th>59</th>\n      <td>Winners Match 51</td>\n      <td>Match 59</td>\n      <td>Winners Match 52</td>\n      <td>2022</td>\n    </tr>\n    <tr>\n      <th>60</th>\n      <td>Winners Match 57</td>\n      <td>Match 61</td>\n      <td>Winners Match 58</td>\n      <td>2022</td>\n    </tr>\n    <tr>\n      <th>61</th>\n      <td>Winners Match 59</td>\n      <td>Match 62</td>\n      <td>Winners Match 60</td>\n      <td>2022</td>\n    </tr>\n    <tr>\n      <th>62</th>\n      <td>Losers Match 61</td>\n      <td>Match 63</td>\n      <td>Losers Match 62</td>\n      <td>2022</td>\n    </tr>\n    <tr>\n      <th>63</th>\n      <td>Winners Match 61</td>\n      <td>Match 64</td>\n      <td>Winners Match 62</td>\n      <td>2022</td>\n    </tr>\n  </tbody>\n</table>\n<p>64 rows × 4 columns</p>\n</div>"
     },
     "execution_count": 10,
     "metadata": {},
     "output_type": "execute_result"
    }
   ],
   "source": [
    "# df_data_matches\n",
    "df_fixture\n",
    "# df_data_faltante"
   ],
   "metadata": {
    "collapsed": false
   }
  },
  {
   "cell_type": "markdown",
   "source": [
    "## 2. Limpiando df_fixture"
   ],
   "metadata": {
    "collapsed": false
   }
  },
  {
   "cell_type": "code",
   "execution_count": null,
   "outputs": [],
   "source": [],
   "metadata": {
    "collapsed": false
   }
  }
 ],
 "metadata": {
  "kernelspec": {
   "display_name": "Python 3",
   "language": "python",
   "name": "python3"
  },
  "language_info": {
   "codemirror_mode": {
    "name": "ipython",
    "version": 2
   },
   "file_extension": ".py",
   "mimetype": "text/x-python",
   "name": "python",
   "nbconvert_exporter": "python",
   "pygments_lexer": "ipython2",
   "version": "2.7.6"
  }
 },
 "nbformat": 4,
 "nbformat_minor": 0
}

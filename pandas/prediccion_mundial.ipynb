{
 "cells": [
  {
   "cell_type": "code",
   "execution_count": 1,
   "metadata": {
    "collapsed": true
   },
   "outputs": [],
   "source": [
    "import pandas as pd\n",
    "import pickle\n",
    "from scipy.stats import poisson"
   ]
  },
  {
   "cell_type": "code",
   "execution_count": 2,
   "outputs": [],
   "source": [
    "dict_table = pickle.load(open('data/dict_table', 'rb'))\n",
    "df_historical_data = pd.read_csv('data/fifa_worldcup_matches_clean.csv')\n",
    "df_fixture = pd.read_csv('data/fifa_worldcup_fixture_clean.csv')"
   ],
   "metadata": {
    "collapsed": false
   }
  },
  {
   "cell_type": "markdown",
   "source": [
    "## 1. Calcular team strength (fuerza de un equipo)"
   ],
   "metadata": {
    "collapsed": false
   }
  },
  {
   "cell_type": "code",
   "execution_count": 3,
   "outputs": [
    {
     "data": {
      "text/plain": "{'Group A':    Pos         Team  Pld  W  D  L  GF  GA  GD  Pts\n 0    1    Qatar (H)    0  0  0  0   0   0   0    0\n 1    2      Ecuador    0  0  0  0   0   0   0    0\n 2    3      Senegal    0  0  0  0   0   0   0    0\n 3    4  Netherlands    0  0  0  0   0   0   0    0,\n 'Group B':    Pos           Team  Pld  W  D  L  GF  GA  GD  Pts\n 0    1        England    0  0  0  0   0   0   0    0\n 1    2           Iran    0  0  0  0   0   0   0    0\n 2    3  United States    0  0  0  0   0   0   0    0\n 3    4          Wales    0  0  0  0   0   0   0    0,\n 'Group C':    Pos          Team  Pld  W  D  L  GF  GA  GD  Pts\n 0    1     Argentina    0  0  0  0   0   0   0    0\n 1    2  Saudi Arabia    0  0  0  0   0   0   0    0\n 2    3        Mexico    0  0  0  0   0   0   0    0\n 3    4        Poland    0  0  0  0   0   0   0    0,\n 'Group D':    Pos       Team  Pld  W  D  L  GF  GA  GD  Pts\n 0    1     France    0  0  0  0   0   0   0    0\n 1    2  Australia    0  0  0  0   0   0   0    0\n 2    3    Denmark    0  0  0  0   0   0   0    0\n 3    4    Tunisia    0  0  0  0   0   0   0    0,\n 'Group E':    Pos        Team  Pld  W  D  L  GF  GA  GD  Pts\n 0    1       Spain    0  0  0  0   0   0   0    0\n 1    2  Costa Rica    0  0  0  0   0   0   0    0\n 2    3     Germany    0  0  0  0   0   0   0    0\n 3    4       Japan    0  0  0  0   0   0   0    0,\n 'Group F':    Pos     Team  Pld  W  D  L  GF  GA  GD  Pts\n 0    1  Belgium    0  0  0  0   0   0   0    0\n 1    2   Canada    0  0  0  0   0   0   0    0\n 2    3  Morocco    0  0  0  0   0   0   0    0\n 3    4  Croatia    0  0  0  0   0   0   0    0,\n 'Group G':    Pos         Team  Pld  W  D  L  GF  GA  GD  Pts\n 0    1       Brazil    0  0  0  0   0   0   0    0\n 1    2       Serbia    0  0  0  0   0   0   0    0\n 2    3  Switzerland    0  0  0  0   0   0   0    0\n 3    4     Cameroon    0  0  0  0   0   0   0    0,\n 'Group H':    Pos         Team  Pld  W  D  L  GF  GA  GD  Pts\n 0    1     Portugal    0  0  0  0   0   0   0    0\n 1    2        Ghana    0  0  0  0   0   0   0    0\n 2    3      Uruguay    0  0  0  0   0   0   0    0\n 3    4  South Korea    0  0  0  0   0   0   0    0}"
     },
     "execution_count": 3,
     "metadata": {},
     "output_type": "execute_result"
    }
   ],
   "source": [
    "dict_table"
   ],
   "metadata": {
    "collapsed": false
   }
  },
  {
   "cell_type": "code",
   "execution_count": 4,
   "outputs": [
    {
     "data": {
      "text/plain": "         local_team      visit_team  year  local_goals  visit_goals  \\\n0       Yugoslavia           Brazil  1930            2            1   \n1          Uruguay       Yugoslavia  1930            6            1   \n2        Argentina    United States  1930            6            1   \n3         Paraguay          Belgium  1930            1            0   \n4    United States         Paraguay  1930            3            0   \n..              ...             ...   ...          ...          ...   \n895         Brazil       Costa Rica  2018            2            0   \n896         Serbia      Switzerland  2018            1            2   \n897         Serbia           Brazil  2018            0            2   \n898        Germany           Mexico  2018            0            1   \n899         France          Croatia  2018            4            2   \n\n     total_goals  \n0              3  \n1              7  \n2              7  \n3              1  \n4              3  \n..           ...  \n895            2  \n896            3  \n897            2  \n898            1  \n899            6  \n\n[900 rows x 6 columns]",
      "text/html": "<div>\n<style scoped>\n    .dataframe tbody tr th:only-of-type {\n        vertical-align: middle;\n    }\n\n    .dataframe tbody tr th {\n        vertical-align: top;\n    }\n\n    .dataframe thead th {\n        text-align: right;\n    }\n</style>\n<table border=\"1\" class=\"dataframe\">\n  <thead>\n    <tr style=\"text-align: right;\">\n      <th></th>\n      <th>local_team</th>\n      <th>visit_team</th>\n      <th>year</th>\n      <th>local_goals</th>\n      <th>visit_goals</th>\n      <th>total_goals</th>\n    </tr>\n  </thead>\n  <tbody>\n    <tr>\n      <th>0</th>\n      <td>Yugoslavia</td>\n      <td>Brazil</td>\n      <td>1930</td>\n      <td>2</td>\n      <td>1</td>\n      <td>3</td>\n    </tr>\n    <tr>\n      <th>1</th>\n      <td>Uruguay</td>\n      <td>Yugoslavia</td>\n      <td>1930</td>\n      <td>6</td>\n      <td>1</td>\n      <td>7</td>\n    </tr>\n    <tr>\n      <th>2</th>\n      <td>Argentina</td>\n      <td>United States</td>\n      <td>1930</td>\n      <td>6</td>\n      <td>1</td>\n      <td>7</td>\n    </tr>\n    <tr>\n      <th>3</th>\n      <td>Paraguay</td>\n      <td>Belgium</td>\n      <td>1930</td>\n      <td>1</td>\n      <td>0</td>\n      <td>1</td>\n    </tr>\n    <tr>\n      <th>4</th>\n      <td>United States</td>\n      <td>Paraguay</td>\n      <td>1930</td>\n      <td>3</td>\n      <td>0</td>\n      <td>3</td>\n    </tr>\n    <tr>\n      <th>...</th>\n      <td>...</td>\n      <td>...</td>\n      <td>...</td>\n      <td>...</td>\n      <td>...</td>\n      <td>...</td>\n    </tr>\n    <tr>\n      <th>895</th>\n      <td>Brazil</td>\n      <td>Costa Rica</td>\n      <td>2018</td>\n      <td>2</td>\n      <td>0</td>\n      <td>2</td>\n    </tr>\n    <tr>\n      <th>896</th>\n      <td>Serbia</td>\n      <td>Switzerland</td>\n      <td>2018</td>\n      <td>1</td>\n      <td>2</td>\n      <td>3</td>\n    </tr>\n    <tr>\n      <th>897</th>\n      <td>Serbia</td>\n      <td>Brazil</td>\n      <td>2018</td>\n      <td>0</td>\n      <td>2</td>\n      <td>2</td>\n    </tr>\n    <tr>\n      <th>898</th>\n      <td>Germany</td>\n      <td>Mexico</td>\n      <td>2018</td>\n      <td>0</td>\n      <td>1</td>\n      <td>1</td>\n    </tr>\n    <tr>\n      <th>899</th>\n      <td>France</td>\n      <td>Croatia</td>\n      <td>2018</td>\n      <td>4</td>\n      <td>2</td>\n      <td>6</td>\n    </tr>\n  </tbody>\n</table>\n<p>900 rows × 6 columns</p>\n</div>"
     },
     "execution_count": 4,
     "metadata": {},
     "output_type": "execute_result"
    }
   ],
   "source": [
    "df_historical_data"
   ],
   "metadata": {
    "collapsed": false
   }
  },
  {
   "cell_type": "code",
   "execution_count": 5,
   "outputs": [],
   "source": [
    "# creamos dos dataframe para equipo local y equipo visitante\n",
    "df_local = df_historical_data[['local_team', 'local_goals', 'visit_goals']]\n",
    "df_visit = df_historical_data[['visit_team', 'local_goals', 'visit_goals']]"
   ],
   "metadata": {
    "collapsed": false
   }
  },
  {
   "cell_type": "code",
   "execution_count": 6,
   "outputs": [],
   "source": [
    "# renombramos las columnas\n",
    "df_local = df_local.rename(columns={'local_team': 'team', 'local_goals': 'goals_scored', 'visit_goals': 'goals_conceded'})\n",
    "df_visit = df_visit.rename(columns={'visit_team': 'team', 'local_goals': 'goals_conceded', 'visit_goals': 'goals_scored'})"
   ],
   "metadata": {
    "collapsed": false
   }
  },
  {
   "cell_type": "code",
   "execution_count": 7,
   "outputs": [
    {
     "data": {
      "text/plain": "               team  goals_scored  goals_conceded\n0       Yugoslavia              2               1\n1          Uruguay              6               1\n2        Argentina              6               1\n3         Paraguay              1               0\n4    United States              3               0\n..              ...           ...             ...\n895         Brazil              2               0\n896         Serbia              1               2\n897         Serbia              0               2\n898        Germany              0               1\n899         France              4               2\n\n[900 rows x 3 columns]",
      "text/html": "<div>\n<style scoped>\n    .dataframe tbody tr th:only-of-type {\n        vertical-align: middle;\n    }\n\n    .dataframe tbody tr th {\n        vertical-align: top;\n    }\n\n    .dataframe thead th {\n        text-align: right;\n    }\n</style>\n<table border=\"1\" class=\"dataframe\">\n  <thead>\n    <tr style=\"text-align: right;\">\n      <th></th>\n      <th>team</th>\n      <th>goals_scored</th>\n      <th>goals_conceded</th>\n    </tr>\n  </thead>\n  <tbody>\n    <tr>\n      <th>0</th>\n      <td>Yugoslavia</td>\n      <td>2</td>\n      <td>1</td>\n    </tr>\n    <tr>\n      <th>1</th>\n      <td>Uruguay</td>\n      <td>6</td>\n      <td>1</td>\n    </tr>\n    <tr>\n      <th>2</th>\n      <td>Argentina</td>\n      <td>6</td>\n      <td>1</td>\n    </tr>\n    <tr>\n      <th>3</th>\n      <td>Paraguay</td>\n      <td>1</td>\n      <td>0</td>\n    </tr>\n    <tr>\n      <th>4</th>\n      <td>United States</td>\n      <td>3</td>\n      <td>0</td>\n    </tr>\n    <tr>\n      <th>...</th>\n      <td>...</td>\n      <td>...</td>\n      <td>...</td>\n    </tr>\n    <tr>\n      <th>895</th>\n      <td>Brazil</td>\n      <td>2</td>\n      <td>0</td>\n    </tr>\n    <tr>\n      <th>896</th>\n      <td>Serbia</td>\n      <td>1</td>\n      <td>2</td>\n    </tr>\n    <tr>\n      <th>897</th>\n      <td>Serbia</td>\n      <td>0</td>\n      <td>2</td>\n    </tr>\n    <tr>\n      <th>898</th>\n      <td>Germany</td>\n      <td>0</td>\n      <td>1</td>\n    </tr>\n    <tr>\n      <th>899</th>\n      <td>France</td>\n      <td>4</td>\n      <td>2</td>\n    </tr>\n  </tbody>\n</table>\n<p>900 rows × 3 columns</p>\n</div>"
     },
     "execution_count": 7,
     "metadata": {},
     "output_type": "execute_result"
    }
   ],
   "source": [
    "df_local"
   ],
   "metadata": {
    "collapsed": false
   }
  },
  {
   "cell_type": "code",
   "execution_count": 8,
   "outputs": [],
   "source": [
    "# unimos ambos, agrupamos por equipo y hallamos el promedio\n",
    "df_team_strength = pd.concat([df_local, df_visit], ignore_index=True)"
   ],
   "metadata": {
    "collapsed": false
   }
  },
  {
   "cell_type": "code",
   "execution_count": 9,
   "outputs": [],
   "source": [
    "df_team_strength = df_team_strength.groupby('team').mean()"
   ],
   "metadata": {
    "collapsed": false
   }
  },
  {
   "cell_type": "code",
   "execution_count": 10,
   "outputs": [],
   "source": [
    "df_team_strength.index = df_team_strength.index.str.strip()"
   ],
   "metadata": {
    "collapsed": false
   }
  },
  {
   "cell_type": "code",
   "execution_count": 11,
   "outputs": [],
   "source": [
    "df_team_strength = df_team_strength.groupby('team').mean()"
   ],
   "metadata": {
    "collapsed": false
   }
  },
  {
   "cell_type": "markdown",
   "source": [
    "## 2. Function predict_points"
   ],
   "metadata": {
    "collapsed": false
   }
  },
  {
   "cell_type": "code",
   "execution_count": 12,
   "outputs": [],
   "source": [
    "def predict_points(local, visit):\n",
    "    if local in df_team_strength.index and visit in df_team_strength.index:\n",
    "        lamb_local = df_team_strength.at[local, 'goals_scored'] * df_team_strength.at[visit, 'goals_conceded']\n",
    "        lamb_visit = df_team_strength.at[visit, 'goals_scored'] * df_team_strength.at[local, 'goals_conceded']\n",
    "        prob_local, prob_visit, prob_draw = 0, 0, 0\n",
    "        for x in range(0, 11):\n",
    "            for y in range(0, 11):\n",
    "                p = poisson.pmf(x, lamb_local) * poisson.pmf(y, lamb_visit)\n",
    "                if x == y:\n",
    "                    prob_draw += p\n",
    "                elif x > y:\n",
    "                    prob_local += p\n",
    "                else:\n",
    "                    prob_visit += p\n",
    "\n",
    "        points_local = 3 * prob_local + prob_draw\n",
    "        points_visit = 3 * prob_visit + prob_draw\n",
    "\n",
    "        return points_local, points_visit\n",
    "    else:\n",
    "        return 0, 0"
   ],
   "metadata": {
    "collapsed": false
   }
  },
  {
   "cell_type": "markdown",
   "source": [
    "## 3. Probando la funcion"
   ],
   "metadata": {
    "collapsed": false
   }
  },
  {
   "cell_type": "code",
   "execution_count": 13,
   "outputs": [
    {
     "data": {
      "text/plain": "(2.185111845736514, 0.6271253198165162)"
     },
     "execution_count": 13,
     "metadata": {},
     "output_type": "execute_result"
    }
   ],
   "source": [
    "predict_points('Argentina', 'Mexico')\n",
    "predict_points('England', 'United States')"
   ],
   "metadata": {
    "collapsed": false
   }
  },
  {
   "cell_type": "code",
   "execution_count": 14,
   "outputs": [
    {
     "data": {
      "text/plain": "Index(['Algeria', 'Angola', 'Argentina', 'Australia', 'Austria', 'Belgium',\n       'Bolivia', 'Bosnia and Herzegovina', 'Brazil', 'Bulgaria', 'Cameroon',\n       'Canada', 'Chile', 'China', 'Colombia', 'Costa Rica', 'Croatia', 'Cuba',\n       'Czech Republic', 'Czechoslovakia', 'Denmark', 'Dutch East Indies',\n       'East Germany', 'Ecuador', 'Egypt', 'El Salvador', 'England',\n       'FR Yugoslavia', 'France', 'Germany', 'Ghana', 'Greece', 'Haiti',\n       'Honduras', 'Hungary', 'Iceland', 'Iran', 'Iraq', 'Israel', 'Italy',\n       'Ivory Coast', 'Jamaica', 'Japan', 'Kuwait', 'Mexico', 'Morocco',\n       'Netherlands', 'New Zealand', 'Nigeria', 'North Korea',\n       'Northern Ireland', 'Norway', 'Panama', 'Paraguay', 'Peru', 'Poland',\n       'Portugal', 'Republic of Ireland', 'Romania', 'Russia', 'Saudi Arabia',\n       'Scotland', 'Senegal', 'Serbia', 'Serbia and Montenegro', 'Slovakia',\n       'Slovenia', 'South Africa', 'South Korea', 'Soviet Union', 'Spain',\n       'Sweden', 'Switzerland', 'Togo', 'Trinidad and Tobago', 'Tunisia',\n       'Turkey', 'Ukraine', 'United Arab Emirates', 'United States', 'Uruguay',\n       'Wales', 'West Germany', 'Yugoslavia', 'Zaire'],\n      dtype='object', name='team')"
     },
     "execution_count": 14,
     "metadata": {},
     "output_type": "execute_result"
    }
   ],
   "source": [
    "df_team_strength.index"
   ],
   "metadata": {
    "collapsed": false
   }
  },
  {
   "cell_type": "markdown",
   "source": [
    "## 3. Prediccion del mundial"
   ],
   "metadata": {
    "collapsed": false
   }
  },
  {
   "cell_type": "code",
   "execution_count": 15,
   "outputs": [],
   "source": [
    "df_fixture_group_48 = df_fixture[:48].copy()\n",
    "df_fixture_knockout = df_fixture[48:56].copy()\n",
    "df_fixture_quarter = df_fixture[56:60].copy()\n",
    "df_fixture_semi = df_fixture[60:62].copy()\n",
    "df_fixture_final = df_fixture[62:].copy()"
   ],
   "metadata": {
    "collapsed": false
   }
  },
  {
   "cell_type": "code",
   "execution_count": 16,
   "outputs": [],
   "source": [
    "for group in dict_table:\n",
    "    teams_in_group = dict_table[group]['Team'].values\n",
    "    df_fixture_group_6 = df_fixture_group_48[df_fixture_group_48['home'].isin(teams_in_group)]\n",
    "    for index, row in df_fixture_group_6.iterrows():\n",
    "        home, away = row['home'], row['away']\n",
    "        points_home, points_away = predict_points(home, away)\n",
    "        dict_table[group].loc[dict_table[group]['Team'] == home, 'Pts'] += points_home\n",
    "        dict_table[group].loc[dict_table[group]['Team'] == away, 'Pts'] += points_away\n",
    "\n",
    "    dict_table[group] = dict_table[group].sort_values('Pts', ascending=False).reset_index()\n",
    "    dict_table[group] = dict_table[group][['Team', 'Pts']]\n",
    "    dict_table[group] = dict_table[group].round(0)"
   ],
   "metadata": {
    "collapsed": false
   }
  },
  {
   "cell_type": "code",
   "execution_count": 17,
   "outputs": [
    {
     "data": {
      "text/plain": "             home     score           away  year\n0           Qatar   Match 1        Ecuador  2022\n1         Senegal   Match 2    Netherlands  2022\n2           Qatar  Match 18        Senegal  2022\n3     Netherlands  Match 19        Ecuador  2022\n4         Ecuador  Match 35        Senegal  2022\n5     Netherlands  Match 36          Qatar  2022\n6         England   Match 3           Iran  2022\n7   United States   Match 4          Wales  2022\n8           Wales  Match 17           Iran  2022\n9         England  Match 20  United States  2022\n10          Wales  Match 33        England  2022\n11           Iran  Match 34  United States  2022\n12      Argentina   Match 8   Saudi Arabia  2022\n13         Mexico   Match 7         Poland  2022\n14         Poland  Match 22   Saudi Arabia  2022\n15      Argentina  Match 24         Mexico  2022\n16         Poland  Match 39      Argentina  2022\n17   Saudi Arabia  Match 40         Mexico  2022\n18        Denmark   Match 6        Tunisia  2022\n19         France   Match 5      Australia  2022\n20        Tunisia  Match 21      Australia  2022\n21         France  Match 23        Denmark  2022\n22      Australia  Match 37        Denmark  2022\n23        Tunisia  Match 38         France  2022\n24        Germany  Match 11          Japan  2022\n25          Spain  Match 10     Costa Rica  2022\n26          Japan  Match 25     Costa Rica  2022\n27          Spain  Match 28        Germany  2022\n28          Japan  Match 43          Spain  2022\n29     Costa Rica  Match 44        Germany  2022\n30        Morocco  Match 12        Croatia  2022\n31        Belgium   Match 9         Canada  2022\n32        Belgium  Match 26        Morocco  2022\n33        Croatia  Match 27         Canada  2022\n34        Croatia  Match 41        Belgium  2022\n35         Canada  Match 42        Morocco  2022\n36    Switzerland  Match 13       Cameroon  2022\n37         Brazil  Match 16         Serbia  2022\n38       Cameroon  Match 29         Serbia  2022\n39         Brazil  Match 31    Switzerland  2022\n40         Serbia  Match 47    Switzerland  2022\n41       Cameroon  Match 48         Brazil  2022\n42        Uruguay  Match 14    South Korea  2022\n43       Portugal  Match 15          Ghana  2022\n44    South Korea  Match 30          Ghana  2022\n45       Portugal  Match 32        Uruguay  2022\n46          Ghana  Match 45        Uruguay  2022\n47    South Korea  Match 46       Portugal  2022",
      "text/html": "<div>\n<style scoped>\n    .dataframe tbody tr th:only-of-type {\n        vertical-align: middle;\n    }\n\n    .dataframe tbody tr th {\n        vertical-align: top;\n    }\n\n    .dataframe thead th {\n        text-align: right;\n    }\n</style>\n<table border=\"1\" class=\"dataframe\">\n  <thead>\n    <tr style=\"text-align: right;\">\n      <th></th>\n      <th>home</th>\n      <th>score</th>\n      <th>away</th>\n      <th>year</th>\n    </tr>\n  </thead>\n  <tbody>\n    <tr>\n      <th>0</th>\n      <td>Qatar</td>\n      <td>Match 1</td>\n      <td>Ecuador</td>\n      <td>2022</td>\n    </tr>\n    <tr>\n      <th>1</th>\n      <td>Senegal</td>\n      <td>Match 2</td>\n      <td>Netherlands</td>\n      <td>2022</td>\n    </tr>\n    <tr>\n      <th>2</th>\n      <td>Qatar</td>\n      <td>Match 18</td>\n      <td>Senegal</td>\n      <td>2022</td>\n    </tr>\n    <tr>\n      <th>3</th>\n      <td>Netherlands</td>\n      <td>Match 19</td>\n      <td>Ecuador</td>\n      <td>2022</td>\n    </tr>\n    <tr>\n      <th>4</th>\n      <td>Ecuador</td>\n      <td>Match 35</td>\n      <td>Senegal</td>\n      <td>2022</td>\n    </tr>\n    <tr>\n      <th>5</th>\n      <td>Netherlands</td>\n      <td>Match 36</td>\n      <td>Qatar</td>\n      <td>2022</td>\n    </tr>\n    <tr>\n      <th>6</th>\n      <td>England</td>\n      <td>Match 3</td>\n      <td>Iran</td>\n      <td>2022</td>\n    </tr>\n    <tr>\n      <th>7</th>\n      <td>United States</td>\n      <td>Match 4</td>\n      <td>Wales</td>\n      <td>2022</td>\n    </tr>\n    <tr>\n      <th>8</th>\n      <td>Wales</td>\n      <td>Match 17</td>\n      <td>Iran</td>\n      <td>2022</td>\n    </tr>\n    <tr>\n      <th>9</th>\n      <td>England</td>\n      <td>Match 20</td>\n      <td>United States</td>\n      <td>2022</td>\n    </tr>\n    <tr>\n      <th>10</th>\n      <td>Wales</td>\n      <td>Match 33</td>\n      <td>England</td>\n      <td>2022</td>\n    </tr>\n    <tr>\n      <th>11</th>\n      <td>Iran</td>\n      <td>Match 34</td>\n      <td>United States</td>\n      <td>2022</td>\n    </tr>\n    <tr>\n      <th>12</th>\n      <td>Argentina</td>\n      <td>Match 8</td>\n      <td>Saudi Arabia</td>\n      <td>2022</td>\n    </tr>\n    <tr>\n      <th>13</th>\n      <td>Mexico</td>\n      <td>Match 7</td>\n      <td>Poland</td>\n      <td>2022</td>\n    </tr>\n    <tr>\n      <th>14</th>\n      <td>Poland</td>\n      <td>Match 22</td>\n      <td>Saudi Arabia</td>\n      <td>2022</td>\n    </tr>\n    <tr>\n      <th>15</th>\n      <td>Argentina</td>\n      <td>Match 24</td>\n      <td>Mexico</td>\n      <td>2022</td>\n    </tr>\n    <tr>\n      <th>16</th>\n      <td>Poland</td>\n      <td>Match 39</td>\n      <td>Argentina</td>\n      <td>2022</td>\n    </tr>\n    <tr>\n      <th>17</th>\n      <td>Saudi Arabia</td>\n      <td>Match 40</td>\n      <td>Mexico</td>\n      <td>2022</td>\n    </tr>\n    <tr>\n      <th>18</th>\n      <td>Denmark</td>\n      <td>Match 6</td>\n      <td>Tunisia</td>\n      <td>2022</td>\n    </tr>\n    <tr>\n      <th>19</th>\n      <td>France</td>\n      <td>Match 5</td>\n      <td>Australia</td>\n      <td>2022</td>\n    </tr>\n    <tr>\n      <th>20</th>\n      <td>Tunisia</td>\n      <td>Match 21</td>\n      <td>Australia</td>\n      <td>2022</td>\n    </tr>\n    <tr>\n      <th>21</th>\n      <td>France</td>\n      <td>Match 23</td>\n      <td>Denmark</td>\n      <td>2022</td>\n    </tr>\n    <tr>\n      <th>22</th>\n      <td>Australia</td>\n      <td>Match 37</td>\n      <td>Denmark</td>\n      <td>2022</td>\n    </tr>\n    <tr>\n      <th>23</th>\n      <td>Tunisia</td>\n      <td>Match 38</td>\n      <td>France</td>\n      <td>2022</td>\n    </tr>\n    <tr>\n      <th>24</th>\n      <td>Germany</td>\n      <td>Match 11</td>\n      <td>Japan</td>\n      <td>2022</td>\n    </tr>\n    <tr>\n      <th>25</th>\n      <td>Spain</td>\n      <td>Match 10</td>\n      <td>Costa Rica</td>\n      <td>2022</td>\n    </tr>\n    <tr>\n      <th>26</th>\n      <td>Japan</td>\n      <td>Match 25</td>\n      <td>Costa Rica</td>\n      <td>2022</td>\n    </tr>\n    <tr>\n      <th>27</th>\n      <td>Spain</td>\n      <td>Match 28</td>\n      <td>Germany</td>\n      <td>2022</td>\n    </tr>\n    <tr>\n      <th>28</th>\n      <td>Japan</td>\n      <td>Match 43</td>\n      <td>Spain</td>\n      <td>2022</td>\n    </tr>\n    <tr>\n      <th>29</th>\n      <td>Costa Rica</td>\n      <td>Match 44</td>\n      <td>Germany</td>\n      <td>2022</td>\n    </tr>\n    <tr>\n      <th>30</th>\n      <td>Morocco</td>\n      <td>Match 12</td>\n      <td>Croatia</td>\n      <td>2022</td>\n    </tr>\n    <tr>\n      <th>31</th>\n      <td>Belgium</td>\n      <td>Match 9</td>\n      <td>Canada</td>\n      <td>2022</td>\n    </tr>\n    <tr>\n      <th>32</th>\n      <td>Belgium</td>\n      <td>Match 26</td>\n      <td>Morocco</td>\n      <td>2022</td>\n    </tr>\n    <tr>\n      <th>33</th>\n      <td>Croatia</td>\n      <td>Match 27</td>\n      <td>Canada</td>\n      <td>2022</td>\n    </tr>\n    <tr>\n      <th>34</th>\n      <td>Croatia</td>\n      <td>Match 41</td>\n      <td>Belgium</td>\n      <td>2022</td>\n    </tr>\n    <tr>\n      <th>35</th>\n      <td>Canada</td>\n      <td>Match 42</td>\n      <td>Morocco</td>\n      <td>2022</td>\n    </tr>\n    <tr>\n      <th>36</th>\n      <td>Switzerland</td>\n      <td>Match 13</td>\n      <td>Cameroon</td>\n      <td>2022</td>\n    </tr>\n    <tr>\n      <th>37</th>\n      <td>Brazil</td>\n      <td>Match 16</td>\n      <td>Serbia</td>\n      <td>2022</td>\n    </tr>\n    <tr>\n      <th>38</th>\n      <td>Cameroon</td>\n      <td>Match 29</td>\n      <td>Serbia</td>\n      <td>2022</td>\n    </tr>\n    <tr>\n      <th>39</th>\n      <td>Brazil</td>\n      <td>Match 31</td>\n      <td>Switzerland</td>\n      <td>2022</td>\n    </tr>\n    <tr>\n      <th>40</th>\n      <td>Serbia</td>\n      <td>Match 47</td>\n      <td>Switzerland</td>\n      <td>2022</td>\n    </tr>\n    <tr>\n      <th>41</th>\n      <td>Cameroon</td>\n      <td>Match 48</td>\n      <td>Brazil</td>\n      <td>2022</td>\n    </tr>\n    <tr>\n      <th>42</th>\n      <td>Uruguay</td>\n      <td>Match 14</td>\n      <td>South Korea</td>\n      <td>2022</td>\n    </tr>\n    <tr>\n      <th>43</th>\n      <td>Portugal</td>\n      <td>Match 15</td>\n      <td>Ghana</td>\n      <td>2022</td>\n    </tr>\n    <tr>\n      <th>44</th>\n      <td>South Korea</td>\n      <td>Match 30</td>\n      <td>Ghana</td>\n      <td>2022</td>\n    </tr>\n    <tr>\n      <th>45</th>\n      <td>Portugal</td>\n      <td>Match 32</td>\n      <td>Uruguay</td>\n      <td>2022</td>\n    </tr>\n    <tr>\n      <th>46</th>\n      <td>Ghana</td>\n      <td>Match 45</td>\n      <td>Uruguay</td>\n      <td>2022</td>\n    </tr>\n    <tr>\n      <th>47</th>\n      <td>South Korea</td>\n      <td>Match 46</td>\n      <td>Portugal</td>\n      <td>2022</td>\n    </tr>\n  </tbody>\n</table>\n</div>"
     },
     "execution_count": 17,
     "metadata": {},
     "output_type": "execute_result"
    }
   ],
   "source": [
    "df_fixture_group_48"
   ],
   "metadata": {
    "collapsed": false
   }
  },
  {
   "cell_type": "code",
   "execution_count": 18,
   "outputs": [
    {
     "data": {
      "text/plain": "        Team  Pts\n0     France  7.0\n1    Denmark  5.0\n2    Tunisia  3.0\n3  Australia  2.0",
      "text/html": "<div>\n<style scoped>\n    .dataframe tbody tr th:only-of-type {\n        vertical-align: middle;\n    }\n\n    .dataframe tbody tr th {\n        vertical-align: top;\n    }\n\n    .dataframe thead th {\n        text-align: right;\n    }\n</style>\n<table border=\"1\" class=\"dataframe\">\n  <thead>\n    <tr style=\"text-align: right;\">\n      <th></th>\n      <th>Team</th>\n      <th>Pts</th>\n    </tr>\n  </thead>\n  <tbody>\n    <tr>\n      <th>0</th>\n      <td>France</td>\n      <td>7.0</td>\n    </tr>\n    <tr>\n      <th>1</th>\n      <td>Denmark</td>\n      <td>5.0</td>\n    </tr>\n    <tr>\n      <th>2</th>\n      <td>Tunisia</td>\n      <td>3.0</td>\n    </tr>\n    <tr>\n      <th>3</th>\n      <td>Australia</td>\n      <td>2.0</td>\n    </tr>\n  </tbody>\n</table>\n</div>"
     },
     "execution_count": 18,
     "metadata": {},
     "output_type": "execute_result"
    }
   ],
   "source": [
    "# Mostrar tabla actualizada\n",
    "dict_table['Group D']"
   ],
   "metadata": {
    "collapsed": false
   }
  },
  {
   "cell_type": "code",
   "execution_count": 19,
   "outputs": [
    {
     "data": {
      "text/plain": "               home     score                away  year\n48  Winners Group A  Match 49  Runners-up Group B  2022\n49  Winners Group C  Match 50  Runners-up Group D  2022\n50  Winners Group D  Match 52  Runners-up Group C  2022\n51  Winners Group B  Match 51  Runners-up Group A  2022\n52  Winners Group E  Match 53  Runners-up Group F  2022\n53  Winners Group G  Match 54  Runners-up Group H  2022\n54  Winners Group F  Match 55  Runners-up Group E  2022\n55  Winners Group H  Match 56  Runners-up Group G  2022",
      "text/html": "<div>\n<style scoped>\n    .dataframe tbody tr th:only-of-type {\n        vertical-align: middle;\n    }\n\n    .dataframe tbody tr th {\n        vertical-align: top;\n    }\n\n    .dataframe thead th {\n        text-align: right;\n    }\n</style>\n<table border=\"1\" class=\"dataframe\">\n  <thead>\n    <tr style=\"text-align: right;\">\n      <th></th>\n      <th>home</th>\n      <th>score</th>\n      <th>away</th>\n      <th>year</th>\n    </tr>\n  </thead>\n  <tbody>\n    <tr>\n      <th>48</th>\n      <td>Winners Group A</td>\n      <td>Match 49</td>\n      <td>Runners-up Group B</td>\n      <td>2022</td>\n    </tr>\n    <tr>\n      <th>49</th>\n      <td>Winners Group C</td>\n      <td>Match 50</td>\n      <td>Runners-up Group D</td>\n      <td>2022</td>\n    </tr>\n    <tr>\n      <th>50</th>\n      <td>Winners Group D</td>\n      <td>Match 52</td>\n      <td>Runners-up Group C</td>\n      <td>2022</td>\n    </tr>\n    <tr>\n      <th>51</th>\n      <td>Winners Group B</td>\n      <td>Match 51</td>\n      <td>Runners-up Group A</td>\n      <td>2022</td>\n    </tr>\n    <tr>\n      <th>52</th>\n      <td>Winners Group E</td>\n      <td>Match 53</td>\n      <td>Runners-up Group F</td>\n      <td>2022</td>\n    </tr>\n    <tr>\n      <th>53</th>\n      <td>Winners Group G</td>\n      <td>Match 54</td>\n      <td>Runners-up Group H</td>\n      <td>2022</td>\n    </tr>\n    <tr>\n      <th>54</th>\n      <td>Winners Group F</td>\n      <td>Match 55</td>\n      <td>Runners-up Group E</td>\n      <td>2022</td>\n    </tr>\n    <tr>\n      <th>55</th>\n      <td>Winners Group H</td>\n      <td>Match 56</td>\n      <td>Runners-up Group G</td>\n      <td>2022</td>\n    </tr>\n  </tbody>\n</table>\n</div>"
     },
     "execution_count": 19,
     "metadata": {},
     "output_type": "execute_result"
    }
   ],
   "source": [
    "df_fixture_knockout"
   ],
   "metadata": {
    "collapsed": false
   }
  },
  {
   "cell_type": "code",
   "execution_count": 20,
   "outputs": [],
   "source": [
    "# actualizar el fixture de octavos con el 1 puesto (group winner) y 2 puesto (runners up)\n",
    "for group in dict_table:\n",
    "    group_winner = dict_table[group].loc[0, 'Team']\n",
    "    runners_up = dict_table[group].loc[1, 'Team']\n",
    "    df_fixture_knockout.replace({\n",
    "        f'Winners {group}': group_winner,\n",
    "        f'Runners-up {group}': runners_up\n",
    "    }, inplace=True)\n",
    "\n",
    "df_fixture_knockout['winner'] = '?'"
   ],
   "metadata": {
    "collapsed": false
   }
  },
  {
   "cell_type": "code",
   "execution_count": 21,
   "outputs": [
    {
     "data": {
      "text/plain": "           home     score         away  year winner\n48  Netherlands  Match 49        Wales  2022      ?\n49    Argentina  Match 50      Denmark  2022      ?\n50       France  Match 52       Poland  2022      ?\n51      England  Match 51      Senegal  2022      ?\n52      Germany  Match 53      Belgium  2022      ?\n53       Brazil  Match 54      Uruguay  2022      ?\n54      Croatia  Match 55        Spain  2022      ?\n55     Portugal  Match 56  Switzerland  2022      ?",
      "text/html": "<div>\n<style scoped>\n    .dataframe tbody tr th:only-of-type {\n        vertical-align: middle;\n    }\n\n    .dataframe tbody tr th {\n        vertical-align: top;\n    }\n\n    .dataframe thead th {\n        text-align: right;\n    }\n</style>\n<table border=\"1\" class=\"dataframe\">\n  <thead>\n    <tr style=\"text-align: right;\">\n      <th></th>\n      <th>home</th>\n      <th>score</th>\n      <th>away</th>\n      <th>year</th>\n      <th>winner</th>\n    </tr>\n  </thead>\n  <tbody>\n    <tr>\n      <th>48</th>\n      <td>Netherlands</td>\n      <td>Match 49</td>\n      <td>Wales</td>\n      <td>2022</td>\n      <td>?</td>\n    </tr>\n    <tr>\n      <th>49</th>\n      <td>Argentina</td>\n      <td>Match 50</td>\n      <td>Denmark</td>\n      <td>2022</td>\n      <td>?</td>\n    </tr>\n    <tr>\n      <th>50</th>\n      <td>France</td>\n      <td>Match 52</td>\n      <td>Poland</td>\n      <td>2022</td>\n      <td>?</td>\n    </tr>\n    <tr>\n      <th>51</th>\n      <td>England</td>\n      <td>Match 51</td>\n      <td>Senegal</td>\n      <td>2022</td>\n      <td>?</td>\n    </tr>\n    <tr>\n      <th>52</th>\n      <td>Germany</td>\n      <td>Match 53</td>\n      <td>Belgium</td>\n      <td>2022</td>\n      <td>?</td>\n    </tr>\n    <tr>\n      <th>53</th>\n      <td>Brazil</td>\n      <td>Match 54</td>\n      <td>Uruguay</td>\n      <td>2022</td>\n      <td>?</td>\n    </tr>\n    <tr>\n      <th>54</th>\n      <td>Croatia</td>\n      <td>Match 55</td>\n      <td>Spain</td>\n      <td>2022</td>\n      <td>?</td>\n    </tr>\n    <tr>\n      <th>55</th>\n      <td>Portugal</td>\n      <td>Match 56</td>\n      <td>Switzerland</td>\n      <td>2022</td>\n      <td>?</td>\n    </tr>\n  </tbody>\n</table>\n</div>"
     },
     "execution_count": 21,
     "metadata": {},
     "output_type": "execute_result"
    }
   ],
   "source": [
    "df_fixture_knockout"
   ],
   "metadata": {
    "collapsed": false
   }
  },
  {
   "cell_type": "code",
   "execution_count": 22,
   "outputs": [],
   "source": [
    "# crear la function para buscar el ganador\n",
    "def get_winner(df_fixture_update):\n",
    "    for index, row in df_fixture_update.iterrows():\n",
    "        home, away = row['home'], row['away']\n",
    "        points_home, points_away = predict_points(home, away)\n",
    "        if points_home > points_away:\n",
    "            winner = home\n",
    "        else:\n",
    "            winner = away\n",
    "        df_fixture_update.loc[index, 'winner'] = winner\n",
    "    return df_fixture_update"
   ],
   "metadata": {
    "collapsed": false
   }
  },
  {
   "cell_type": "code",
   "execution_count": 23,
   "outputs": [
    {
     "data": {
      "text/plain": "           home     score         away  year       winner\n48  Netherlands  Match 49        Wales  2022  Netherlands\n49    Argentina  Match 50      Denmark  2022    Argentina\n50       France  Match 52       Poland  2022       France\n51      England  Match 51      Senegal  2022      England\n52      Germany  Match 53      Belgium  2022      Germany\n53       Brazil  Match 54      Uruguay  2022       Brazil\n54      Croatia  Match 55        Spain  2022        Spain\n55     Portugal  Match 56  Switzerland  2022     Portugal",
      "text/html": "<div>\n<style scoped>\n    .dataframe tbody tr th:only-of-type {\n        vertical-align: middle;\n    }\n\n    .dataframe tbody tr th {\n        vertical-align: top;\n    }\n\n    .dataframe thead th {\n        text-align: right;\n    }\n</style>\n<table border=\"1\" class=\"dataframe\">\n  <thead>\n    <tr style=\"text-align: right;\">\n      <th></th>\n      <th>home</th>\n      <th>score</th>\n      <th>away</th>\n      <th>year</th>\n      <th>winner</th>\n    </tr>\n  </thead>\n  <tbody>\n    <tr>\n      <th>48</th>\n      <td>Netherlands</td>\n      <td>Match 49</td>\n      <td>Wales</td>\n      <td>2022</td>\n      <td>Netherlands</td>\n    </tr>\n    <tr>\n      <th>49</th>\n      <td>Argentina</td>\n      <td>Match 50</td>\n      <td>Denmark</td>\n      <td>2022</td>\n      <td>Argentina</td>\n    </tr>\n    <tr>\n      <th>50</th>\n      <td>France</td>\n      <td>Match 52</td>\n      <td>Poland</td>\n      <td>2022</td>\n      <td>France</td>\n    </tr>\n    <tr>\n      <th>51</th>\n      <td>England</td>\n      <td>Match 51</td>\n      <td>Senegal</td>\n      <td>2022</td>\n      <td>England</td>\n    </tr>\n    <tr>\n      <th>52</th>\n      <td>Germany</td>\n      <td>Match 53</td>\n      <td>Belgium</td>\n      <td>2022</td>\n      <td>Germany</td>\n    </tr>\n    <tr>\n      <th>53</th>\n      <td>Brazil</td>\n      <td>Match 54</td>\n      <td>Uruguay</td>\n      <td>2022</td>\n      <td>Brazil</td>\n    </tr>\n    <tr>\n      <th>54</th>\n      <td>Croatia</td>\n      <td>Match 55</td>\n      <td>Spain</td>\n      <td>2022</td>\n      <td>Spain</td>\n    </tr>\n    <tr>\n      <th>55</th>\n      <td>Portugal</td>\n      <td>Match 56</td>\n      <td>Switzerland</td>\n      <td>2022</td>\n      <td>Portugal</td>\n    </tr>\n  </tbody>\n</table>\n</div>"
     },
     "execution_count": 23,
     "metadata": {},
     "output_type": "execute_result"
    }
   ],
   "source": [
    "get_winner(df_fixture_knockout)"
   ],
   "metadata": {
    "collapsed": false
   }
  },
  {
   "cell_type": "code",
   "execution_count": 24,
   "outputs": [
    {
     "data": {
      "text/plain": "                home     score              away  year\n56  Winners Match 53  Match 58  Winners Match 54  2022\n57  Winners Match 49  Match 57  Winners Match 50  2022\n58  Winners Match 55  Match 60  Winners Match 56  2022\n59  Winners Match 51  Match 59  Winners Match 52  2022",
      "text/html": "<div>\n<style scoped>\n    .dataframe tbody tr th:only-of-type {\n        vertical-align: middle;\n    }\n\n    .dataframe tbody tr th {\n        vertical-align: top;\n    }\n\n    .dataframe thead th {\n        text-align: right;\n    }\n</style>\n<table border=\"1\" class=\"dataframe\">\n  <thead>\n    <tr style=\"text-align: right;\">\n      <th></th>\n      <th>home</th>\n      <th>score</th>\n      <th>away</th>\n      <th>year</th>\n    </tr>\n  </thead>\n  <tbody>\n    <tr>\n      <th>56</th>\n      <td>Winners Match 53</td>\n      <td>Match 58</td>\n      <td>Winners Match 54</td>\n      <td>2022</td>\n    </tr>\n    <tr>\n      <th>57</th>\n      <td>Winners Match 49</td>\n      <td>Match 57</td>\n      <td>Winners Match 50</td>\n      <td>2022</td>\n    </tr>\n    <tr>\n      <th>58</th>\n      <td>Winners Match 55</td>\n      <td>Match 60</td>\n      <td>Winners Match 56</td>\n      <td>2022</td>\n    </tr>\n    <tr>\n      <th>59</th>\n      <td>Winners Match 51</td>\n      <td>Match 59</td>\n      <td>Winners Match 52</td>\n      <td>2022</td>\n    </tr>\n  </tbody>\n</table>\n</div>"
     },
     "execution_count": 24,
     "metadata": {},
     "output_type": "execute_result"
    }
   ],
   "source": [
    "df_fixture_quarter"
   ],
   "metadata": {
    "collapsed": false
   }
  },
  {
   "cell_type": "code",
   "execution_count": 25,
   "outputs": [],
   "source": [
    "def update_table(df_fixture_round_1, df_fixture_round_2):\n",
    "    for index, row in df_fixture_round_1.iterrows():\n",
    "        winner = df_fixture_round_1.loc[index, 'winner']\n",
    "        match = df_fixture_round_1.loc[index, 'score']\n",
    "        df_fixture_round_2.replace({f'Winners {match}': winner}, inplace=True)\n",
    "    df_fixture_round_2['winner'] = '?'\n",
    "    return df_fixture_round_2"
   ],
   "metadata": {
    "collapsed": false
   }
  },
  {
   "cell_type": "code",
   "execution_count": 26,
   "outputs": [
    {
     "data": {
      "text/plain": "           home     score       away  year winner\n56      Germany  Match 58     Brazil  2022      ?\n57  Netherlands  Match 57  Argentina  2022      ?\n58        Spain  Match 60   Portugal  2022      ?\n59      England  Match 59     France  2022      ?",
      "text/html": "<div>\n<style scoped>\n    .dataframe tbody tr th:only-of-type {\n        vertical-align: middle;\n    }\n\n    .dataframe tbody tr th {\n        vertical-align: top;\n    }\n\n    .dataframe thead th {\n        text-align: right;\n    }\n</style>\n<table border=\"1\" class=\"dataframe\">\n  <thead>\n    <tr style=\"text-align: right;\">\n      <th></th>\n      <th>home</th>\n      <th>score</th>\n      <th>away</th>\n      <th>year</th>\n      <th>winner</th>\n    </tr>\n  </thead>\n  <tbody>\n    <tr>\n      <th>56</th>\n      <td>Germany</td>\n      <td>Match 58</td>\n      <td>Brazil</td>\n      <td>2022</td>\n      <td>?</td>\n    </tr>\n    <tr>\n      <th>57</th>\n      <td>Netherlands</td>\n      <td>Match 57</td>\n      <td>Argentina</td>\n      <td>2022</td>\n      <td>?</td>\n    </tr>\n    <tr>\n      <th>58</th>\n      <td>Spain</td>\n      <td>Match 60</td>\n      <td>Portugal</td>\n      <td>2022</td>\n      <td>?</td>\n    </tr>\n    <tr>\n      <th>59</th>\n      <td>England</td>\n      <td>Match 59</td>\n      <td>France</td>\n      <td>2022</td>\n      <td>?</td>\n    </tr>\n  </tbody>\n</table>\n</div>"
     },
     "execution_count": 26,
     "metadata": {},
     "output_type": "execute_result"
    }
   ],
   "source": [
    "update_table(df_fixture_knockout, df_fixture_quarter)"
   ],
   "metadata": {
    "collapsed": false
   }
  },
  {
   "cell_type": "code",
   "execution_count": 27,
   "outputs": [
    {
     "data": {
      "text/plain": "           home     score       away  year       winner\n56      Germany  Match 58     Brazil  2022      Germany\n57  Netherlands  Match 57  Argentina  2022  Netherlands\n58        Spain  Match 60   Portugal  2022        Spain\n59      England  Match 59     France  2022       France",
      "text/html": "<div>\n<style scoped>\n    .dataframe tbody tr th:only-of-type {\n        vertical-align: middle;\n    }\n\n    .dataframe tbody tr th {\n        vertical-align: top;\n    }\n\n    .dataframe thead th {\n        text-align: right;\n    }\n</style>\n<table border=\"1\" class=\"dataframe\">\n  <thead>\n    <tr style=\"text-align: right;\">\n      <th></th>\n      <th>home</th>\n      <th>score</th>\n      <th>away</th>\n      <th>year</th>\n      <th>winner</th>\n    </tr>\n  </thead>\n  <tbody>\n    <tr>\n      <th>56</th>\n      <td>Germany</td>\n      <td>Match 58</td>\n      <td>Brazil</td>\n      <td>2022</td>\n      <td>Germany</td>\n    </tr>\n    <tr>\n      <th>57</th>\n      <td>Netherlands</td>\n      <td>Match 57</td>\n      <td>Argentina</td>\n      <td>2022</td>\n      <td>Netherlands</td>\n    </tr>\n    <tr>\n      <th>58</th>\n      <td>Spain</td>\n      <td>Match 60</td>\n      <td>Portugal</td>\n      <td>2022</td>\n      <td>Spain</td>\n    </tr>\n    <tr>\n      <th>59</th>\n      <td>England</td>\n      <td>Match 59</td>\n      <td>France</td>\n      <td>2022</td>\n      <td>France</td>\n    </tr>\n  </tbody>\n</table>\n</div>"
     },
     "execution_count": 27,
     "metadata": {},
     "output_type": "execute_result"
    }
   ],
   "source": [
    "get_winner(df_fixture_quarter)"
   ],
   "metadata": {
    "collapsed": false
   }
  },
  {
   "cell_type": "code",
   "execution_count": 28,
   "outputs": [
    {
     "data": {
      "text/plain": "           home     score     away  year winner\n60  Netherlands  Match 61  Germany  2022      ?\n61       France  Match 62    Spain  2022      ?",
      "text/html": "<div>\n<style scoped>\n    .dataframe tbody tr th:only-of-type {\n        vertical-align: middle;\n    }\n\n    .dataframe tbody tr th {\n        vertical-align: top;\n    }\n\n    .dataframe thead th {\n        text-align: right;\n    }\n</style>\n<table border=\"1\" class=\"dataframe\">\n  <thead>\n    <tr style=\"text-align: right;\">\n      <th></th>\n      <th>home</th>\n      <th>score</th>\n      <th>away</th>\n      <th>year</th>\n      <th>winner</th>\n    </tr>\n  </thead>\n  <tbody>\n    <tr>\n      <th>60</th>\n      <td>Netherlands</td>\n      <td>Match 61</td>\n      <td>Germany</td>\n      <td>2022</td>\n      <td>?</td>\n    </tr>\n    <tr>\n      <th>61</th>\n      <td>France</td>\n      <td>Match 62</td>\n      <td>Spain</td>\n      <td>2022</td>\n      <td>?</td>\n    </tr>\n  </tbody>\n</table>\n</div>"
     },
     "execution_count": 28,
     "metadata": {},
     "output_type": "execute_result"
    }
   ],
   "source": [
    "update_table(df_fixture_quarter, df_fixture_semi)"
   ],
   "metadata": {
    "collapsed": false
   }
  },
  {
   "cell_type": "code",
   "execution_count": 29,
   "outputs": [
    {
     "data": {
      "text/plain": "           home     score     away  year   winner\n60  Netherlands  Match 61  Germany  2022  Germany\n61       France  Match 62    Spain  2022   France",
      "text/html": "<div>\n<style scoped>\n    .dataframe tbody tr th:only-of-type {\n        vertical-align: middle;\n    }\n\n    .dataframe tbody tr th {\n        vertical-align: top;\n    }\n\n    .dataframe thead th {\n        text-align: right;\n    }\n</style>\n<table border=\"1\" class=\"dataframe\">\n  <thead>\n    <tr style=\"text-align: right;\">\n      <th></th>\n      <th>home</th>\n      <th>score</th>\n      <th>away</th>\n      <th>year</th>\n      <th>winner</th>\n    </tr>\n  </thead>\n  <tbody>\n    <tr>\n      <th>60</th>\n      <td>Netherlands</td>\n      <td>Match 61</td>\n      <td>Germany</td>\n      <td>2022</td>\n      <td>Germany</td>\n    </tr>\n    <tr>\n      <th>61</th>\n      <td>France</td>\n      <td>Match 62</td>\n      <td>Spain</td>\n      <td>2022</td>\n      <td>France</td>\n    </tr>\n  </tbody>\n</table>\n</div>"
     },
     "execution_count": 29,
     "metadata": {},
     "output_type": "execute_result"
    }
   ],
   "source": [
    "get_winner(df_fixture_semi)"
   ],
   "metadata": {
    "collapsed": false
   }
  },
  {
   "cell_type": "code",
   "execution_count": 30,
   "outputs": [
    {
     "data": {
      "text/plain": "               home     score             away  year winner\n62  Losers Match 61  Match 63  Losers Match 62  2022      ?\n63          Germany  Match 64           France  2022      ?",
      "text/html": "<div>\n<style scoped>\n    .dataframe tbody tr th:only-of-type {\n        vertical-align: middle;\n    }\n\n    .dataframe tbody tr th {\n        vertical-align: top;\n    }\n\n    .dataframe thead th {\n        text-align: right;\n    }\n</style>\n<table border=\"1\" class=\"dataframe\">\n  <thead>\n    <tr style=\"text-align: right;\">\n      <th></th>\n      <th>home</th>\n      <th>score</th>\n      <th>away</th>\n      <th>year</th>\n      <th>winner</th>\n    </tr>\n  </thead>\n  <tbody>\n    <tr>\n      <th>62</th>\n      <td>Losers Match 61</td>\n      <td>Match 63</td>\n      <td>Losers Match 62</td>\n      <td>2022</td>\n      <td>?</td>\n    </tr>\n    <tr>\n      <th>63</th>\n      <td>Germany</td>\n      <td>Match 64</td>\n      <td>France</td>\n      <td>2022</td>\n      <td>?</td>\n    </tr>\n  </tbody>\n</table>\n</div>"
     },
     "execution_count": 30,
     "metadata": {},
     "output_type": "execute_result"
    }
   ],
   "source": [
    "update_table(df_fixture_semi, df_fixture_final)"
   ],
   "metadata": {
    "collapsed": false
   }
  },
  {
   "cell_type": "code",
   "execution_count": 31,
   "outputs": [
    {
     "data": {
      "text/plain": "               home     score             away  year           winner\n62  Losers Match 61  Match 63  Losers Match 62  2022  Losers Match 62\n63          Germany  Match 64           France  2022          Germany",
      "text/html": "<div>\n<style scoped>\n    .dataframe tbody tr th:only-of-type {\n        vertical-align: middle;\n    }\n\n    .dataframe tbody tr th {\n        vertical-align: top;\n    }\n\n    .dataframe thead th {\n        text-align: right;\n    }\n</style>\n<table border=\"1\" class=\"dataframe\">\n  <thead>\n    <tr style=\"text-align: right;\">\n      <th></th>\n      <th>home</th>\n      <th>score</th>\n      <th>away</th>\n      <th>year</th>\n      <th>winner</th>\n    </tr>\n  </thead>\n  <tbody>\n    <tr>\n      <th>62</th>\n      <td>Losers Match 61</td>\n      <td>Match 63</td>\n      <td>Losers Match 62</td>\n      <td>2022</td>\n      <td>Losers Match 62</td>\n    </tr>\n    <tr>\n      <th>63</th>\n      <td>Germany</td>\n      <td>Match 64</td>\n      <td>France</td>\n      <td>2022</td>\n      <td>Germany</td>\n    </tr>\n  </tbody>\n</table>\n</div>"
     },
     "execution_count": 31,
     "metadata": {},
     "output_type": "execute_result"
    }
   ],
   "source": [
    "get_winner(df_fixture_final)"
   ],
   "metadata": {
    "collapsed": false
   }
  },
  {
   "cell_type": "code",
   "execution_count": 32,
   "outputs": [
    {
     "name": "stdout",
     "output_type": "stream",
     "text": [
      "The world cup winner is Germany 🎉\n"
     ]
    }
   ],
   "source": [
    "print(f\"The world cup winner is {df_fixture_final['winner'].iloc[-1]} 🎉\")"
   ],
   "metadata": {
    "collapsed": false
   }
  }
 ],
 "metadata": {
  "kernelspec": {
   "display_name": "Python 3",
   "language": "python",
   "name": "python3"
  },
  "language_info": {
   "codemirror_mode": {
    "name": "ipython",
    "version": 2
   },
   "file_extension": ".py",
   "mimetype": "text/x-python",
   "name": "python",
   "nbconvert_exporter": "python",
   "pygments_lexer": "ipython2",
   "version": "2.7.6"
  }
 },
 "nbformat": 4,
 "nbformat_minor": 0
}

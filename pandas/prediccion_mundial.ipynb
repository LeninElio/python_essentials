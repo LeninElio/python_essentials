{
 "cells": [
  {
   "cell_type": "code",
   "execution_count": 1,
   "metadata": {
    "collapsed": true
   },
   "outputs": [],
   "source": [
    "import pandas as pd\n",
    "import pickle\n",
    "from scipy.stats import poisson"
   ]
  },
  {
   "cell_type": "code",
   "execution_count": 5,
   "outputs": [],
   "source": [
    "dict_table = pickle.load(open('data/dict_table', 'rb'))\n",
    "df_historical_data = pd.read_csv('data/fifa_worldcup_matches_clean.csv')\n",
    "df_fixture = pd.read_csv('data/fifa_worldcup_fixture_clean.csv')"
   ],
   "metadata": {
    "collapsed": false
   }
  },
  {
   "cell_type": "markdown",
   "source": [
    "## 1. Calcular team strength (fuerza de un equipo)"
   ],
   "metadata": {
    "collapsed": false
   }
  },
  {
   "cell_type": "code",
   "execution_count": 6,
   "outputs": [
    {
     "data": {
      "text/plain": "{'Group A':    Pos         Team  Pld  W  D  L  GF  GA  GD  Pts\n 0    1    Qatar (H)    0  0  0  0   0   0   0    0\n 1    2      Ecuador    0  0  0  0   0   0   0    0\n 2    3      Senegal    0  0  0  0   0   0   0    0\n 3    4  Netherlands    0  0  0  0   0   0   0    0,\n 'Group B':    Pos           Team  Pld  W  D  L  GF  GA  GD  Pts\n 0    1        England    0  0  0  0   0   0   0    0\n 1    2           Iran    0  0  0  0   0   0   0    0\n 2    3  United States    0  0  0  0   0   0   0    0\n 3    4          Wales    0  0  0  0   0   0   0    0,\n 'Group C':    Pos          Team  Pld  W  D  L  GF  GA  GD  Pts\n 0    1     Argentina    0  0  0  0   0   0   0    0\n 1    2  Saudi Arabia    0  0  0  0   0   0   0    0\n 2    3        Mexico    0  0  0  0   0   0   0    0\n 3    4        Poland    0  0  0  0   0   0   0    0,\n 'Group D':    Pos       Team  Pld  W  D  L  GF  GA  GD  Pts\n 0    1     France    0  0  0  0   0   0   0    0\n 1    2  Australia    0  0  0  0   0   0   0    0\n 2    3    Denmark    0  0  0  0   0   0   0    0\n 3    4    Tunisia    0  0  0  0   0   0   0    0,\n 'Group E':    Pos        Team  Pld  W  D  L  GF  GA  GD  Pts\n 0    1       Spain    0  0  0  0   0   0   0    0\n 1    2  Costa Rica    0  0  0  0   0   0   0    0\n 2    3     Germany    0  0  0  0   0   0   0    0\n 3    4       Japan    0  0  0  0   0   0   0    0,\n 'Group F':    Pos     Team  Pld  W  D  L  GF  GA  GD  Pts\n 0    1  Belgium    0  0  0  0   0   0   0    0\n 1    2   Canada    0  0  0  0   0   0   0    0\n 2    3  Morocco    0  0  0  0   0   0   0    0\n 3    4  Croatia    0  0  0  0   0   0   0    0,\n 'Group G':    Pos         Team  Pld  W  D  L  GF  GA  GD  Pts\n 0    1       Brazil    0  0  0  0   0   0   0    0\n 1    2       Serbia    0  0  0  0   0   0   0    0\n 2    3  Switzerland    0  0  0  0   0   0   0    0\n 3    4     Cameroon    0  0  0  0   0   0   0    0,\n 'Group H':    Pos         Team  Pld  W  D  L  GF  GA  GD  Pts\n 0    1     Portugal    0  0  0  0   0   0   0    0\n 1    2        Ghana    0  0  0  0   0   0   0    0\n 2    3      Uruguay    0  0  0  0   0   0   0    0\n 3    4  South Korea    0  0  0  0   0   0   0    0}"
     },
     "execution_count": 6,
     "metadata": {},
     "output_type": "execute_result"
    }
   ],
   "source": [
    "dict_table"
   ],
   "metadata": {
    "collapsed": false
   }
  },
  {
   "cell_type": "code",
   "execution_count": 7,
   "outputs": [
    {
     "data": {
      "text/plain": "         local_team      visit_team  year  local_goals  visit_goals  \\\n0       Yugoslavia           Brazil  1930            2            1   \n1          Uruguay       Yugoslavia  1930            6            1   \n2        Argentina    United States  1930            6            1   \n3         Paraguay          Belgium  1930            1            0   \n4    United States         Paraguay  1930            3            0   \n..              ...             ...   ...          ...          ...   \n895         Brazil       Costa Rica  2018            2            0   \n896         Serbia      Switzerland  2018            1            2   \n897         Serbia           Brazil  2018            0            2   \n898        Germany           Mexico  2018            0            1   \n899         France          Croatia  2018            4            2   \n\n     total_goals  \n0              3  \n1              7  \n2              7  \n3              1  \n4              3  \n..           ...  \n895            2  \n896            3  \n897            2  \n898            1  \n899            6  \n\n[900 rows x 6 columns]",
      "text/html": "<div>\n<style scoped>\n    .dataframe tbody tr th:only-of-type {\n        vertical-align: middle;\n    }\n\n    .dataframe tbody tr th {\n        vertical-align: top;\n    }\n\n    .dataframe thead th {\n        text-align: right;\n    }\n</style>\n<table border=\"1\" class=\"dataframe\">\n  <thead>\n    <tr style=\"text-align: right;\">\n      <th></th>\n      <th>local_team</th>\n      <th>visit_team</th>\n      <th>year</th>\n      <th>local_goals</th>\n      <th>visit_goals</th>\n      <th>total_goals</th>\n    </tr>\n  </thead>\n  <tbody>\n    <tr>\n      <th>0</th>\n      <td>Yugoslavia</td>\n      <td>Brazil</td>\n      <td>1930</td>\n      <td>2</td>\n      <td>1</td>\n      <td>3</td>\n    </tr>\n    <tr>\n      <th>1</th>\n      <td>Uruguay</td>\n      <td>Yugoslavia</td>\n      <td>1930</td>\n      <td>6</td>\n      <td>1</td>\n      <td>7</td>\n    </tr>\n    <tr>\n      <th>2</th>\n      <td>Argentina</td>\n      <td>United States</td>\n      <td>1930</td>\n      <td>6</td>\n      <td>1</td>\n      <td>7</td>\n    </tr>\n    <tr>\n      <th>3</th>\n      <td>Paraguay</td>\n      <td>Belgium</td>\n      <td>1930</td>\n      <td>1</td>\n      <td>0</td>\n      <td>1</td>\n    </tr>\n    <tr>\n      <th>4</th>\n      <td>United States</td>\n      <td>Paraguay</td>\n      <td>1930</td>\n      <td>3</td>\n      <td>0</td>\n      <td>3</td>\n    </tr>\n    <tr>\n      <th>...</th>\n      <td>...</td>\n      <td>...</td>\n      <td>...</td>\n      <td>...</td>\n      <td>...</td>\n      <td>...</td>\n    </tr>\n    <tr>\n      <th>895</th>\n      <td>Brazil</td>\n      <td>Costa Rica</td>\n      <td>2018</td>\n      <td>2</td>\n      <td>0</td>\n      <td>2</td>\n    </tr>\n    <tr>\n      <th>896</th>\n      <td>Serbia</td>\n      <td>Switzerland</td>\n      <td>2018</td>\n      <td>1</td>\n      <td>2</td>\n      <td>3</td>\n    </tr>\n    <tr>\n      <th>897</th>\n      <td>Serbia</td>\n      <td>Brazil</td>\n      <td>2018</td>\n      <td>0</td>\n      <td>2</td>\n      <td>2</td>\n    </tr>\n    <tr>\n      <th>898</th>\n      <td>Germany</td>\n      <td>Mexico</td>\n      <td>2018</td>\n      <td>0</td>\n      <td>1</td>\n      <td>1</td>\n    </tr>\n    <tr>\n      <th>899</th>\n      <td>France</td>\n      <td>Croatia</td>\n      <td>2018</td>\n      <td>4</td>\n      <td>2</td>\n      <td>6</td>\n    </tr>\n  </tbody>\n</table>\n<p>900 rows × 6 columns</p>\n</div>"
     },
     "execution_count": 7,
     "metadata": {},
     "output_type": "execute_result"
    }
   ],
   "source": [
    "df_historical_data"
   ],
   "metadata": {
    "collapsed": false
   }
  },
  {
   "cell_type": "code",
   "execution_count": 16,
   "outputs": [],
   "source": [
    "# creamos dos dataframe para equipo local y equipo visitante\n",
    "df_local = df_historical_data[['local_team', 'local_goals', 'visit_goals']]\n",
    "df_visit = df_historical_data[['visit_team', 'local_goals', 'visit_goals']]"
   ],
   "metadata": {
    "collapsed": false
   }
  },
  {
   "cell_type": "code",
   "execution_count": 17,
   "outputs": [],
   "source": [
    "# renombramos las columnas\n",
    "df_local = df_local.rename(columns={'local_team': 'team', 'local_goals': 'goals_scored', 'visit_goals': 'goals_conceded'})\n",
    "df_visit = df_visit.rename(columns={'visit_team': 'team', 'local_goals': 'goals_conceded', 'visit_goals': 'goals_scored'})"
   ],
   "metadata": {
    "collapsed": false
   }
  },
  {
   "cell_type": "code",
   "execution_count": 23,
   "outputs": [
    {
     "data": {
      "text/plain": "               team  goals_scored  goals_conceded\n0       Yugoslavia              2               1\n1          Uruguay              6               1\n2        Argentina              6               1\n3         Paraguay              1               0\n4    United States              3               0\n..              ...           ...             ...\n895         Brazil              2               0\n896         Serbia              1               2\n897         Serbia              0               2\n898        Germany              0               1\n899         France              4               2\n\n[900 rows x 3 columns]",
      "text/html": "<div>\n<style scoped>\n    .dataframe tbody tr th:only-of-type {\n        vertical-align: middle;\n    }\n\n    .dataframe tbody tr th {\n        vertical-align: top;\n    }\n\n    .dataframe thead th {\n        text-align: right;\n    }\n</style>\n<table border=\"1\" class=\"dataframe\">\n  <thead>\n    <tr style=\"text-align: right;\">\n      <th></th>\n      <th>team</th>\n      <th>goals_scored</th>\n      <th>goals_conceded</th>\n    </tr>\n  </thead>\n  <tbody>\n    <tr>\n      <th>0</th>\n      <td>Yugoslavia</td>\n      <td>2</td>\n      <td>1</td>\n    </tr>\n    <tr>\n      <th>1</th>\n      <td>Uruguay</td>\n      <td>6</td>\n      <td>1</td>\n    </tr>\n    <tr>\n      <th>2</th>\n      <td>Argentina</td>\n      <td>6</td>\n      <td>1</td>\n    </tr>\n    <tr>\n      <th>3</th>\n      <td>Paraguay</td>\n      <td>1</td>\n      <td>0</td>\n    </tr>\n    <tr>\n      <th>4</th>\n      <td>United States</td>\n      <td>3</td>\n      <td>0</td>\n    </tr>\n    <tr>\n      <th>...</th>\n      <td>...</td>\n      <td>...</td>\n      <td>...</td>\n    </tr>\n    <tr>\n      <th>895</th>\n      <td>Brazil</td>\n      <td>2</td>\n      <td>0</td>\n    </tr>\n    <tr>\n      <th>896</th>\n      <td>Serbia</td>\n      <td>1</td>\n      <td>2</td>\n    </tr>\n    <tr>\n      <th>897</th>\n      <td>Serbia</td>\n      <td>0</td>\n      <td>2</td>\n    </tr>\n    <tr>\n      <th>898</th>\n      <td>Germany</td>\n      <td>0</td>\n      <td>1</td>\n    </tr>\n    <tr>\n      <th>899</th>\n      <td>France</td>\n      <td>4</td>\n      <td>2</td>\n    </tr>\n  </tbody>\n</table>\n<p>900 rows × 3 columns</p>\n</div>"
     },
     "execution_count": 23,
     "metadata": {},
     "output_type": "execute_result"
    }
   ],
   "source": [
    "df_local"
   ],
   "metadata": {
    "collapsed": false
   }
  },
  {
   "cell_type": "code",
   "execution_count": 24,
   "outputs": [],
   "source": [
    "# unimos ambos, agrupamos por equipo y hallamos el promedio\n",
    "df_team_strength = pd.concat([df_local, df_visit], ignore_index=True).groupby('team').mean()"
   ],
   "metadata": {
    "collapsed": false
   }
  },
  {
   "cell_type": "code",
   "execution_count": 28,
   "outputs": [
    {
     "data": {
      "text/plain": "                goals_scored  goals_conceded\nteam                                        \n Algeria            0.500000        0.750000\n Angola             0.500000        0.500000\n Argentina          1.000000        1.571429\n Australia          0.600000        2.200000\n Austria            0.666667        0.888889\n...                      ...             ...\n United States      1.111111        2.888889\n Uruguay            0.615385        1.615385\n Wales              0.500000        0.750000\n West Germany       1.666667        2.266667\n Yugoslavia         0.700000        1.600000\n\n[280 rows x 2 columns]",
      "text/html": "<div>\n<style scoped>\n    .dataframe tbody tr th:only-of-type {\n        vertical-align: middle;\n    }\n\n    .dataframe tbody tr th {\n        vertical-align: top;\n    }\n\n    .dataframe thead th {\n        text-align: right;\n    }\n</style>\n<table border=\"1\" class=\"dataframe\">\n  <thead>\n    <tr style=\"text-align: right;\">\n      <th></th>\n      <th>goals_scored</th>\n      <th>goals_conceded</th>\n    </tr>\n    <tr>\n      <th>team</th>\n      <th></th>\n      <th></th>\n    </tr>\n  </thead>\n  <tbody>\n    <tr>\n      <th>Algeria</th>\n      <td>0.500000</td>\n      <td>0.750000</td>\n    </tr>\n    <tr>\n      <th>Angola</th>\n      <td>0.500000</td>\n      <td>0.500000</td>\n    </tr>\n    <tr>\n      <th>Argentina</th>\n      <td>1.000000</td>\n      <td>1.571429</td>\n    </tr>\n    <tr>\n      <th>Australia</th>\n      <td>0.600000</td>\n      <td>2.200000</td>\n    </tr>\n    <tr>\n      <th>Austria</th>\n      <td>0.666667</td>\n      <td>0.888889</td>\n    </tr>\n    <tr>\n      <th>...</th>\n      <td>...</td>\n      <td>...</td>\n    </tr>\n    <tr>\n      <th>United States</th>\n      <td>1.111111</td>\n      <td>2.888889</td>\n    </tr>\n    <tr>\n      <th>Uruguay</th>\n      <td>0.615385</td>\n      <td>1.615385</td>\n    </tr>\n    <tr>\n      <th>Wales</th>\n      <td>0.500000</td>\n      <td>0.750000</td>\n    </tr>\n    <tr>\n      <th>West Germany</th>\n      <td>1.666667</td>\n      <td>2.266667</td>\n    </tr>\n    <tr>\n      <th>Yugoslavia</th>\n      <td>0.700000</td>\n      <td>1.600000</td>\n    </tr>\n  </tbody>\n</table>\n<p>280 rows × 2 columns</p>\n</div>"
     },
     "execution_count": 28,
     "metadata": {},
     "output_type": "execute_result"
    }
   ],
   "source": [
    "df_team_strength"
   ],
   "metadata": {
    "collapsed": false
   }
  },
  {
   "cell_type": "markdown",
   "source": [
    "## 2. Function predict_points"
   ],
   "metadata": {
    "collapsed": false
   }
  },
  {
   "cell_type": "code",
   "execution_count": null,
   "outputs": [],
   "source": [
    "def predict_points(local, visit):\n",
    "    if local in df_team_strength.index and visit in df_team_strength.index:\n",
    "        lamb_local = df_team_strength.at[local, 'goals_scored'] * df_team_strength[visit, 'goals_conceded']\n",
    "        lamb_visit = df_team_strength.at[visit, 'goals_scored'] * df_team_strength[local, 'goals_conceded']\n",
    "        prob_local, prob_visit, prob_draw = 0, 0, 0\n",
    "        for x in range(0, 11):\n",
    "            for y in range(0, 11):\n",
    "                p = poisson.pmf(x, lamb_local) * poisson.pmf(y, lamb_visit)\n",
    "                if x == y:\n",
    "                    prob_draw += p\n",
    "                elif x > y:\n",
    "                    prob_local += p\n",
    "                else:\n",
    "                    prob_visit += p\n",
    "\n",
    "        points_local = 3 * prob_local + prob_draw\n",
    "        points_visit = 3 * prob_visit + prob_draw\n",
    "\n",
    "        return points_local, points_visit\n",
    "    else:\n",
    "        return 0, 0"
   ],
   "metadata": {
    "collapsed": false
   }
  }
 ],
 "metadata": {
  "kernelspec": {
   "display_name": "Python 3",
   "language": "python",
   "name": "python3"
  },
  "language_info": {
   "codemirror_mode": {
    "name": "ipython",
    "version": 2
   },
   "file_extension": ".py",
   "mimetype": "text/x-python",
   "name": "python",
   "nbconvert_exporter": "python",
   "pygments_lexer": "ipython2",
   "version": "2.7.6"
  }
 },
 "nbformat": 4,
 "nbformat_minor": 0
}

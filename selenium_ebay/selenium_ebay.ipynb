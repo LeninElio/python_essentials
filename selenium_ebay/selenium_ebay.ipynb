{
 "cells": [
  {
   "cell_type": "code",
   "execution_count": 69,
   "metadata": {
    "collapsed": true,
    "pycharm": {
     "name": "#%%\n"
    }
   },
   "outputs": [],
   "source": [
    "from selenium.webdriver.chrome.service import Service\n",
    "from selenium import webdriver\n",
    "import os\n",
    "import time\n",
    "from selenium.webdriver.common.keys import Keys\n",
    "from selenium.webdriver.common.by import By\n",
    "import pandas as pd"
   ]
  },
  {
   "cell_type": "code",
   "execution_count": 70,
   "outputs": [],
   "source": [
    "driver_path = '../driver/chromedriver.exe'\n",
    "service = Service(executable_path=driver_path)\n",
    "driver = webdriver.Chrome(service=service)\n",
    "\n",
    "url = 'https://www.ebay.com/'\n",
    "driver.get(url)"
   ],
   "metadata": {
    "collapsed": false,
    "pycharm": {
     "name": "#%%\n"
    }
   }
  },
  {
   "cell_type": "code",
   "execution_count": 71,
   "outputs": [],
   "source": [
    "buscar = 'iphone 13'\n",
    "articulo = driver.find_element(by = By.ID, value = 'gh-ac')\n",
    "articulo.send_keys(buscar)\n",
    "\n",
    "pulsar = driver.find_element(by = By.ID, value = 'gh-btn')\n",
    "pulsar.click()"
   ],
   "metadata": {
    "collapsed": false,
    "pycharm": {
     "name": "#%%\n"
    }
   }
  },
  {
   "cell_type": "code",
   "execution_count": 72,
   "outputs": [],
   "source": [
    "nombres = driver.find_elements(by = By.XPATH, value = \"//ul[@class='srp-results srp-list clearfix']/li/div/div[2]/a/div/span\")\n",
    "nombres = [i.text for i in nombres]"
   ],
   "metadata": {
    "collapsed": false,
    "pycharm": {
     "name": "#%%\n"
    }
   }
  },
  {
   "cell_type": "code",
   "execution_count": 73,
   "outputs": [
    {
     "data": {
      "text/plain": "['Apple iPhone 13 - 128GB - Starlight (Unlocked)',\n 'NEW SEAL Apple iPhone 13 Pro Max 256GB Graphite/Blue (AT&T/CRICKET)',\n 'Apple iPhone 13 Pro Max - 128gb - Factory Sealed - Factory Warranty - Unlocked!',\n 'Apple iPhone 13 Pro Max | 256GB Graphite | T-Mobile + Metro + Mint | Excellent',\n 'ANUNCIO NUEVOApple iPhone 13 Pro - 256GB - Sierra Blue (Unlocked)',\n 'Apple iPhone 13 Pro - 256gb - Factory Sealed - Factory Warranty - UNLOCKED!',\n 'Apple iPhone 13 Pro 128GB | T-Mobile + Metro + Mint Mobile | Excellent',\n 'Apple iPhone 13 Pro - 128gb - Factory Sealed - Factory Warranty - UNLOCKED!',\n 'ANUNCIO NUEVOApple iPhone 13 Pro - 256GB - Sierra Blue (AT&T)',\n 'Apple iPhone 13 128GB | Factory Unlocked | All Colors | Excellent',\n 'Apple iPhone 13 Mini 128GB | Factory Unlocked | All Colors | Excellent',\n 'ANUNCIO NUEVOApple iPhone 13 Pro Max - 256GB - Silver - Factory Unlocked',\n 'Apple iPhone 13 Pro Max All Capacities ATT Sprint TMobile Unlocked VZW Excellent',\n 'Apple iPhone SE 2020 64GB 128GB 256GB BRAND NEW Unlocked Smartphone 100% SEALED',\n 'Case For iPhone 11 12 13 PRO MAX Mini X XR Soft Shockproof Full Protective Cover',\n 'ANUNCIO NUEVOApple iPhone 13 - 128GB - Midnight (AT&T)- A2482',\n 'NEW SEALED Apple iPhone 13 mini - 128GB - Midnight (T-Mobile LOCKED)',\n 'ANUNCIO NUEVOApple iPhone 13 Pro Max - 128GB - Sierra Blue (AT&T)',\n 'iPhone 13 Pro Max 256gb Sierra Blue - Unlocked- With AppleCare!!',\n 'Apple iPhone 13 Pro 128/256/512GB/1TB AT&T Sprint TMobile Unlocked VZW Excellent',\n 'Apple iPhone 13 Pro - 128GB - Silver (Unlocked)',\n 'ANUNCIO NUEVOApple iPhone 13 Pro Max - 128GB - Gold (Unlocked)',\n 'ANUNCIO NUEVOiphone 13 Pro',\n 'iPhone 13 pro 128gb alpine green unlocked warranty',\n 'ANUNCIO NUEVOiPhone 13 pro',\n 'Apple iPhone 13 Pro Max - 512GB - Sierra Blue (Unlocked)',\n 'Apple iPhone 13 Pro 128GB | Factory Unlocked | Excellent',\n 'Apple iPhone 13 Blue 128GB *10:10* No Accounts, Clean IMEI, Metro PCS',\n 'Apple iPhone 13 Mini 128/256/512GB ATT Sprint TMobile Unlocked Verizon Excellent',\n 'Apple iPhone 13 Pro Max All Capacities ATT Sprint TMobile Unlocked VZW Very Good',\n 'Apple iPhone 13 MINI - 128GB 256GB (UNLOCKED) ✅APPLE WARRANTY✅ ⚫⚪🔴🔵 ✤SEALED✤',\n 'Apple iPhone 13 128GB 256GB 512GB AT&T Sprint TMobile Unlocked Verizon Very Good',\n 'Apple iPhone 13 Pro Max 128GB Alpine Green (Unlocked) A2484',\n 'Apple iPhone 13 - 128GB 256GB 512GB - All Colors - Excellent Condition',\n 'iPhone 13 mini 128GB Blue, 5G Unlocked, Fast Delivery, Less Than 11 Months Old',\n 'Apple iPhone 13, 256GB, Black, Excellent Used Condition, 6 Months Old',\n 'Apple iPhone 13 mini - 128GB 256GB 512GB - All Colors - Excellent Condition',\n 'ANUNCIO NUEVOApple iPhone 13 Pro - 128GB - Sierra Blue (T-Mobile/Sprint) SEALED (212)',\n 'Apple iPhone 13 - 128GB 256GB 512GB (UNLOCKED) ✅APPLE WARRANTY✅ ⚫⚪🔴🔵 ✤SEALED✤',\n 'Apple iPhone 13 128GB Midnight Unlocked Excellent Condition',\n 'Apple iPhone 13 Pro Max 256GB Alpine Green (Unlocked) A2484',\n 'Apple iPhone 13 128GB Blue - Blacklisted **Att&t ***',\n 'Apple iPhone 13 Pro Max - 128GB - Sierra Blue (Unlocked) Excellent, AppleCare+',\n 'ANUNCIO NUEVOApple iPhone 13 mini (PRODUCT)RED - 256GB - (AT&T)',\n 'Apple iPhone 13 Pro Max 256GB Gold (Unlocked) A2645',\n 'ANUNCIO NUEVOApple iPhone 13 Pro - 256GB - Color Grafito (Desbloqueado)',\n 'ANUNCIO NUEVOApple iPhone 13 Pro Max - 256GB - (AT&T) -(GRAPHITE) BAD IMAI/ESN Please Read!',\n 'Apple iPhone 13 | 128GB Blue | T-Mobile + Metro + Mint Mobile | Excellent',\n 'Mint Apple iPhone 13 Pro Max 128GB Silver Unlocked Verizon ATT TMobile MLF33LL/A',\n 'Apple iPhone 13 256GB Pink Perfect Condition',\n 'Apple iPhone 13 6.1in 256GB Midnight Unlocked MLAH3LL/A Mobile Smartphone Cell',\n 'Apple iPhone 13 Pro Max 256GB | Factory Unlocked | All Colors | Excellent',\n 'Apple iPhone 13 Pro Max - 256 Go - Graphite (Déverrouillé) - Avec Facture',\n 'ANUNCIO NUEVOApple iPhone 13 Pro Max - 1TB - Alpine Green (AT&T)',\n 'Apple iPhone 13 Pro - 512GB - Gold (Unlocked)',\n 'Apple iPhone 13 Pro 256GB | Factory Unlocked | Excellent | All Colors!',\n 'Apple iPhone 13 | 128GB Green | T-Mobile + Metro + Mint Mobile | Excellent',\n 'ANUNCIO NUEVOApple iPhone 13 - 128GB - Blue (Unlocked)',\n 'Apple iPhone 13 Pro Max All Capacities AT&T Sprint TMobile Unlocked Verizon Good',\n 'Apple iPhone 13 Pro Max - 128/256/512GB 1TB - Unlocked Verizon - Excellent']"
     },
     "execution_count": 73,
     "metadata": {},
     "output_type": "execute_result"
    }
   ],
   "source": [
    "nombres"
   ],
   "metadata": {
    "collapsed": false,
    "pycharm": {
     "name": "#%%\n"
    }
   }
  },
  {
   "cell_type": "code",
   "execution_count": 74,
   "outputs": [],
   "source": [
    "precio_path = \"//ul[@class='srp-results srp-list clearfix']/li/div/div[@class='s-item__info clearfix']/div[@class='s-item__details clearfix']/div[1]/span\"\n",
    "precios = driver.find_elements(by = By.XPATH, value = precio_path)\n",
    "precios = [i.text for i in precios]"
   ],
   "metadata": {
    "collapsed": false,
    "pycharm": {
     "name": "#%%\n"
    }
   }
  },
  {
   "cell_type": "code",
   "execution_count": 75,
   "outputs": [
    {
     "data": {
      "text/plain": "['S/. 3 121.04',\n 'S/. 3 897.40',\n 'S/. 4 193.86',\n 'S/. 3 608.66',\n 'S/. 2 963.02',\n 'S/. 4 170.49',\n 'S/. 2 847.91',\n 'S/. 3 784.22',\n 'S/. 2 013.07',\n 'S/. 2 535.80',\n 'S/. 2 126.17',\n 'S/. 2 730.91',\n 'S/. 3 433.10 a S/. 4 681.52',\n 'S/. 1 248.38 a S/. 1 326.40',\n 'S/. 13.31',\n 'S/. 2 399.26',\n 'S/. 2 141.81',\n 'S/. 2 391.50',\n 'S/. 3 628.21',\n 'S/. 2 769.88 a S/. 4 408.43',\n 'S/. 2 516.34',\n 'S/. 3 396.76',\n 'S/. 2 270.90',\n 'S/. 3 057.52',\n 'S/. 2 674.82',\n 'S/. 3 238.08',\n 'S/. 3 394.09',\n 'S/. 2 340.74',\n 'S/. 2 418.77 a S/. 2 886.92',\n 'S/. 3 277.05 a S/. 4 564.48',\n 'S/. 2 925.78 a S/. 2 964.79',\n 'S/. 2 555.31',\n 'S/. 2 849.76',\n 'S/. 2 145.71 a S/. 2 925.97',\n 'S/. 2 008.19',\n 'S/. 2 482.25',\n 'S/. 2 028.67 a S/. 2 453.92',\n 'S/. 2 816.74',\n 'S/. 3 312.01',\n 'S/. 2 769.88',\n 'S/. 2 787.42',\n 'S/. 1 950.65',\n 'S/. 3 706.23',\n 'S/. 198.97',\n 'S/. 2 582.59',\n 'S/. 2 429.17',\n 'S/. 1 658.05',\n 'S/. 2 243.21',\n 'S/. 3 624.31',\n 'S/. 2 612.89',\n 'S/. 2 730.91',\n 'S/. 4 326.54',\n 'S/. 3 310.38',\n 'S/. 3 803.76',\n 'S/. 3 117.14',\n 'S/. 3 706.19',\n 'S/. 2 808.89',\n 'S/. 2 270.90',\n 'S/. 3 316.06 a S/. 4 447.44',\n 'S/. 4 096.32 a S/. 4 681.52']"
     },
     "execution_count": 75,
     "metadata": {},
     "output_type": "execute_result"
    }
   ],
   "source": [
    "precios"
   ],
   "metadata": {
    "collapsed": false,
    "pycharm": {
     "name": "#%%\n"
    }
   }
  },
  {
   "cell_type": "code",
   "execution_count": 76,
   "outputs": [],
   "source": [
    "urls = driver.find_elements(by = By.XPATH, value = \"//ul[@class='srp-results srp-list clearfix']/li/div/div[@class='s-item__info clearfix']/a\")\n",
    "urls = [i.get_attribute('href') for i in urls]"
   ],
   "metadata": {
    "collapsed": false,
    "pycharm": {
     "name": "#%%\n"
    }
   }
  },
  {
   "cell_type": "code",
   "execution_count": 77,
   "outputs": [
    {
     "data": {
      "text/plain": "['https://www.ebay.com/itm/165664638682?epid=8049288614&hash=item269261c6da:g:OBIAAOSwKiZjGCjl&amdata=enc%3AAQAHAAAA4Iauqz%2FqNMvAN8fgo8YXt8dAvNN%2BJzbUkIv0Rk8GRFEcF4%2F6jJ6IJX39vak3%2FirKWfeIBHZW%2FnuCsPY1plYJ3pCk1QZHkvVZLjHXEkLTxtLVbf0O%2Fx2sEPqZNGS%2FTWee7I%2BIthFniCp95HCZyjV2XNX0m84pi%2FuNlIom4QTIfaQryffSKSXGH6oSC9dYfNuAV1%2FwEMcwnWMAbDPIIcwlLncJ%2Ba9jP7prxq87Hv427zp3U3qEE3r70O9A8NnK96jWbcHjj5k21gjVg4HD7MhcKsTaW5uaGhriTlSVsZbsbivg%7Ctkp%3ABFBMtoCVouxg',\n 'https://www.ebay.com/itm/334542602686?epid=25049270757&hash=item4de44b01be:g:0P0AAOSw-uVi2chs&amdata=enc%3AAQAHAAAA4Nlb7WH6GsfvrCRTkhx%2FseyFEpa3bY1NcuruqI8Hl%2BMDWZWPGq525clrGwuFLfLcOoU8G4q48jurBUeXNR36kiVafdUedq3KM42DSIEAmh5rS6xygl36OUO7R0znhEmMVEgcfQPH%2FYC%2FjwJN56j2vQKNig3YjIdP20Xn%2BPO8dvyB7iPb0deSTYtbgAwPI5biPQ4gjdXn6E7nt8sLEN4TxOU9mP1ZO4gh95BDRZPA8FN4BI9CpKMqH2llH2mA0%2Bj4S3fzolGDDiS%2BFM1SmLd%2F571ybudlGTPfDh%2BBuBBAe8Vp%7Ctkp%3ABFBMtoCVouxg',\n 'https://www.ebay.com/itm/154613773340?epid=10049287446&hash=item23ffb2f41c:g:wkUAAOSwlvthQ5FM&amdata=enc%3AAQAHAAAAoFU2SRzIVSZT06Suqh3RdJXV9iJK2EC16kqViCrjojQi41SiqKG87V5rYWUi%2BbiJAXfFbPUXg9jK6gSVP382hjqmz5LYTmgEjgQyoPXbSEMj9hHk0Nafbl6NzYc7jY5GYpPoHuKWOoCGyv7cQqoZcxH7mjkv%2B7xyhZGAzJM%2BQwxKZ3MbSAwzo%2Bc6njPqIOeMKq7ZeDX5XVZYxkQ7W62OEmU%3D%7Ctkp%3ABk9SR7aAlaLsYA',\n 'https://www.ebay.com/itm/265862160850?epid=8049288666&hash=item3de69ea1d2:g:7SIAAOSwLM1jIO4a&amdata=enc%3AAQAHAAAAoIGh2T2FGalV%2FwzO6ZgHiQRILyn65AbWW%2FSkIVf%2Bee9CPIFYIfUCeJQIXpJ7iYhBmOBo3%2BhtwBHqFeXSHmvwNdmEnYHi05T%2B%2BATDJZZvQyeFuSfXPIYLNxvmkHwqdOC08K%2BXbKbZVbDkiPz%2BTsIdPd62i76VcSk4s1aydVVxYehl8wFCTc4aYv1iEdCoNLJXZD37iltXvxXiwroMpjFk5%2BE%3D%7Ctkp%3ABk9SR7aAlaLsYA',\n 'https://www.ebay.com/itm/403897587306?hash=item5e0a2c166a:g:TxoAAOSwHsRjIWa0&amdata=enc%3AAQAHAAAAoBypARWZAwelJeUfGDWMdAzGJekqBx%2FoldIqp0yiovYfVW1CgqbbYP0v9FgkeTVdYmdha7UeSjGklcCo6hnsJcVpPGj%2Fm4HGp%2BUSWxQc2dXtmOOJ2Yr4WYsNXZucu%2B1yl%2B80Xiix%2FnjllCJqaGoayMAcxvP3aGP5dtQAtJgQIZYbvoZRfokYNnZEutFUbU0uuLtaOsig02J9jCMLiu7hfw0%3D%7Ctkp%3ABk9SR7aAlaLsYA',\n 'https://www.ebay.com/itm/154613765451?epid=8049288657&hash=item23ffb2d54b:g:t5UAAOSwglxhQ41S&amdata=enc%3AAQAHAAAAoE2Y7QXn4elW3wH%2BqSNi%2BIgP4QF0TaLUR0RVWXbsLjjsf5b7zIWAcXAzi9hrrSg2DAP2sk%2BKvE5zvuwsovQ79W%2BIFY5t%2BeYPAMYsxIe2ypDrcdvSzHD408fMFn0OTcY2aoF3W5sV9Xp%2Bermt28DlpeXuCjbhCkmLKTYOvZtgFzuK0L1SkCZZmYJL1ti0dTdZdvqQzmN223cilYWusMg%2BoL4%3D%7Ctkp%3ABk9SR7aAlaLsYA',\n 'https://www.ebay.com/itm/334553869245?hash=item4de4f6ebbd:g:XSUAAOSwya5jF6-b&amdata=enc%3AAQAHAAAAoHKuIvagMlAc%2BhB0lclKbBKElDuroq2Mk%2BsX6%2B86Wfjvkak4s%2FGSKpE2KoBZ9N3phSYa7ayYzvEnDTUKhC6aTrtRlzmoEjJsOGr%2FTEQFZh3186czxCnx9jDbNLkWwnDnJwHa93hXmQhFSJtj5XiiLnV%2B46kVsmZZFSJu6ZIePMEOpGnqzUPzvCIpqLwi0lwgodICx52ciyptjubARiB8fqU%3D%7Ctkp%3ABk9SR7aAlaLsYA',\n 'https://www.ebay.com/itm/165075660740?hash=item266f46afc4:g:t5UAAOSwglxhQ41S&amdata=enc%3AAQAHAAAAoO%2BYtmx%2FZr2uxrPRcKxEafidhNpT1y7FV1a6jP3lhxyVVz321WkhJpUeBv4rsXRaarVAf1nGOdxdqD7GAl%2BOECZgz7J4G%2FVEmBN0%2BB06qyz4myH7BxOyfBFB5j3nAqRuyO1t8gebyoKRq947nadHqwLOjIb%2BARxxqxjZGhfrk57RTI9s%2BNODUwe%2BFrTxpA3OP1QnvZ81nqa9%2Byt8k9XewRk%3D%7Ctkp%3ABk9SR7iAlaLsYA',\n 'https://www.ebay.com/itm/225172550311?epid=13049280999&hash=item346d5472a7:g:HZoAAOSwxIZjKx0o&amdata=enc%3AAQAHAAAAoOZzSpiJYIEbdMmdDW%2B52KZkfR7bIcLf48u3IslO02FqiFMEGCBeh2gbDXa%2BRt3ul8itMBiQXSk9PhONsMIOKVC1qvPUZItTlz1VPaU3XNmltFj8e3SMfW9I4Dz99yvIrLxIfOSe7ANpoREiaWBCdExaP%2FGFN3mTUS6i7ABMduXrocUyo%2BA47Z5ChUhmNyr9pst36hryhpT7XriCkmjGXtE%3D%7Ctkp%3ABk9SR7iAlaLsYA',\n 'https://www.ebay.com/itm/234686735387?hash=item36a46b641b:g:wZ8AAOSw0opjF8TF&amdata=enc%3AAQAHAAAAoN6OxecWJPCdxV586Ny3ab0cunnNfROUtqvqKf4OISKO8MpAqTEm9Gsqzr6n8prqZu%2FUCcJp4DoOGqYoO9DftxDke0o68UTSwqeOiIl%2FyvSk3IHIDHLePEy%2Bnylu2yeh0yb%2BiBg%2Berw8GIgvcNgw8UfpUwtqMWlKPrgNxVpRo73GwhyGlzVlV356kK8Kvc1qTWFtAnx3AmxnBJ%2FPw4%2B9lyw%3D%7Ctkp%3ABk9SR7iAlaLsYA',\n 'https://www.ebay.com/itm/265872812439?epid=27049276471&hash=item3de7412997:g:ZooAAOSw4jNjIO3N&amdata=enc%3AAQAHAAAAoB9jQM86UBwcY3G9qWhGx3i7khicbHAaEpirvaQkuA2xE%2BaeuDDZS7OshZyJRFnhgOYrUOc%2B4QefZPdnvtVZJgn0MqvDa%2Fni9h0V3IkXBbTycFajyUMe1hIxRICqUJJ2%2F%2FI%2FbAcXlBuJIUEsRhXDNbjxjBVRnzDttqIMhFtuyIMobtLC1Bd5Z%2BmlhphMT2nEBso2nwbhNlKYHxDYx4bofqI%3D%7Ctkp%3ABk9SR7iAlaLsYA',\n 'https://www.ebay.com/itm/234701624766?epid=14049280233&hash=item36a54e95be:g:3AcAAOSwyGdi2O6j&amdata=enc%3AAQAHAAAA4OmCFB01dXoow0Fs43b1p%2F7jL2m9LEt90r4xfYZpOMsrypkndkPoQ0wWJVhyIYdEUQoPY60LxFylmm4V6KEAmIEKQ66GGhlatmgeaVR8IgX0Cbb8jhmLlwPsFML5IawRgAg0FidFHD8MWUxNSYr8v9Jdhov4faMbqnTxED66i4%2FqCi%2B6YhGM3CnKpWEx250g5Gez0bf7qfuOCrZuP0m6sxlXHTU6wiPzyag1cz1VnSaq5ReaKLFO4XRvNF7KDxRNvvULhdPRVxjRBrZCqU6fQlut%2Fc8asoBaMouux4Xz9V0d%7Ctkp%3ABk9SR7iAlaLsYA',\n 'https://www.ebay.com/itm/294493535899?epid=8049288666&hash=item44912ebe9b:g:IbkAAOSwNO5ii-Xg&amdata=enc%3AAQAHAAAA4JasGGvqddrbUjqEA7e2TrsPY1Frs8AUUzgOaZOmd6caR34OIup%2BkK2fLJpebnDGHWPEjCKJSFbXoKdUZTY4ZeAbLlMyfrZw%2FNC7LobP3Lf50x3Y4GsPV1WGe%2BLPljeNkLPum%2FvVC6tEDQ%2BN9fWIeM7oz1aFjDxtnXIPrsqwihA543nXbhaLVC%2BK4lfsJ0gSduTEBMGZ6pgfNBxIzCmf16Kg2ne7rXwn2xYkCbGn6TyAHr6uIbvfFHbJTX6vFKA7nry8U5tOb%2BymK70hyftj24mtM3rlYZjPNTnUaEcPbWif%7Ctkp%3ABk9SR7iAlaLsYA',\n 'https://www.ebay.com/itm/353972112602?epid=15044127723&hash=item526a61ccda:g:53EAAOSwOBxhgGJE&amdata=enc%3AAQAHAAAA4Ei%2BjkcHeBkUkY4yvTblhpXgPfuaj37EJSTsgSSt9OFYbdnmqu0vKR5gLbV7mXRhUkIVjsSfJowQAAwvRv5XE2R9lu82uuZtbhs9xybL7y%2F8LHoUrccGSMc4DuysQ43R3qFbhabWzpQO9XnO9xl9vLGF1%2B8xBkPt99UfEFZTON3N96sTHHx9%2FeVdrYZ0IJSzPrSgfgqT11I39AymwBioqUdLsxlKP76syscbbqV%2B8%2FiLODBnLCaF09e9q%2F52RSMSVZbs94M14znPtj2NnSTkpEd5PDHLNr6DC8p1X33mib8d%7Ctkp%3ABFBMuICVouxg',\n 'https://www.ebay.com/itm/165553784942?hash=item268bc6486e:g:31QAAOSwCZljHzaO&amdata=enc%3AAQAHAAAA4EZZue1wPed360fr5%2BWdCWrmdZo2epo7t6N21Cw4RUmRfYLINxLyDymbUFcLgVPidF1ROFoFR4sjjm4pPPF7l4Xif1GV2qFrv1%2FV0OR63EDjXo7zNCCThr3hUvLtZtymZWsjL6zf0s1R65KW1WbM2z5T9nkc4vjfPzD3qjQb%2B61nOi9wbNbSwDWOO%2BXZ5IPld8sv%2BYkPqt%2BUQvU2GUwLDnlRh7pF6x%2FWIyvlyWigLPRM%2BiwuhN6i3W9UGKaYOvmx1Oxj6XxagCKpy1tLYJpbziFFDEd4Bpn1%2BwjrrMyiBPra%7Ctkp%3ABFBMuICVouxg',\n 'https://www.ebay.com/itm/144729155438?epid=3049291507&hash=item21b287a76e:g:FcIAAOSwxy5jK4eE&amdata=enc%3AAQAHAAAA4E4RqQyvmvki9o8ROnnZm5J2k42gZQ8jM2FqSs0EL7x0vJR0helFE1U5f26dhWcQ3RKARL%2BClPxgPSFLgXz%2BJ5qSx%2BgIHZ9m2qKVcF5fs0Q2KCfSvf84ZvEvnK2Lv0sgXccJnGHWse7UGfzVqzduyGQNP0QQjBP3azima2ZSUim3oc%2BRJEIGyERjWmOiE%2Bwj3zk5DPecztY7BRTJero49qKLprToHRuJuJIwOvsikhjft2XKAlrHWVvzpVCuxaYNUv6o0yKaXLgzZeod8t4c0mCiZ%2BLrNOKNEOiJs88Dk%2BcK%7Ctkp%3ABFBMuICVouxg',\n 'https://www.ebay.com/itm/115438745076?epid=7049287463&hash=item1ae0af75f4:g:KbQAAOSwngZitIBX&amdata=enc%3AAQAHAAAAoCUvEG%2F9ABSyzavnHwaqJcztQJi2UKNhPmqQkMA6ojBuE1Vq2cCeDc1bso9%2FGghIztCoDPSx%2FenvkNBpZX25BmeV2ZQ83ZjDc9R3SxirUMRtfD5UyooVGpgyEK%2FL0GJNmMan3nAnycZm18vrf9gTUP4KRpDIf9FqISDLfBZdYqSgGb7ROyzLsTpjGK9jv8cr1sRr2Tfz8W18lnc4AfUFyiM%3D%7Ctkp%3ABk9SR7iAlaLsYA',\n 'https://www.ebay.com/itm/363987358063?epid=12049274319&hash=item54bf56516f:g:gVwAAOSweO9jKkAB&amdata=enc%3AAQAHAAAAoJ2fUl0bmvLWYJeeZBhbTEe2JpHAPEodxYPc0sXDGGodzEFoGzHzVeqERxB4BVSTzYRNCCEjAeRTGpxeiFMi%2BEGvfopzG3o3TgWUKHvIlZxIdhbSrIBPh7uuJ4sjDHDI2utxO%2B%2FeNehnWhqgo2t3YF4OHbj4yNfs2m6lgu5DvrxeWIV3lvSi4Z1ya5sl89iYEy2qr3lO%2Fj1gYaztgN5qpjE%3D%7Ctkp%3ABk9SR7iAlaLsYA',\n 'https://www.ebay.com/itm/234701174359?epid=10049287470&hash=item36a547b657:g:6zQAAOSwgDBjKG8a&amdata=enc%3AAQAHAAAAoNBdcX8%2Brkf%2BfxNFb5Eifeb3MZ21huWuxrI84BLkO7KqGtxsCIhgjHwfDulLsVuzFkRgbVj7IQQDA8IXf7VX5GrsfyTZb2HkrbjTn7xVl309GQ%2FkLaNpfNAgzqWiNNGSaHIiG53Jo0Onf8XECLNB88QdBvbO9imjmNpTrTcl9Oz0V%2FhBD2bUzVDeO6xM866FrOff7oIbzFzRlVSFi9sWVxk%3D%7Ctkp%3ABk9SR7iAlaLsYA',\n 'https://www.ebay.com/itm/284503104716?epid=7049287454&hash=item423db4dccc:g:hgkAAOSwcqpjB8ko&amdata=enc%3AAQAHAAAA4AFK%2Bh0pU3ydTvEXJBTtC%2FbBopyeWiCYnoggCNYICG0meCY0VXcrTsfIZiBRfdajn7RbJ3fPzOX4sFL822f861LiQMpdBTvJwNeUbPYVXkjxtpceTCdhHJuswrF8NSDOMS2HGKC%2FfhKOXmWtDptzSltPazFfH3lWznoO67Uhji4O6Vq%2FPFPVza7POe1wsY4y8kDQ8Y6j%2BsM3%2FSEJv0TBCAQd272%2FYjMBtRclDfwNUI2AoNMjIS3CfhbLdRKlX%2Fdl1l%2Bdt96BfjmbyIP0Y0OfQZXcCTRIsdwISh1pVgATuiyk%7Ctkp%3ABk9SR7iAlaLsYA',\n 'https://www.ebay.com/itm/225170265747?epid=28049285668&hash=item346d319693:g:yz4AAOSwSNJjKPMl&amdata=enc%3AAQAHAAAA4PO%2FbcsfIyyGdPT47jy6KqOXrOh6TC6ZS2NUMEU%2BtggVpVpuJp8lzC8rI766UTsoM8lz4JEgfgDvmB2zPRv%2BTM6ixN%2F7xQ8y2LtSrJWotjoipzKyhHe0oOEhtMXmCpSNXahQSfPPEGQdvOcvzoCw7u7XR0%2BHtouckUVdPDadSqG14hPDapAyACc27FYOuU4ep11fccK0Avk4xJ2MQoq4LFoGRI9MNMc%2Fl7LZypl%2Bv92Fpv6qlLjICtFADSJs0uwI6OBFexTvE73tjt%2ByP2Snkcnt5%2F153OcOJBrxneJgnMQy%7Ctkp%3ABk9SR7iAlaLsYA',\n 'https://www.ebay.com/itm/165686328424?epid=25049270759&hash=item2693acbc68:g:xRMAAOSwpLFjKYI-&amdata=enc%3AAQAHAAAAoKrIQxypFLf0ZzvjJ6bmDwpJ7cjuyYr6UcNKZOkjYPMxob6lGXp7og0rRwyVXrrhMEGsml4JPREgBJaLWEWQzLx8mONP2n2n%2Bo5ssmmmJdp093hyGLGf14AbF4f3wLS%2BChm5Y3TY1FZZueJmZCGFFSTbZp7V8WQGJj16Q8C%2BI2A%2Fl54qb6fFQ6VS3oPJH5WYiFv5GNP0Zlpt1l6%2BohPYL9k%3D%7Ctkp%3ABk9SR7iAlaLsYA',\n 'https://www.ebay.com/itm/185589747926?epid=13056252921&hash=item2b3602d0d6:g:6mEAAOSwGBZjJtfl&amdata=enc%3AAQAHAAAAoGm1FfzzUl1vGjVHO%2BgpYf1qoCp8snGNCeVXCLQXdtsxVHgcWYJjr34yCJ7bEwub3ecc3NAqqyD2AWaPYj7Qtu7hDwerIhSqV78wnxoBqLwQRIyiJ9Dj7MIGQSCxbYgBwUBNK7Bw0Cc2s%2BwTjIODJQNyIXwULVBuYCMp%2BuFNGK31IMIZvlPSJ7DTiVjXhuvlEjKyl3LTqf4KZGClXL%2BU2Rw%3D%7Ctkp%3ABk9SR7iAlaLsYA',\n 'https://www.ebay.com/itm/354275903591?epid=27052767190&hash=item527c7d4867:g:e9EAAOSwV1NjKa5b&amdata=enc%3AAQAHAAAAoP9IrNzshyqVhuJPYKzR9HKG84hG45fEC9FLrljr2bcAhFTN1iboeLcLZXwBTXctT%2BneaWIg0t7b%2FZ9z32Fk%2F%2Fu0X2%2FFquiD5Gtxfzp0iOpaXi%2BZvaybIl6tgkuNcvvOIHmMtqYn49CJFZLe5GwPLH3Y4jsBGwKQp%2FHhqfNokzxc02jkZIdaDt6ATyGhkcHNtyIaMpb3qWTGwtchoaHXQW0%3D%7Ctkp%3ABk9SR7iAlaLsYA',\n 'https://www.ebay.com/itm/394252486921?hash=item5bcb478909:g:PGoAAOSwurJjKr3f&amdata=enc%3AAQAHAAAAoA%2F2FztjGoSCLYojVvf0sckjRMgYk9ebgw1p1MC8os9iamH0zIas%2F0jpfW0jelyweZhhNo2OVvWB4xV%2FD9FGLY6CWUESouYMqvpQrsrLcBIpSTPmXp1PDxZg7ifEQnFaZKjiqNgPd6syb7gdFqL5oUvewL7Wrtp%2F6GOiKYdue%2BXO7pL2TrSJc1FlVDk5e6IM4fGmFtUh6lPSZ1QUgQAP%2FyA%3D%7Ctkp%3ABk9SR7qAlaLsYA',\n 'https://www.ebay.com/itm/304632280225?epid=20049285656&hash=item46ed7fb4a1:g:8xIAAOSwDW1jHL8s&amdata=enc%3AAQAHAAAA4IX1lKSkJPy9NGm3oOvDhJQu8s%2BfoiLjb6VOcQitLiOrm6a085VvLFOtA9f9ZdWc%2FQnbI6mmPkqgWBfsiJnZvp2oAc%2B5KY7IWz6BGK9oZ94bWGsY9%2FXev3XXW8AWRDjItCxXT5Qk3whwFJHa3Ss1sVE9yTYaQkXvVTF%2FH7pOlcJHfslDQZpz8EZykiG%2B5ERUaZx4yqzJSVySHehykqeD0kZeAHfnVuGJdHRSM32%2F4ooLAt7q9N%2BqAYdkvrCGDYGkxv2z7qAMRRjpcuEK5o8asyMsvqOJrRr3DBsPK8AxfWzC%7Ctkp%3ABk9SR7qAlaLsYA',\n 'https://www.ebay.com/itm/263767927378?epid=19049287650&hash=item3d69cb2a52:g:dVcAAOSwaRRiVef3&amdata=enc%3AAQAHAAAAoFOFXZ277s0uRDJzhM7lHS5BaxqFIu7byly%2FZItdqynCKu%2FhtqrMJYL4VKUaS8wOlTOAl7T9HMgB0B70%2BF2IYIeeA9pZ9ZdZ9J2uBE6qGngqWJU%2BgU%2Fi8dCAGAHzJrg0Vw4junGMn2bJOLwY5vAgpAlOYdCV4CeOJJkS6NpmCOHFS22acx8hGLhpY%2FpxWUPkRLm33bjTsdDSXDNDv7fz144%3D%7Ctkp%3ABk9SR7qAlaLsYA',\n 'https://www.ebay.com/itm/403895333474?epid=21050799127&hash=item5e0a09b262:g:pGsAAOSwFH5jIyYA&amdata=enc%3AAQAHAAAAoEl56aaZ1k8EAxwOx1aeoVa3rxNhgdffSyNpmm8dEqQlazBvr%2BngLnrinxkwFFevPV6lmZpU3sJtmuZpjcT5lCpOsRk%2FL80nbOrzeLSnfKgmiF8N%2Fyuh32xSSwaDbiRBEee%2FAqosPJ7vQB9y8xC1fUx48lJBJxIWBCNr9Zsj6AX12%2FC%2BpBTeOwEqWfXsKu%2BiLBapBZdf3yCLVIYZoAFw4dw%3D%7Ctkp%3ABk9SR7qAlaLsYA',\n 'https://www.ebay.com/itm/294477306426?epid=7049287463&hash=item4490371a3a:g:uO4AAOSw3OdijQS-&amdata=enc%3AAQAHAAAA4FIoT0ihXRL%2FTdRtd%2B0DfO5Lomk0mx60%2FB0cTxDz15ThUHqUK9boy8qJsKoKFozzOMxfm35RjNkCme1hnVpRX4sn11qSzUGhKxuxq6SB8z8eH2gx%2FA8Jyni6szQ2FP46PcwRB%2BikKC2RfaHbw1ZShBatp9xLuOvgMFzAH5DsUJZ1mxetGJDHdHxOvku6jPOTTu6NM%2BNwdUFhpumh%2B0D1ohJNZzQICQHRETdKNkW9BLtUm1Pwq8xddTZ6b6xYaGqWCHmWpheOKO5NjsEspscU4CwYkrw3NEqH4JFj86F1vdvA%7Ctkp%3ABFBMuoCVouxg',\n 'https://www.ebay.com/itm/284503136338?epid=19049287628&hash=item423db55852:g:wp0AAOSw2Hhii-Ww&amdata=enc%3AAQAHAAAA4ImgzGDYzU7l6O%2FCLHjJOcc1jK0kA8xQqD1moogk8h5TujVsfTpaHtTxpXR8R8gb7oRxNSSmghaqp5yPr5i%2FZxYTY9AZswRX6hHersdjomM6GZFbeTGtiRzFv%2BE%2FRFvkviPbgO4PRblX8JNoa9jZ1NDIe1ndIsWVALwh%2BMcmlOf%2BJ%2FvYOk2oSSpQFvU4n7eKNUjh1ZrirkUSgwk1QtqLiMGgSnZo%2BWzXiGrUcrwaD0kOc0waWWW9sQU%2F4IlMSl2Gg5iaiVRQNWJK%2FH3mZGCjrJArymQn9p45ieKx10ESnH%2FW%7Ctkp%3ABFBMuoCVouxg',\n 'https://www.ebay.com/itm/325167681159?epid=10049287400&hash=item4bb5810e87:g:47oAAOSw4sliaxat&amdata=enc%3AAQAHAAAA4F7tkbTQnG85A5Du48r2w7Y02HX9EjhyypdtajhVUxleJsCu7Rx1WF%2BfJJEsrtVYGc0hoGculDunVYrQK0oMzIjA9vNsVpyLvsV28NV5Q28bOo%2BpAM0WRjWX%2B7OefaV0j12Kvxoc9Jqn47WMS9W7NMKPzBkPIzCsQ3YZbtLvbsW1wKffVouI0dmez5LgzI0VODZDAYfTrkfuasRytpFmehJb87bDSKChMeb%2FnAj57tlpHAyJAZnuIyDeTvbJUUXg1Cu95TRsfkN5WUC9SqF2CzYfal92AEDWz6iNmaK5xA7m%7Ctkp%3ABFBMuoCVouxg',\n 'https://www.ebay.com/itm/274991801886?epid=25049270842&hash=item4006c9e61e:g:JecAAOSwMf9ijQXC&amdata=enc%3AAQAHAAAA4JZb3Y8t%2FlWhmd1OsY0hzDT4e4DyThL%2FHnz%2Fmslh%2FU%2B3FSbhmi%2FVOcsK4pTl7GTZV2KIyC21w9ZenqLt5o%2BYUrfbnEfeiZtftlXjajK3qxOcnTP7seWLAlet4a%2BGS%2FijcdK58fK3276Iuhh8BNwNctexqZYOzT%2F6BI%2BmU%2F9qjPrT4%2FPB72V5D2Vn%2F2jI8ywdDPjij1d2ktlG%2FJ7AJUNJ4yrTjufWJEFtQUGe0KeUCo1fgBA57rRmZT%2BSlsBOKmB439dg8YI14E7myPPKE4Vs8A3QHBLLg85AH7Jb4Lx57Zfz%7Ctkp%3ABFBMuoCVouxg',\n 'https://www.ebay.com/itm/363986897807?epid=4052765113&hash=item54bf4f4b8f:g:v84AAOSw9DBjKboM&amdata=enc%3AAQAHAAAAoP29P5pp5FCJ0kdIBXUOdN1bRIqj%2BzPMUGIj809KUSa%2FgFR6Cc2Q3p3fT%2BYIQCtJiuThexDHtZ7T9rjEVaOB3gV1PXDNpv9WSXhLeXsfv6k5Cdnp5ewfx1Ry5X4UzM0v9kVzsBIiI%2FqPAt%2BS%2BMvV7bbonRYUGkuC%2BDFJ9%2BZLccn8ywRVV8J2Dk0cNUu8MmbMfadnEe0GKlo9WfM%2BzggC2pM%3D%7Ctkp%3ABk9SR7qAlaLsYA',\n 'https://www.ebay.com/itm/284789075414?epid=22049282568&hash=item424ec06dd6:g:rqsAAOSwLwZiar2B&amdata=enc%3AAQAHAAAAoL0d0SbothGB2dY5hbPnRCDpzVMvoTJSH5rSrAdF7oxbKI%2BgMF88OQALTXQTwSa%2FVdpRWzvtFSSokW9Yp%2BbfmcSUimmKJoryvJkaKFuR6baILr9NZhBIzouNzzrB4DwC9dr4rJ2s8CVjLfVPDE%2FTj%2FG2994EtS%2BRnu7f3A2bqQ3iJ9wKEkVzin3wpRBeb7nm8GeAg3gj4VF8AOJpKw4Cud8%3D%7Ctkp%3ABk9SR7qAlaLsYA',\n 'https://www.ebay.com/itm/125511653226?epid=22049283439&hash=item1d3913d76a:g:lnwAAOSwu1JjIT47&amdata=enc%3AAQAHAAAAoNKXt9798csQjsRlRPQTqo98Po8H7Se%2FfnOpfPJpYTOMTfWlEelacTF9CGyTWkCjnnWn0cRY5XYKmg%2Fm9WgHUQVHSZntdggMRr34YBKLZy8IwILt8Rru5KPgSPqyP3AHWZ5RKpTLgZJvZ0fWOw1EC4tM8ukXpBPhfOFpo7AaOOrfKae9uLR4%2BVBNe4lVswk%2Fm7VfnmPA%2BBa57fwITsLG0sQ%3D%7Ctkp%3ABk9SR7qAlaLsYA',\n 'https://www.ebay.com/itm/204094868052?epid=25049270809&hash=item2f85008a54:g:0YQAAOSw7YpjJYSG&amdata=enc%3AAQAHAAAAoBfTdjUwBjFPv6OsV0fA%2Bayhe9R6fXVG1uJJmcdHvnEhxLCDHUIhvu0yGC5a1zJLvU1w24wySdAjyKygok6ojuflpJXG1onmQ1eprXFRZYrQsPCzz8BersUppVsTuWyLGEAUvfpF3yO4bGTQ%2BU%2BY0SC7pQwCF%2BYf7OAtgY5PZ5u%2FUUub9sABxerQ8OFfQTS7ydjeyS%2BbB02bSLL%2FgIBAUYI%3D%7Ctkp%3ABk9SR7qAlaLsYA',\n 'https://www.ebay.com/itm/284790146926?epid=9049279823&hash=item424ed0c76e:g:2SEAAOSwaWxiarvv&amdata=enc%3AAQAHAAAAoM8hDcn9nymLzuw8NDE697T27bV2APmA42T3Wn%2F3V7w82Eeg%2B4pzx%2F2%2F9KLHROVjZsWPm57sTkfhqfcHrTzeHrWVe6cXuIzkbN5y70oYcPsnUo8MwVyloCcGbSyf%2F8Q%2B7U%2Fd5h7Fmb05Cqb6u6axeKxvFs6GaJ42AIxoFiKDK5HP25B88oL%2F%2FNoDO%2FTOL37FKNYjYhxwcfVPvRdfZCQjqa4%3D%7Ctkp%3ABk9SR7qAlaLsYA',\n 'https://www.ebay.com/itm/275468986299?epid=25049270808&hash=item40233b27bb:g:nIkAAOSwksNjJxnD&amdata=enc%3AAQAHAAAAoDKuxmCqcZmtjtgxSxkUB0naIdvPOZooJaK2UjF7fSB1Pzu5CNGaa9sdwILIrsQ%2BIbnf0DjYBV%2FM2Tf2ZRvWk%2BpHFm4h8kz1RX7xYCut8PQLQiQ81Cm8B3U1WL1XhtfnipGFMCxxE3h1mbrDX93Puot%2BFqaiINr%2BqHoac04XejC1z8B250SpAlKt1Ndlr6RwhFkoUr73K2nZm0%2BwX0PCWf4%3D%7Ctkp%3ABk9SR7qAlaLsYA',\n 'https://www.ebay.com/itm/325007885561?epid=24049280337&hash=item4babfac4f9:g:6psAAOSwcCth6eT3&amdata=enc%3AAQAHAAAA4EGXR3d2MURFYEeiAS231huFHQ7lm9JIh8mN5Hf3WzGtBOYgHAv507rQI3M%2Bk7o330vjAAMbw1dsQjsTtmT3KAlqksIbpMjsGH1mzNuclcT9spFOjftg6lXoB7K7i%2BvD39WpFMW3XNCAJ3C0OM%2FpGNpaIkz5LpgKuHXqv4YTKDkd1dqcQzIrUjxrpE2RI0deHK4XiI9YFSyp9E8XePUujTR37kNH9PFDq15trSwYhUhQhnicSDOWuc1yXoGCYqG1tjJgMbUajoG%2FOpPaAynhVjPs7qrqcVZ04WpSwRJLnE1O%7Ctkp%3ABFBMuoCVouxg',\n 'https://www.ebay.com/itm/294831855845?epid=11049276145&hash=item44a55918e5:g:6nEAAOSwU2JiF~95&amdata=enc%3AAQAHAAAA4IAASx3IXCYt1hjDRb2t4hUN22AKEUgcVRCE1YDaIvEU8GWBtjcT2yAjJQXnM%2FbQKHmDPKXu1Ra%2FYfXNrgsCLYvDv3nEIGd%2FR%2BgjP5kyBUW%2F8XJt3XGri6KhpzgcCZmeySDfC%2B0MaeYEH1wT2vYOw8JILFlBcAuPNY2w86gnnpp%2BOl5vcbSGbPbU4L9i3IMoWl3%2FkP57SXGUXWEjeMI0o%2F8EIi8H9iRSy7Fksq364Ch%2FGKvzWSyctxTJu5FxaYUYvSXJmslyXa1VAkqzrr1pzy3hdjq4vO%2Fs9LGtXw2mEHhE%7Ctkp%3ABFBMuoCVouxg',\n 'https://www.ebay.com/itm/363986809990?epid=13052769134&hash=item54bf4df486:g:pbcAAOSwv75jKZvn&amdata=enc%3AAQAHAAAAoItfMGfZI1zrPVEMEiH3oiaOj26G%2BC4nt6ZV6X6Gn26rxP6NELaQ5dUraLcc3FgT4YkKYKgDedy1XG69%2Bybti46uxz6pKHeAFj6w%2Fh0pJegx1VokZ%2FL8w152vTDytKf4HKs5mkA8qKy0SCll8Bm96IIIrujn5BTfbJlcmijFq5JeTC5g%2FRDX4fLEp3NGdLDk7jmM5BPRCjL8ZwpRQ6swPpA%3D%7Ctkp%3ABk9SR7yAlaLsYA',\n 'https://www.ebay.com/itm/204093588992?epid=25049270842&hash=item2f84ed0600:g:cCoAAOSwOypi9QWR&amdata=enc%3AAQAHAAAAoNzgWrhtP0zQDPUKaFaN1xAN8GURkDD1W9qCVmt%2BHNx1DvLBzMUqr8Bp7TLWIoRp683S2618Ct3oEasEWoQDifcYKeqJgawy4qBa6ZKN7cH9L7uNUHfNzDmsTzI%2BE471yPxaMaCuwofElxxt%2Fy2IJMssEH9JEoSCakLcWjUTZ%2F4VedFdSDvt34o0%2B2Cn5zi4ySmwZ6712UzpqsYunXzBIP0%3D%7Ctkp%3ABk9SR7yAlaLsYA',\n 'https://www.ebay.com/itm/134235695242?epid=4049279892&hash=item1f4112288a:g:PWYAAOSw629jJI8F&amdata=enc%3AAQAHAAAA4GrEYyoJ2xSKMmBLbjsBa%2BYdx8nX2kNYeq2Vcs8FRO6c6yzmRynF05lw1SiQraXltJXlGbHlWEo6LMiinxj1zohn8zGlFT6CJMeFICIp458lZx3kMl58lKM8S8nNtqlixLRrutcgfDiFIyziKDtEBqJB3G3ZIZdPycUJulkgMu0zOjeu8wRI90NGMf708JzF7wUUl0C0CM4n0ZJ790NyIs8Qvfq6dF6EeDZ6r2j6z6oNVeRcoyLZKlPhSqNJNUb3Kwd2mpP%2F2nxt%2Fo0zwTfu9jHYeCMIC7X8FzjrkBAQt7yQ%7Ctkp%3ABk9SR7yAlaLsYA',\n 'https://www.ebay.com/itm/225172547518?epid=25049270815&hash=item346d5467be:g:LcwAAOSw3aBjKxqD&amdata=enc%3AAQAHAAAAoLsOW2usYv1IipTTohWonGWl1DzMU7Bti5NF7a2YORWHHL%2BknQyATV3V8hiVFMJgwuz8gbDOqHQ3HLe7SoDP3WKfSWquJ7R7jna7HerKZ7kkkJnAbAlHnp72P4pRNd8EgCXrVQG9k5E%2F3HHoCuNRIM5B%2BV13gZqtkSbjhVRCiBGqYBLyCMyBpF%2B5RkXu%2FT0%2BEAOkdluOuIfb%2BWp45LbWgF4%3D%7Ctkp%3ABk9SR7yAlaLsYA',\n 'https://www.ebay.com/itm/363986835847?epid=3049291528&hash=item54bf4e5987:g:-QMAAOSwRO1jKaks&amdata=enc%3AAQAHAAAAoLQ90gH6JAd3TRgOoiPPgUwhCd3SB0VCyOD9WyGV68egk2P0rc7xH0hO4%2Bnetm4rca1zIeu%2Bpmiub4%2Fy3jY9C1ZtXgDHKx70lPd9F0Iz4r25c990mcEJOel%2BZ%2BOgf7j67%2FEtbSo9p53I96o9SSSt7dAwK22ru8B64ThLEjMpl7%2Fs4KB6aINcaZ1%2Blv4nUvQ16PI50W5FBJRNealhMUW95%2BQ%3D%7Ctkp%3ABk9SR7yAlaLsYA',\n 'https://www.ebay.com/itm/255737665762?epid=5049289920&hash=item3b8b2718e2:g:IS0AAOSw6BFjKzWm&amdata=enc%3AAQAHAAAAoEk3MRPFCk4virTxkm5qrzHqJfYXZFIVM3WAELpJQ7lq5iJ5ahaHeb1RQ3RojQR9WvUdj6soI58S2VLcEfCXK4x1NdP4PZ%2FuLzxFnA9SIBkGXwpY3N2BcxcOQSCUHYcUy313%2Fi36NYFLhQSL7YU4pYE3OSRWf34lPyupUyWrfphWqqawk2KLvpkD4yFEScgy69BuLLfrLV11esFSVNwSQTk%3D%7Ctkp%3ABk9SR7yAlaLsYA',\n 'https://www.ebay.com/itm/225171729810?epid=25049270757&hash=item346d47ed92:g:Q18AAOSwThdjJlfD&amdata=enc%3AAQAHAAAA4And3gkRTqzYAVDhRmUJttj6YOHO3lOZ6BkEkaIJa%2BegAH0YmqDCAWck7sQVJfdSsAe2nHJdep%2BusFUr59e3rcaUkenfIk4jerhsLIzhMUbQwtUWaLyvrW1IV40MwbCHtAwgvfaHN8PFN35QyZvYfxGZLpUqsdCAA0Gp6PQn1SUMGs1JwWLh14qrrGMXlEQGcyzUC9MXB014yzylcYG9BTlr6UlaqKMiFn0dZPz4NTa2P28YcbgOVl6lGgpCtse1%2B1X869paezFGRS70Hq75XHzpEVVVEehaBxVD7IZs6wtA%7Ctkp%3ABk9SR7yAlaLsYA',\n 'https://www.ebay.com/itm/265809804123?epid=9049279784&hash=item3de37fbb5b:g:qcsAAOSwaNZjKyDH&amdata=enc%3AAQAHAAAAoKUODq15%2FsobYGUutv9pNc1xQabSBmR%2BUD9sGLy5n7UoQt7BWVUeUNYw3v3KDDxHiNJ8X01%2FOpFc6J7u5l74jzWdb3In9J%2Bv%2FU0%2FWD4Zcwqoz%2F5sB02r6lbvOnEMjN0EE1R%2FXzrXbssY4FEDHMAetUVHWNjQW4%2F1sBI9beKYrFCOhIILtAHEJ1JULgOZaeTru%2FB3Awusg%2FWQ56I%2BHvPbZ8w%3D%7Ctkp%3ABk9SR7yAlaLsYA',\n 'https://www.ebay.com/itm/234681312509?epid=3049291546&hash=item36a418a4fd:g:YWEAAOSwv4xjGhGs&amdata=enc%3AAQAHAAAAoM09ejggPBvGhK%2BY6GkXAcgIOto4iwqUVLC%2BNwsTvY4NKtoXDqcRr%2BgJ7UR8N5SE9QyKjpVhDNMEWvo5Y01q6PhnxunrR3X6BQJAqDtCHaogy9e7bZo8CXOWB7RjYNISigiz%2FbyTYuOpVKPR%2BjXgZQ9Kpm%2FQ7OK6oK22ypGslPxfptcBt%2Bv3zrq9InHVUajPoLufEulqkAz1F9aJRywjauw%3D%7Ctkp%3ABk9SR7yAlaLsYA',\n 'https://www.ebay.com/itm/144719236395?hash=item21b1f04d2b:g:lagAAOSwz5NjJEr2&amdata=enc%3AAQAHAAAAoM%2BEAxpST6KcHzVVdBaA6h5hd4I8xtJHN1dSlnzPFiclIXcrXG3BH4zFJAn2a1G94B4yZL2zTH6zOVBNEWcTR5GdHn9ZVJkBkvX66KSTP2VcFPF2eA1pb%2FX7kH7DeSZASBea6uPByJwmOMQTB2hs5vq7TQbwDQqbCdEBZCZ51RE%2FzqM1qxXISC1%2BTln2ImbXFYuVlIm9ZZ5KrxrUwHZNkpw%3D%7Ctkp%3ABk9SR7yAlaLsYA',\n 'https://www.ebay.com/itm/374256242582?epid=19049287637&hash=item5723690f96:g:TH4AAOSwFwdjI6MO&amdata=enc%3AAQAHAAAAoJBmPlVvD90b0uz%2BPrZLwdhpO2CFG61aPaXMKenk%2B6Vi%2Fl5S5Vy3m7Ad8NnUfUUcr0LdwHaQDNPzs6UbENsz%2Fb2RArMr69xy8ItJmKetNqjeAb3jvd2VErozJwBzzl10MW1JjYu8AkhbUf%2BcSPamv2oLTVp1ePv1ZCM0Qcd66ZZVj87qbxEhusrXGcrw9rd0b4yyxEjERR5P745J2VlZsQQ%3D%7Ctkp%3ABk9SR7yAlaLsYA',\n 'https://www.ebay.com/itm/232852053373?epid=6049292400&hash=item3637105d7d:g:7IgAAOSwtNBjH19i&amdata=enc%3AAQAHAAAAoFDKS0WFmX8ZIhCulIlil1rLRuYa6U69a58okm6FeG7P%2FUgKBow3YzqQ9375gdp31IERMKdH2oLU3Es%2BjT189pBqD9O3Y929BZAkbBnpKWtLblk08F96PuJ3%2Fj8E9PBAywnqmFrjViV0awFEoA%2Ba1K0EbDRiSELpnFR4I5mlW%2F%2FTFGt%2BS9HdRydf7BBuu02C5SrJHEbfHnBslCsJQhLjkSw%3D%7Ctkp%3ABk9SR7yAlaLsYA',\n 'https://www.ebay.com/itm/175420438676?epid=13049280996&hash=item28d7df7894:g:DCEAAOSwefxjJzCL&amdata=enc%3AAQAHAAAA4DTgqzZUr27tHm0HTV8EkrbBe%2BBw7epRQyXSzHd7g%2B5e3Gdx1%2BerziwC08eBigp2J7Bqe%2F1jwwmU2rTjmo%2BQhz4VT5kAqWdzgbl%2BufVDrL5NOrrzAP3%2BYNLgnKQjdYxdhfOEMvkJYNgfHUTsP%2FFkUJwAmeVHf2V8O0gSVVWGi31E%2FEvFz5JZaTpdD5gRCdasMPApY2BPzJlWuBegwoNZjE2jMVWKjMRwyCOXFJN6KKuigms3qCFmtR6yUS0zISml9UG%2BDsN6z7Vc2Vj%2F28xb4W8GnIEsTf%2BVK%2B3NeWHJOSMM%7Ctkp%3ABk9SR7yAlaLsYA',\n 'https://www.ebay.com/itm/325351233029?epid=22052771024&hash=item4bc071d605:g:6rwAAOSw11RjJRmm&amdata=enc%3AAQAHAAAAoOhnP%2BxUfcqhLoSiDQgGzE8xqeieX8cGjmThI5vqGVXMnmWfDcGUyhxx90JNnCqgaBc2deI%2BwWgvV1wT4uMptyo1HWKVmmYINFPX9tytt6pht%2BatO45BMNPczrbyZzv72smW3ExP9rBhNwZipaEu%2FhA3FGFZUKTwbTZ%2BsaG1G10g0M%2FY%2BDoR8oyNbXhssaOmRXpuqf43HaJoZJlMADUTTMg%3D%7Ctkp%3ABk9SR7yAlaLsYA',\n 'https://www.ebay.com/itm/195355699852?epid=8049288678&hash=item2d7c1b6a8c:g:2HsAAOSwRR5jKHhw&amdata=enc%3AAQAHAAAAoCjtP5r4xFXetiMlH4hyAHga781oLpb41NVNpF6KcfbfRIR0%2B7SC1iaLJ6tMksF8l%2BFKRTaMdv5LD7rTz0IxCIn8%2F07huZsPuuG3T06cZc9qIUCTFSKWXBL7fV2LBfnfgZwdI4XBASpXrUlAPOfprOb4EWuR%2FpS%2FD9a1ramA2t%2B4xPjRvz5LKougFZTd2e1h2VJvKXqUu7QZfh%2BqUJvyQLY%3D%7Ctkp%3ABk9SR7yAlaLsYA',\n 'https://www.ebay.com/itm/334313601949?epid=9052769077&hash=item4dd6a4bb9d:g:7lsAAOSwvn5jH1yn&amdata=enc%3AAQAHAAAAoGEJmDtskyyBfCsCH4nEcpYYLCENyOcHW%2BdcGkJfL2dmT5weaFdPBmX28qu5WWwHIiXtgPvKz17%2FQq9EaYS0R3Wf8EMFaDsV7ysjui8Nd4syHwvHiE7WuY7y3Y1m01IOVUSWtC%2Bc0eHfFYWuOXWwg1jdo%2FqBOIr7EHPO%2FF8wE6vgT8RlIw3rkV1G67PKw1c3OfLDs%2BTAerWyL5gpp8DJ4mE%3D%7Ctkp%3ABk9SR7yAlaLsYA',\n 'https://www.ebay.com/itm/334520624478?epid=2323820928&hash=item4de2fba55e:g:-5cAAOSwsjNi6TLv&amdata=enc%3AAQAHAAAAoDGItpXa%2F7wZ%2F0C%2BdCu3h2g%2F68F4YWlkbtoY1i1p4twmUxVr0Pq5LOWw5gdt4mp12%2BP%2BXTRR5jPnxYcZ37mvHinSQGezX3XWupBs6uJzVjIV0v4QlCs6An4mRKPvOKoIALrZHrXIva%2FRfaW5%2FoL6lke6SlIVBP7BkX%2Bh7AMMl3BVpQsv2j%2Fk5b87fj0SB1HKDZvyCj2%2FMBBIuu7N2QGXFsE%3D%7Ctkp%3ABk9SR7yAlaLsYA',\n 'https://www.ebay.com/itm/175423310031?epid=12049274306&hash=item28d80b48cf:g:~oMAAOSwSIRjKuLw&amdata=enc%3AAQAHAAAAoOpoR88LtCqpntwxPNr6L2EMyayQw7LhahPsvNbyOMvbxlQx4REwMeE%2BZxDUIellaBsIeOShQ88xYBpGQgUTvv7Vhjk3ivBSzk5ScoewqSr3hRs7W9cQXPpiOACRjWGOOdtjCZKT0T5SeWeaEeXOP9uqzB16x3GNnDZVbGSMAsQCqTQ%2FZcUDcPWcF%2FFOG0gzw2w42qKpZSMYSUyS%2FFqp8eQ%3D%7Ctkp%3ABk9SR7yAlaLsYA',\n 'https://www.ebay.com/itm/294493520730?epid=14049280195&hash=item44912e835a:g:apMAAOSwn9RjB9lA&amdata=enc%3AAQAHAAAA4FNph7WPQX7lpE29rDfW5gAxuEBJbc97bQcsLW0drEGMNEUZP0XIF5998jS9Vqt%2BANzEUIIbPhDVUiTqTaebOU8znnomFZjnttTXbsIZM%2B47goe8KVD0J6G%2FzMxBMvuJPNZ6w3Zp0EhgUCMPUtmMdZ1EvHasQYWUubRb0j%2FobYWBHMMOKA9HUEa454kd8sA8b%2FDRTeKTc4EkTYjzPJ0psxUn%2FshPoaIDQhrD6oSrhYG5G0LTu9ErGbfMud%2FPVm8SR1umij0aeiYfterKw245XhTw9KqN5lHby2HiIoceIH6J%7Ctkp%3ABFBMvoCVouxg',\n 'https://www.ebay.com/itm/275257106770?epid=20049285656&hash=item40169a2152:g:oTUAAOSw8SZiThKg&amdata=enc%3AAQAHAAAA4DuUgGGSOmcSQBYqLCm1RXniYouF4zsUJhnqTt3GchGH96eIZB4dN%2Fl3tlmcuCn0lT2pSjeLbGUzkByx2BuzOWrDjzmp4DtMvUO41o27i80T1Z49fUQrUzma08Cc7WKdfcrhg0nxRoSKcf%2BPLZgC8%2BvhbOfAnDxuj0yAjC1ICgP8jkNOVGZtQWQosFiwLhHjsSjys9Vx5uS0B93XMJUa524uCri54IIIJ7%2BwvI5E8PKCiMfMEsb4BuQ1IbIme5ygt2M%2FMdFUlaoIlvqbVxAMdC8YL7O2pYnNIK%2FRSLbt4L1D%7Ctkp%3ABFBMvoCVouxg']"
     },
     "execution_count": 77,
     "metadata": {},
     "output_type": "execute_result"
    }
   ],
   "source": [
    "urls"
   ],
   "metadata": {
    "collapsed": false,
    "pycharm": {
     "name": "#%%\n"
    }
   }
  },
  {
   "cell_type": "code",
   "execution_count": 78,
   "outputs": [],
   "source": [
    "# siguiente = driver.find_element(by = By.XPATH, value = \"//a[@class='pagination__next icon-link']\")\n",
    "siguiente = driver.find_element(by = By.CLASS_NAME, value = \"pagination__next\")\n",
    "siguiente.click()"
   ],
   "metadata": {
    "collapsed": false,
    "pycharm": {
     "name": "#%%\n"
    }
   }
  },
  {
   "cell_type": "code",
   "execution_count": 79,
   "outputs": [],
   "source": [
    "lista_nombre = []\n",
    "lista_precio = []\n",
    "lista_url = []"
   ],
   "metadata": {
    "collapsed": false,
    "pycharm": {
     "name": "#%%\n"
    }
   }
  },
  {
   "cell_type": "code",
   "execution_count": 80,
   "outputs": [],
   "source": [
    "for i in range(5):\n",
    "    # Traemos los nombres\n",
    "    nombres = driver.find_elements(by = By.XPATH, value = \"//ul[@class='srp-results srp-list clearfix']/li/div/div[2]/a/div/span\")\n",
    "    nombres = [i.text for i in nombres]\n",
    "    lista_nombre.extend(nombres)\n",
    "\n",
    "    # Traemos los precios\n",
    "    precio_path = \"//ul[@class='srp-results srp-list clearfix']/li/div/div[@class='s-item__info clearfix']/div[@class='s-item__details clearfix']/div[1]/span\"\n",
    "    precios = driver.find_elements(by = By.XPATH, value = precio_path)\n",
    "    precios = [i.text for i in precios]\n",
    "    lista_precio.extend(precios)\n",
    "\n",
    "    # Traemos los enlaces\n",
    "    urls = driver.find_elements(by = By.XPATH, value = \"//ul[@class='srp-results srp-list clearfix']/li/div/div[@class='s-item__info clearfix']/a\")\n",
    "    urls = [i.get_attribute('href') for i in urls]\n",
    "    lista_url.extend(urls)\n",
    "\n",
    "    try:\n",
    "        siguiente = driver.find_element(by = By.CLASS_NAME, value = \"pagination__next\")\n",
    "        siguiente.click()\n",
    "    except:\n",
    "        break"
   ],
   "metadata": {
    "collapsed": false,
    "pycharm": {
     "name": "#%%\n"
    }
   }
  },
  {
   "cell_type": "code",
   "execution_count": 81,
   "outputs": [],
   "source": [
    "df = pd.DataFrame({'Nombre': lista_nombre, 'Precio': lista_precio, 'Enlace': lista_url})"
   ],
   "metadata": {
    "collapsed": false,
    "pycharm": {
     "name": "#%%\n"
    }
   }
  },
  {
   "cell_type": "code",
   "execution_count": 82,
   "outputs": [
    {
     "data": {
      "text/plain": "                                                Nombre  \\\n0    ANUNCIO NUEVOApple iPhone 13 Pro Max 256GB Alp...   \n1    Apple iPhone 13 Pro Max - 128GB 256GB 512GB - ...   \n2    Apple iPhone 13 Pro | 128GB Alpine Green | Fac...   \n3    iPhone 13 Pro - Red Pocket Mobile- 128GB - Gra...   \n4    ANUNCIO NUEVOApple iPhone 13 - 128GB - Midnigh...   \n..                                                 ...   \n295  ANUNCIO NUEVOApple iPhone 13 A2482 (T-Mobile O...   \n296  Apple iPhone 13 Pro 128GB Graphite Unlocked Ex...   \n297  Apple iPhone 13 A2482 (AT&T Only) 256GB Red (E...   \n298  For iPhone 7 8 XR 11 12 13 PRO , 3M Braided HE...   \n299  3M Braided iPhone FAST Charger For IOS Cable U...   \n\n                          Precio  \\\n0                   S/. 4 193.89   \n1    S/. 4 096.36 a S/. 4 935.14   \n2                   S/. 4 135.34   \n3                   S/. 2 633.38   \n4                   S/. 2 226.37   \n..                           ...   \n295                 S/. 3 511.13   \n296                 S/. 3 121.00   \n297                 S/. 2 535.80   \n298        S/. 26.67 a S/. 31.12   \n299                    S/. 31.12   \n\n                                                Enlace  \n0    https://www.ebay.com/itm/225171388219?epid=405...  \n1    https://www.ebay.com/itm/284790606201?epid=120...  \n2    https://www.ebay.com/itm/334298741895?epid=250...  \n3    https://www.ebay.com/itm/284964872340?epid=805...  \n4    https://www.ebay.com/itm/125523645415?epid=130...  \n..                                                 ...  \n295  https://www.ebay.com/itm/284975249361?epid=270...  \n296  https://www.ebay.com/itm/275182326248?epid=270...  \n297  https://www.ebay.com/itm/284972627921?epid=160...  \n298  https://www.ebay.com/itm/185264008102?hash=ite...  \n299  https://www.ebay.com/itm/175094979603?hash=ite...  \n\n[300 rows x 3 columns]",
      "text/html": "<div>\n<style scoped>\n    .dataframe tbody tr th:only-of-type {\n        vertical-align: middle;\n    }\n\n    .dataframe tbody tr th {\n        vertical-align: top;\n    }\n\n    .dataframe thead th {\n        text-align: right;\n    }\n</style>\n<table border=\"1\" class=\"dataframe\">\n  <thead>\n    <tr style=\"text-align: right;\">\n      <th></th>\n      <th>Nombre</th>\n      <th>Precio</th>\n      <th>Enlace</th>\n    </tr>\n  </thead>\n  <tbody>\n    <tr>\n      <th>0</th>\n      <td>ANUNCIO NUEVOApple iPhone 13 Pro Max 256GB Alp...</td>\n      <td>S/. 4 193.89</td>\n      <td>https://www.ebay.com/itm/225171388219?epid=405...</td>\n    </tr>\n    <tr>\n      <th>1</th>\n      <td>Apple iPhone 13 Pro Max - 128GB 256GB 512GB - ...</td>\n      <td>S/. 4 096.36 a S/. 4 935.14</td>\n      <td>https://www.ebay.com/itm/284790606201?epid=120...</td>\n    </tr>\n    <tr>\n      <th>2</th>\n      <td>Apple iPhone 13 Pro | 128GB Alpine Green | Fac...</td>\n      <td>S/. 4 135.34</td>\n      <td>https://www.ebay.com/itm/334298741895?epid=250...</td>\n    </tr>\n    <tr>\n      <th>3</th>\n      <td>iPhone 13 Pro - Red Pocket Mobile- 128GB - Gra...</td>\n      <td>S/. 2 633.38</td>\n      <td>https://www.ebay.com/itm/284964872340?epid=805...</td>\n    </tr>\n    <tr>\n      <th>4</th>\n      <td>ANUNCIO NUEVOApple iPhone 13 - 128GB - Midnigh...</td>\n      <td>S/. 2 226.37</td>\n      <td>https://www.ebay.com/itm/125523645415?epid=130...</td>\n    </tr>\n    <tr>\n      <th>...</th>\n      <td>...</td>\n      <td>...</td>\n      <td>...</td>\n    </tr>\n    <tr>\n      <th>295</th>\n      <td>ANUNCIO NUEVOApple iPhone 13 A2482 (T-Mobile O...</td>\n      <td>S/. 3 511.13</td>\n      <td>https://www.ebay.com/itm/284975249361?epid=270...</td>\n    </tr>\n    <tr>\n      <th>296</th>\n      <td>Apple iPhone 13 Pro 128GB Graphite Unlocked Ex...</td>\n      <td>S/. 3 121.00</td>\n      <td>https://www.ebay.com/itm/275182326248?epid=270...</td>\n    </tr>\n    <tr>\n      <th>297</th>\n      <td>Apple iPhone 13 A2482 (AT&amp;T Only) 256GB Red (E...</td>\n      <td>S/. 2 535.80</td>\n      <td>https://www.ebay.com/itm/284972627921?epid=160...</td>\n    </tr>\n    <tr>\n      <th>298</th>\n      <td>For iPhone 7 8 XR 11 12 13 PRO , 3M Braided HE...</td>\n      <td>S/. 26.67 a S/. 31.12</td>\n      <td>https://www.ebay.com/itm/185264008102?hash=ite...</td>\n    </tr>\n    <tr>\n      <th>299</th>\n      <td>3M Braided iPhone FAST Charger For IOS Cable U...</td>\n      <td>S/. 31.12</td>\n      <td>https://www.ebay.com/itm/175094979603?hash=ite...</td>\n    </tr>\n  </tbody>\n</table>\n<p>300 rows × 3 columns</p>\n</div>"
     },
     "execution_count": 82,
     "metadata": {},
     "output_type": "execute_result"
    }
   ],
   "source": [
    "df"
   ],
   "metadata": {
    "collapsed": false,
    "pycharm": {
     "name": "#%%\n"
    }
   }
  },
  {
   "cell_type": "code",
   "execution_count": 83,
   "outputs": [],
   "source": [
    "df.to_csv(f'precios {buscar}.csv')"
   ],
   "metadata": {
    "collapsed": false,
    "pycharm": {
     "name": "#%%\n"
    }
   }
  },
  {
   "cell_type": "code",
   "execution_count": null,
   "outputs": [],
   "source": [],
   "metadata": {
    "collapsed": false,
    "pycharm": {
     "name": "#%%\n"
    }
   }
  }
 ],
 "metadata": {
  "kernelspec": {
   "display_name": "Python 3",
   "language": "python",
   "name": "python3"
  },
  "language_info": {
   "codemirror_mode": {
    "name": "ipython",
    "version": 2
   },
   "file_extension": ".py",
   "mimetype": "text/x-python",
   "name": "python",
   "nbconvert_exporter": "python",
   "pygments_lexer": "ipython2",
   "version": "2.7.6"
  }
 },
 "nbformat": 4,
 "nbformat_minor": 0
}
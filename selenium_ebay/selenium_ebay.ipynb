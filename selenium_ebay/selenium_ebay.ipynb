{
 "cells": [
  {
   "cell_type": "code",
   "execution_count": 2,
   "metadata": {
    "collapsed": true
   },
   "outputs": [],
   "source": [
    "from selenium.webdriver.chrome.service import Service\n",
    "from selenium import webdriver\n",
    "import os\n",
    "import time\n",
    "from selenium.webdriver.common.keys import Keys\n",
    "from selenium.webdriver.common.by import By\n",
    "import pandas as pd"
   ]
  },
  {
   "cell_type": "code",
   "execution_count": 3,
   "outputs": [],
   "source": [
    "driver_path = '../driver/chromedriver.exe'\n",
    "service = Service(executable_path=driver_path)\n",
    "driver = webdriver.Chrome(service=service)\n",
    "\n",
    "url = 'https://www.ebay.com/'\n",
    "driver.get(url)"
   ],
   "metadata": {
    "collapsed": false
   }
  },
  {
   "cell_type": "code",
   "execution_count": 4,
   "outputs": [],
   "source": [
    "buscar = 'iphone 13'\n",
    "articulo = driver.find_element(by = By.ID, value = 'gh-ac')\n",
    "articulo.send_keys(buscar)\n",
    "\n",
    "pulsar = driver.find_element(by = By.ID, value = 'gh-btn')\n",
    "pulsar.click()"
   ],
   "metadata": {
    "collapsed": false
   }
  },
  {
   "cell_type": "code",
   "execution_count": 5,
   "outputs": [],
   "source": [
    "nombres = driver.find_elements(by = By.XPATH, value = \"//ul[@class='srp-results srp-list clearfix']/li/div/div[2]/a/div/span\")\n",
    "nombres = [i.text for i in nombres]"
   ],
   "metadata": {
    "collapsed": false
   }
  },
  {
   "cell_type": "code",
   "execution_count": 6,
   "outputs": [
    {
     "data": {
      "text/plain": "['Apple iPhone 13 Pro A2483 - 128GB - Graphite - (Unlocked) - Excellent -',\n 'NEW SEAL Apple iPhone 13 Pro Max 256GB Graphite/Blue (AT&T/CRICKET)',\n 'Full Cover TEMPERED Glass For iPhone 11 12 13 PRO XS MAX XR 7 8 Screen Protector',\n 'Apple iPhone 13 Pro Max All Capacities ATT Sprint TMobile Unlocked VZW Excellent',\n 'Apple iPhone 13 Pro Max - 128gb - Factory Sealed - Factory Warranty - Unlocked!',\n 'Apple iPhone 13 Mini 128GB | Factory Unlocked | All Colors | Excellent',\n 'Apple iPhone 13 Pro Max - 256GB - Gold (Unlocked) warranty Dec’22',\n 'Apple iPhone 13 Pro - 128gb - Factory Sealed - Factory Warranty - UNLOCKED!',\n 'ANUNCIO NUEVOIphone 13 Pro Max Graphite 128GB Unlocked',\n 'Apple iPhone 13 Pro 128GB | T-Mobile + Metro + Mint Mobile | Excellent',\n 'Apple iPhone 13 Pro Max 256GB Sierra Blue (Unlocked) A2645',\n 'Apple iPhone 13 Pro 128/256/512GB/1TB AT&T Sprint TMobile Unlocked VZW Excellent',\n 'Apple iPhone 13 256GB Pink',\n 'Case For iPhone 11 12 13 PRO MAX Mini X XR Soft Shockproof Full Protective Cover',\n 'UNLOCK SERVICE all AT&T Apple iPhone 13 12 11 pro max ProMax xs x s mini 8 7 6 5',\n 'Apple iPhone 13 MINI - 128GB 256GB (UNLOCKED) ✅APPLE WARRANTY✅ ⚫⚪🔴🔵 ✤SEALED✤',\n 'NEW SEALED Apple iPhone 13 mini - 128GB - Midnight (T-Mobile LOCKED)',\n 'ANUNCIO NUEVOApple iPhone 13 Pro Max - 512GB - Graphite (Unlocked) W/ Leather Case',\n 'Apple iPhone 13 - 128GB - Blue (Unlocked)',\n 'Apple iPhone 13 Pro 128GB | Factory Unlocked | Excellent',\n 'Apple iPhone 13 - 128GB - Blau (Ohne Simlock) Zustand Gut iCloud Sperre',\n 'Apple iPhone 13 Pro Max - 1TB - (Unlocked)',\n 'Apple iPhone 13 Pro Max 256GB Graphite (Unlocked) A2645',\n 'Apple iPhone 13 - 128GB 256GB 512GB (UNLOCKED) ✅APPLE WARRANTY✅ ⚫⚪🔴🔵 ✤SEALED✤',\n 'ANUNCIO NUEVOApple iPhone 13 Pro - 128GB - Graphit (Ohne Simlock)',\n 'Apple iPhone 13 - 128GB 256GB 512GB - All Colors - Excellent Condition',\n 'ANUNCIO NUEVO*Excellent Condition* Apple iPhone 13 Pro Max - 128GB - Sierra Blue (T-Mobile)',\n 'Apple iPhone 13 Pro Max - 128gb - Factory Sealed - Factory Warranty - Unlocked!',\n 'ANUNCIO NUEVOApple iPhone 13 - 128GB - Mitternacht (Ohne Simlock) NEU',\n 'Shockproof FRONT + BACK Case Cover For iPhone 14 11 12 13 PRO MAX X XR XS 7 8',\n 'Apple iPhone 13 Pro Max All Capacities ATT Sprint TMobile Unlocked VZW Very Good',\n 'For iPhone 11 12 13 14 Plus Pro MAX 7 8 Shockproof Silicone Clear Case Cover',\n 'Apple iPhone 13 Pro Max - 128GB - Silver (Unlocked)',\n 'apple iphone 13 pro max 128gb Locked By Spectrum Mobile',\n 'APPLE iPhone 13 mini 13 pro 13 PRO MAX 128GB unlock mix GRADE',\n 'ANUNCIO NUEVOApple iPhone 13 mini - 256GB - Midnight (Unlocked) **Excellent Condition**',\n 'Apple iPhone 13 - 128GB - Blue Smartphone AT&T (ESN BAD) *READ*',\n 'Apple iPhone 13 Pro Max - 256GB - Gold (Unlocked) MLEP3LL/A A2484',\n 'Apple iPhone 13 Mini 128GB Pink Unlocked Sim Free Smartphone Mobile Phone Good',\n 'Apple iPhone 13 Mini 128/256/512GB ATT Sprint TMobile Unlocked Verizon Excellent',\n 'ANUNCIO NUEVOApple iPhone 13 MINI 256GB WHITE A2628 UNLOCKED',\n 'Apple iPhone 13 Pro Max - 512GB - Sierra Blue (Unlocked)',\n 'ANUNCIO NUEVOApple iPhone 13 mini 128GB - (Factory Unlocked) FLAWLESS PHONE!',\n 'iphone 13 red 128gb - Good Condition',\n 'Apple iPhone 13 - 256GB (FACTORY UNLOCKED) ✅ APPLE WARRANTY ✅ BLUE ❖SEALED❖',\n 'Apple iPhone 11 - 128GB 64GB - GSM+CDMA Factory Unlocked \"Excellent\\'',\n 'ANUNCIO NUEVOApple iPhone 13 - 128GB - Blue (T-Mobile)',\n 'ANUNCIO NUEVOApple iPhone 13 Pro - 128GB - Graphite (Unlocked) (Apple Warranty 25/07/2023)',\n 'Brand New Apple iPhone 13 - 128GB - Midnight - Sealed & Unlocked',\n 'Apple iPhone 13 mini - 128GB - Pink (Unlocked)',\n 'ANUNCIO NUEVOApple iPhone 13 - 128GB - Midnight (Unlocked)',\n 'Apple iPhone 13 Pro - 256GB - Graphite (Unlocked)',\n 'ANUNCIO NUEVOApple iPhone 13 Pro - 512GB - Silver (Unlocked)',\n 'Apple iPhone 13 128GB 256GB 512GB AT&T Sprint TMobile Unlocked Verizon Very Good',\n 'Apple iPhone 13 Pro 256GB | Factory Unlocked | Excellent | All Colors!',\n 'Apple iPhone 13 256GB | Factory Unlocked | All Colors | Excellent',\n 'Apple iPhone 13 128GB 256GB 512GB Unlocked All Colours Very Good Condition',\n 'ANUNCIO NUEVOApple iPhone 13 128GB Green Unlocked Good Condition',\n 'Apple iPhone 12 Unlocked 64GB 128GB 256GB | Verizon T-Mobile AT&T | Very Good',\n 'Apple iPhone 13 Pro Max All Capacities AT&T Sprint TMobile Unlocked Verizon Good']"
     },
     "execution_count": 6,
     "metadata": {},
     "output_type": "execute_result"
    }
   ],
   "source": [
    "nombres"
   ],
   "metadata": {
    "collapsed": false
   }
  },
  {
   "cell_type": "code",
   "execution_count": 7,
   "outputs": [],
   "source": [
    "precio_path = \"//ul[@class='srp-results srp-list clearfix']/li/div/div[@class='s-item__info clearfix']/div[@class='s-item__details clearfix']/div[1]/span\"\n",
    "precios = driver.find_elements(by = By.XPATH, value = precio_path)\n",
    "precios = [i.text for i in precios]"
   ],
   "metadata": {
    "collapsed": false
   }
  },
  {
   "cell_type": "code",
   "execution_count": 8,
   "outputs": [
    {
     "data": {
      "text/plain": "['S/. 3 333.77',\n 'S/. 3 969.53',\n 'S/. 26.26',\n 'S/. 2 980.09 a S/. 4 887.37',\n 'S/. 4 605.29',\n 'S/. 2 384.06',\n 'S/. 3 535.36',\n 'S/. 4 207.94',\n 'S/. 2 761.59',\n 'S/. 2 900.62',\n 'S/. 2 126.51',\n 'S/. 3 178.76 a S/. 4 490.02',\n 'S/. 2 058.43',\n 'S/. 13.11',\n 'S/. 27.77',\n 'S/. 2 622.31 a S/. 2 940.19',\n 'S/. 2 141.72',\n 'S/. 3 528.47',\n 'S/. 2 367.66',\n 'S/. 3 456.91',\n 'S/. 1 431.99',\n 'S/. 3 512.58',\n 'S/. 3 288.42',\n 'S/. 3 337.55',\n 'S/. 2 794.12',\n 'S/. 2 185.43 a S/. 2 841.06',\n 'S/. 3 894.03',\n 'S/. 4 172.18',\n 'S/. 2 929.87',\n 'S/. 26.26 a S/. 30.65',\n 'S/. 2 900.62 a S/. 4 648.96',\n 'S/. 13.11 a S/. 17.32',\n 'S/. 3 428.73',\n 'S/. 3 576.15',\n 'S/. 3 047.27',\n 'S/. 2 423.84',\n 'S/. 1 390.73',\n 'S/. 3 615.89',\n 'S/. 1 929.16',\n 'S/. 2 145.65 a S/. 2 781.41',\n 'S/. 1 973.01',\n 'S/. 4 437.18',\n 'S/. 1 390.73',\n 'S/. 2 411.51',\n 'S/. 3 337.55',\n 'S/. 993.38 a S/. 1 501.98',\n 'S/. 1 982.78',\n 'S/. 1 968.67',\n 'S/. 2 635.12',\n 'S/. 2 058.43',\n 'S/. 2 630.74',\n 'S/. 3 079.47',\n 'S/. 2 192.28',\n 'S/. 2 185.39',\n 'S/. 3 774.79',\n 'S/. 2 900.62',\n 'S/. 2 630.69',\n 'S/. 2 344.33',\n 'S/. 1 907.20 a S/. 2 384.02',\n 'S/. 2 980.09 a S/. 4 490.02']"
     },
     "execution_count": 8,
     "metadata": {},
     "output_type": "execute_result"
    }
   ],
   "source": [
    "precios"
   ],
   "metadata": {
    "collapsed": false
   }
  },
  {
   "cell_type": "code",
   "execution_count": 9,
   "outputs": [],
   "source": [
    "urls = driver.find_elements(by = By.XPATH, value = \"//ul[@class='srp-results srp-list clearfix']/li/div/div[@class='s-item__info clearfix']/a\")\n",
    "urls = [i.get_attribute('href') for i in urls]"
   ],
   "metadata": {
    "collapsed": false
   }
  },
  {
   "cell_type": "code",
   "execution_count": 11,
   "outputs": [
    {
     "data": {
      "text/plain": "['https://www.ebay.com/itm/255749480804?epid=27049276479&hash=item3b8bdb6164:g:aKMAAOSwKMhjNKfc&amdata=enc%3AAQAHAAAA4ATiRhPgzV6fxS3m0ytdGNbFdclgQIinCO1puwPIZ3RMg764uMev3umRNbH2Aif%2BIo38IaEidh7WI7jTYLfiIvVa2lkMMXzB84BFqblQjAmtouwF8lLEe2lYs5i5dQjluTkrz2h36GBJMtDuNX4steTn%2Bo5OJTvjt2Zr7WMeR8mdRqGiAxlu30%2BznQlJPuunY3xIX7ZBaz5ZgwDcAGJ0YQQvNOA7mxCSLsB%2BLYyAGPjmuk5ZW7bCp6JxBkR5WlKRVR943VrRjtuiqDwyGpApSQwoJC%2BMiNvhUD4vRFVtiqLQ%7Ctkp%3ABFBMzJiYi_Jg',\n 'https://www.ebay.com/itm/334542602686?epid=25049270757&hash=item4de44b01be:g:0P0AAOSw-uVi2chs&amdata=enc%3AAQAHAAAA4Nlb7WH6GsfvrCRTkhx%2FseyFEpa3bY1NcuruqI8Hl%2BMDWZWPGq525clrGwuFLfLcOoU8G4q48jurBUeXNR36kiVafdUedq3KM42DSIEAmh5rS6xygl36OUO7R0znhEmMVDxn8txw8DSfbiTSRA2XRw0m%2B3jRfxRc3bDnBKaw940XAa3iPIW9X4g4%2FR7bPoTxuO8b9AkDrL8BMZLSf2SoVy5sOZOjWBEHwxgq8E3khyJt36icEQUT8TkeL2uC3As1cSji4ySkLy75%2BQngOm6KD8SzWkrw%2BApxmS4Qm0mEYFIz%7Ctkp%3ABFBMzJiYi_Jg',\n 'https://www.ebay.com/itm/185270042866?hash=item2b22f480f2:g:ZDgAAOSwLEth8GLy&amdata=enc%3AAQAHAAAA4PIpA7LHjNNcFWml%2FfZCQgGMe7hRIe3mXjP%2B6XLmH5sR1RvDFAUXvGumnJ2qdfzdStZT6I%2BC6G%2F31ov8uXteKR5Lg1bjbLqVm9%2BWQC3IHZqSY4oNf4%2BkGPsMOEjSNhkw6GUIrLKdJanwfKJ6MK%2FNtOKFYrqNY%2Feddmnjh2LpHdKWNgEe%2BWEEJASWkXdnwVEMzVHk3cwSz7R5xz2fAVeGBg%2FNUKti4qtSQPx8bRKtYxryt1M6uIMxbSj8Du%2BO9PNJVdQxKmpLWw6%2BH5oRFfE1%2Fh03r2Sry1Ib72NIm1I%2FK%2BJ7%7Ctkp%3ABFBMzJiYi_Jg',\n 'https://www.ebay.com/itm/294493535899?epid=24049280232&hash=item44912ebe9b:g:IbkAAOSwNO5ii-Xg&amdata=enc%3AAQAHAAAA4JasGGvqddrbUjqEA7e2TrsPY1Frs8AUUzgOaZOmd6caR34OIup%2BkK2fLJpebnDGHWPEjCKJSFbXoKdUZTY4ZeAbLlMyfrZw%2FNC7LobP3Lf50x3Y4GsPV1WGe%2BLPljeNkCXQYqkJ0QYK4rREOFa9ptctOV14gHp3lh83k%2FOBV0a87egw3KAb8%2B%2BNV2WXGEQ9iYd%2FoHTUXHQZepP11DDLsJvMH5WvX89RKra%2BrIzJXvBnu4IOHyEe6vVO8bt7LSPk2tFMIrUTdOsMXH3IbFUO1QvhKMB8r9qN3D7Tt1lLt7c%2F%7Ctkp%3ABFBMzJiYi_Jg',\n 'https://www.ebay.com/itm/154613773340?hash=item23ffb2f41c:g:wkUAAOSwlvthQ5FM&amdata=enc%3AAQAHAAAAoFU2SRzIVSZT06Suqh3RdJXV9iJK2EC16kqViCrjojQipYiFM6o0ZENhHz%2BSemOediHpfS2QlyJm315q1yC%2BgcUKyRPYveGC8gAvTV6auSpVZhxnyznkF3XIJPMVBwj1HnT0oDq%2BiDKd6NvTdu6J9Gjz3gMJQwZNTqYwXcjhQ3NrHZGoVkthokC00W2nC0Bh3q646NkijMSrbMgZqy4k%2BVk%3D%7Ctkp%3ABk9SR8yYmIvyYA',\n 'https://www.ebay.com/itm/265872812439?epid=26049291214&hash=item3de7412997:g:ZooAAOSw4jNjIO3N&amdata=enc%3AAQAHAAAAoB9jQM86UBwcY3G9qWhGx3i7khicbHAaEpirvaQkuA2xUvumA1pDiZnk%2FrE0rTaJsYlxn5QICKAC4tpgNctNggPkd9NgiliEffMv4WtOOiUTXT6mo8MYGvh9jNqR8FSQZuYO%2FQAEzXevu5GhArRxmD%2BNrE3Ru95KfxjFPcNCwDeCAB8ma2wvarVqnggAs4tMGD817mWrFbHZ%2Br%2B8yHyNKfw%3D%7Ctkp%3ABk9SR8yYmIvyYA',\n 'https://www.ebay.com/itm/165691096510?epid=5049289848&hash=item2693f57dbe:g:010AAOSwbEtjLknL&amdata=enc%3AAQAHAAAAoHV70NvUUy%2BrBuHLAokKBvKVH%2Fb9gTJVdpLRs5S%2BUmA6G0v9hQtuiPQxJFpRiHJna4syR463mxNIsM7W5WPEkcq%2BOA%2Fr5%2Ba78n33qIOn9z6Ww56MX1PKm5OPNGBGXKtSopAq66zjc5%2F0SOSic2Mxs3aB6vnyZYy%2BvbaeW87v3q7Z3eEtF4WFbEf4grLFW5IuwvqD3bNKRXca6jykbgjrhpQ%3D%7Ctkp%3ABk9SR8yYmIvyYA',\n 'https://www.ebay.com/itm/165075660740?hash=item266f46afc4:g:t5UAAOSwglxhQ41S&amdata=enc%3AAQAHAAAAoO%2BYtmx%2FZr2uxrPRcKxEafidhNpT1y7FV1a6jP3lhxyVILbZrVmzXLqEoxpw6w0e0I%2BL2wqJRWOIE8ORZEINTQrWGh%2F0VtDpcAS5COSIWD%2BRfgkZqRkG47p7QyL9Fkz%2FToA8Gpahgp5o1%2FImmt%2BamqURMK6Sf10KLeteXv2k0j6hF%2FS%2FvMUmxpgG0bfJWlwz4b7apR%2Bi8kiY0A2a6ne0U5A%3D%7Ctkp%3ABk9SR8yYmIvyYA',\n 'https://www.ebay.com/itm/374282785690?hash=item5724fe139a:g:jpAAAOSwoyVjNsYp&amdata=enc%3AAQAHAAAAoAIr0xDJkGq1HaAAlTyPey%2FIJVpeI%2BVLzhx3OUklNFaa4L%2F93ucqlV%2BHKvX12w7ROWdqoUD4dp65i%2BMluNyO59VAdjkN5zvpr%2B4%2BWvhHw%2FaqWaQepIHCWUgXzp0bmGZkc%2BD8r9DJkYUhSt3UoGM6ht6HzlEIhSnQLUYIhcCdxnf8nlxXihuF6%2FOEZng7BPH2wX%2FxD7r8gtQKkGGA%2FCoiLe0%3D%7Ctkp%3ABk9SR86YmIvyYA',\n 'https://www.ebay.com/itm/334553869245?epid=25049270808&hash=item4de4f6ebbd:g:XSUAAOSwya5jF6-b&amdata=enc%3AAQAHAAAAoHKuIvagMlAc%2BhB0lclKbBKElDuroq2Mk%2BsX6%2B86Wfjvh7G1r8eTjoTrUepdW6kGT3jL3t6e3ZZh2ILwyJ9U%2BXyYo3q3cCysv0NXMH30Wv2tpG4Yiid8PV%2FPWxZHHaVCrLgkutcyV2GjSb7osfnicArBSedhQEEPSrsbbIoCR4WjPTvjzoAASX1v2HQQ%2FjnQFt5xKgN6FZxgLmdhhjlEx9E%3D%7Ctkp%3ABk9SR86YmIvyYA',\n 'https://www.ebay.com/itm/234711778134?epid=24049281138&hash=item36a5e98356:g:dxIAAOSw3-NjM4Mr&amdata=enc%3AAQAHAAAAoGTYVVg3fOK4WtWfv4m7F6ebcvluZVYZkjTuvAPIAK0kp2T9CQphYL1eg1Kn3xo8s07F2m1fTe5CUY5U1a6edcb38n4UPHAqJ%2FiPTSzzZ2Nh2DxvKeSFR%2B0y7Fj%2BczK1WMY%2F8FwbcPZ3IU68PcgFwNrlWRPB7dLUaZTrMCalZuUB2ECemUl5Ch%2FaYehpsWjD9L38cQdwpWuI3xdY3xMXcuA%3D%7Ctkp%3ABk9SR86YmIvyYA',\n 'https://www.ebay.com/itm/284503104716?epid=7049287454&hash=item423db4dccc:g:hgkAAOSwcqpjB8ko&amdata=enc%3AAQAHAAAA4AFK%2Bh0pU3ydTvEXJBTtC%2FbBopyeWiCYnoggCNYICG0meCY0VXcrTsfIZiBRfdajn7RbJ3fPzOX4sFL822f861LiQMpdBTvJwNeUbPYVXkjxtpceTCdhHJuswrF8NSDOMRNEWryjJZcdEdWA93a65taqM6uk%2Fn2x3KFbA%2BdooX8PPuaoyGjEvFWTz5D8zhwCywf1ZEgJb%2BEjEuLcA4BNnc2yO8c2PZyHIyXushx0L48om82zx%2BaL7AXHzt5jPJX1ZVTiV77yGAnIWOLeWzm2etkyu0czya4cEWzpM7PJR5uP%7Ctkp%3ABk9SR86YmIvyYA',\n 'https://www.ebay.com/itm/144742394742?hash=item21b351ab76:g:GgIAAOSw07BjNTdm&amdata=enc%3AAQAHAAAAoHFHN1jGORG3Gs2YMFQgksqcNkzKuDf1HMclY7XDU2Oe6SXREw228QEPuov4rK5wVXdk%2F8qjSoLV4yUaKH7oohcRvoVZBM%2FtWcJGxSdb79%2FlX9Kcf95tFAlJWwF%2FTtTPnV5H6YIwZhtm%2BHCj8z%2BYkh1xIiy49lcSrdDYJ5kmxDnpLRujfEVHaSHKQTqamJuca0kSQVasF7itxeYT5SIxVSk%3D%7Ctkp%3ABk9SR86YmIvyYA',\n 'https://www.ebay.com/itm/165553784942?hash=item268bc6486e:g:31QAAOSwCZljHzaO&amdata=enc%3AAQAHAAAA4EZZue1wPed360fr5%2BWdCWqSxKPlzG4L%2B%2FTHjX5Gjq3D1XxJgV7aR2AbKhL1DH2pZeFxlQsbtyYSd6YZuzpbgYlJMY1l3ho06GNgvqkjrFWX6nT3Ebh%2BkGSpULzHxOEUA2mbrTaGnMqnDFJABhqlysuP2AN4RLg6SiQNQn4sRUwmBXleSghxUTWIl2Ki5jXTvevC5202hVLELhsupseBpnVVfDZZAK5SzRfn1x2trcd6Xny1BJ9AEbnMm3fYk%2BpH8OPZjbWkXTgRRIw4cYcUeVGHDHnqjvjBZQVxLjWakEnq%7Ctkp%3ABFBMzpiYi_Jg',\n 'https://www.ebay.com/itm/295213557948?hash=item44bc1968bc:g:I3EAAOSw6k5jHldc&amdata=enc%3AAQAHAAAA4Ob43v1DpNOU%2Fh96eHUyYCD2ugDiSAnMrqRu8stLvhwoVR74XccJtU%2F9HvQB0l3BKsPaeuujPF%2BTt5CiKH%2FcfRVWm6gbs4TsSHeR8FftjNZMwLm7aOUj8kp68rlXHDaacSMdGu4a%2Bw14Ytau%2FlP2tyT3%2Bn%2BJgLrE%2B0urSfUU4D0BMMtZ9C4VxnP85r2qqE8G%2BJxGsYE0nqJZ4JtlP%2BX4IClwWzu0USl5BxE1hLwM3372cKwEVPOqK8%2FqppTWETF3Ul2EhLf57IT%2F7%2BXvkCr4f2HiwRZU20ASjX0zJw%2B%2BbvZt%7Ctkp%3ABFBMzpiYi_Jg',\n 'https://www.ebay.com/itm/325167681159?epid=10049287400&hash=item4bb5810e87:g:47oAAOSw4sliaxat&amdata=enc%3AAQAHAAAA4F7tkbTQnG85A5Du48r2w7Y02HX9EjhyypdtajhVUxleJsCu7Rx1WF%2BfJJEsrtVYGc0hoGculDunVYrQK0oMzIjA9vNsVpyLvsV28NV5Q28bOo%2BpAM0WRjWX%2B7OefaV0j%2B2TNAagdH%2FihGtpfLwSvXNGmw2fM47nhOvfQ1O1RRFjEcfH5zMyYkT51N1x7BxOmfwYoDC5HVw0W3hjV5eMS1Y8ikOQd0I3jb9vUHWjlqVfH0rDh8%2BErdLCG%2B0EeRP3pZg8Ub0DHJqvFjWTrLncPNrS7h5RDNrN0w2ibhBQA1ZS%7Ctkp%3ABFBMzpiYi_Jg',\n 'https://www.ebay.com/itm/115438745076?epid=7049287463&hash=item1ae0af75f4:g:KbQAAOSwngZitIBX&amdata=enc%3AAQAHAAAAoCUvEG%2F9ABSyzavnHwaqJcztQJi2UKNhPmqQkMA6ojBu8hwE%2FT5hjqPANi%2FQmyQ58jba6D%2FY%2BNoY6R%2Bdg7IqcJBOuTu0G8USgDMR2EnawGJTd4gswird%2F9BKTnPyJ1twEyEz14YAsah3gjGgybsx6TXOi9BYnRu%2BY1qcqtN8tVnU3ep8iZKKae7pXZH5qVZ5pCQECuxkJO7WwgRbRr2aPPc%3D%7Ctkp%3ABk9SR86YmIvyYA',\n 'https://www.ebay.com/itm/265911804779?epid=28049285680&hash=item3de994236b:g:EagAAOSwJ5djJPoN&amdata=enc%3AAQAHAAAAoFJjEg%2BJ0q%2B5VS%2Bx08t%2BmQ%2FERPTbSKlyV01S5VLkKIk59DwqLWw4VcZ1SPznSugsqRpu0qT0CitlhuCx7sldbBV3t4X%2FwT12%2F8cPohVr5cvl%2BpkJfAi%2FEuHW%2BoxkfmsIhk9EIFuYCbWaEJDQNbWnk1a74i3WxwYlfxC9Mlmny3bH5ZwA5pDrmJlTRD3Osi%2FGVSwpnKwapvc8vUBUrmtFxz8%3D%7Ctkp%3ABk9SR86YmIvyYA',\n 'https://www.ebay.com/itm/155179817457?epid=12049274306&hash=item24217019f1:g:tVkAAOSwHyxjKc92&amdata=enc%3AAQAHAAAAoDIdEt5zx5nBmam6cjSdv5NbVSU8qFAptHglfQBD9kn6c7vE5qGKIuc9PFNszjW2PsG%2BDi5%2BlBmXr5elwxiG5mYqobjINNqLe7CaMx%2Fx7ywPAMNOXwnDJg0CKZ1Ql4zJgSbd6xFmQdhPVigz0Ji0oJ%2BP5qMZiOXToYPwyimgtnr9tqfDNgsJs%2BG2KYabL4vnE3TjxySezcRRlCoYWMH3K9E%3D%7Ctkp%3ABk9SR86YmIvyYA',\n 'https://www.ebay.com/itm/263767927378?epid=15049284908&hash=item3d69cb2a52:g:dVcAAOSwaRRiVef3&amdata=enc%3AAQAHAAAAoFOFXZ277s0uRDJzhM7lHS5BaxqFIu7byly%2FZItdqynCSG7lscbD4PCJVJg6QasFN%2BjOOAXzmS%2BFW3jNlUo7Awiw9bSkjixStfg2oT%2BiNH3uZlLGstCSMEvdEiSsAXvHIRJuRNu1WNy99d50l23V%2BKdz1g3YH3E0RA72LMnW9%2BXcj6z2fNnNZqBbgzLIwgEBtN2HuImj4YE4Yb2rA%2B1wfgk%3D%7Ctkp%3ABk9SR86YmIvyYA',\n 'https://www.ebay.com/itm/334575719211?epid=26049291116&hash=item4de644532b:g:M2kAAOSwnddjNKmi&amdata=enc%3AAQAHAAAAoI7RB%2BIb7rfBJBz0AubssJyEWs0bJIgLLZNzkw4W8soBDjUWqro2%2F5%2BwkAQNbg8ztSY%2Fpu6dEfd2AtuJlpZ9kPyX3ItdPl594hYwio29wl29HbIXP1laXsr7qK7MtZYy2cN%2FiumH%2FsV%2FJHdAfekrrGtaELcDeCqIg1Er82tyceRehZHHZa8URdN3vzCA2RoToguQXoorr2tQm0nrTTUnePk%3D%7Ctkp%3ABk9SR86YmIvyYA',\n 'https://www.ebay.com/itm/354302203605?epid=16049280005&hash=item527e0e96d5:g:vtYAAOSw95ZjMo37&amdata=enc%3AAQAHAAAAoEW%2FCssYWE6lRMXtVahi%2Fiqm7KHbeSwbbpaX3jGktEyobxZGyV%2FBx4DEMm9yteJuDlmrj0mQsv30l9ksV6y5%2Fr2EUTPODRI%2FFuIAj9%2FwnJgCJaICgJGlq2wvAS6bZuD4Lug%2BO3ABbjfL8gd09tKmBgvDzbqUBAzZnzRNGsZ%2B%2BdgZ%2B8%2BGDpmPEiZh17Ed0DBueHCZaZAA%2FPGI5hVEnCS3kr4%3D%7Ctkp%3ABk9SR86YmIvyYA',\n 'https://www.ebay.com/itm/234711834756?hash=item36a5ea6084:g:Bn8AAOSwdA9jM5XU&amdata=enc%3AAQAHAAAAoN3p%2BOxdRnxMM0210n%2BjAjB5futDf1EkkNj0d4AjC0X4dA4AfyG2VM7FikNSPSU46H1bew8XaTdOXpRFtsv8X350%2B2n6U6wwmM6aF3IUpvOgdUFIFkJI8YwkE%2B4mNZZIxtaG1xO93Jvg2kqR%2FD5y7vvlfoJrRZEm2W%2BX4NSQp2ynvuQtHuLMFWLmcR0gxFNiePqUF1tGxFnAsjdYusK0i0I%3D%7Ctkp%3ABk9SR86YmIvyYA',\n 'https://www.ebay.com/itm/325007885561?epid=19049287637&hash=item4babfac4f9:g:6psAAOSwcCth6eT3&amdata=enc%3AAQAHAAAA4EGXR3d2MURFYEeiAS231huFHQ7lm9JIh8mN5Hf3WzGtBOYgHAv507rQI3M%2Bk7o330vjAAMbw1dsQjsTtmT3KAlqksIbpMjsGH1mzNuclcT9spFOjftg6lXoB7K7i%2BvD32ycDcjgtpJHjsI%2BelMboR3Mu7Ow80mG5ssNAkS9BLRykc9ZLYmpS1zZ5buCU80D9uDiOsQ8z3d3%2BWd2g333ObAwEBxMUoREaLnMLnGyrNV2GplUJmA9az%2BTJneHvcqEa35e0ORlXB7MzLr3F%2B5X9ra1PUcTRIk1TydEVhtxzUuq%7Ctkp%3ABk9SR86YmIvyYA',\n 'https://www.ebay.com/itm/185600472712?epid=24049280304&hash=item2b36a67688:g:iCoAAOSw1bljIzYj&amdata=enc%3AAQAHAAAAoK6lbxGUOG2s6dX1Yk4%2Bc141eRPenpApVJr8O9ipaT8z6XRG7QtNkI2w5hUgKedkzC7UMI8zYhcS6NBJ7NQ8FTLfg3yaDYA9SBXhvmMtqOWJdg1XdovzoO0oL%2BudswhtPfSVBm1qJ%2BcGriGk3KyitP544bxKAVvKykZAa5xomuy8XNCaE2ZxbGY3rXMchNZYWhiN0LgrWGlI8QnjB9%2B4aNM%3D%7Ctkp%3ABk9SR86YmIvyYA',\n 'https://www.ebay.com/itm/284789075414?epid=21049288332&hash=item424ec06dd6:g:rqsAAOSwLwZiar2B&amdata=enc%3AAQAHAAAAoL0d0SbothGB2dY5hbPnRCDpzVMvoTJSH5rSrAdF7oxb3fyhNqIpHWwEPVIhDGx94Fgv0hF1MOy%2BakDWackJCdpqfk48dWP6bJ4vr6s%2F6gp8gEEPicWDRkan3Mq0hr24NR0H%2BNu46qQ0dVZmYmLsd3wDnXUT51g8ZQd1%2FVXcmI%2Bopvk9f1HU9XDTQDCPQ4O0geopjEhpH1d4tIp56FRZuIA%3D%7Ctkp%3ABk9SR86YmIvyYA',\n 'https://www.ebay.com/itm/295247000581?epid=14049280195&hash=item44be17b405:g:qngAAOSwSs5jNcZZ&amdata=enc%3AAQAHAAAA4PtwTtgmw7IdXBDqFr8trveCmzv%2FStJbdmLbz%2BPLk4cgj3OXpZAZ%2FTafzlu1vWfzy8Icbzkj3UguCXlriSM2J6thdJb3UGkcmghEbl5OdXO1nS4wpzQx5scu%2B%2BxcYbZqt0812yXOV4gnG4KghBcKDy5CUI6jTJVMLiKSCqtjvjPZ39JP8xbSBc%2Bs20BH50yeSg7%2BI3HyXLc3bObm8FubaMSD4LlQ1hEX2D2g32FYwTL%2Bfv%2FToaSJ5Os0lcgek9%2Fj9HZ%2FaMhpcmoWs1SpnX%2FtML6M3BnXbKb%2FVy2zI%2Belhbu2%7Ctkp%3ABk9SR86YmIvyYA',\n 'https://www.ebay.com/itm/385137739987?hash=item59abff88d3:g:B58AAOSweh9jMpNA&amdata=enc%3AAQAHAAAA4OcBMBOBreaxal4kYz9eNXWoPxRymvZy8qq1D%2BejcjeNHhZgtF2jFAQXgnTk%2B2DbZSD0ZiLdQva9xp3NiM%2FFdtt1Y3a9kWJYdlcIBtVugAQlRgsQx0DctD0snxOuaOFboPGBhc6sFG87KAdKHve%2BvWXEPogoshlAz6ZIyAQSuydP9VXSMXDJkI89xn%2FzIg9qn5Mfma%2Fi%2FQiV4jmYNlvV3f7r96c4gyLUHl3oK1ea5V7LHhYTSxyo1tWNhjdg2jJbmbIE16N9T1230RXkDY0EpHRwq2FJYj5Io2pO3lSNOczz%7Ctkp%3ABk9SR86YmIvyYA',\n 'https://www.ebay.com/itm/134257171240?epid=2320328646&hash=item1f4259db28:g:Am0AAOSw3vxhQhsT&amdata=enc%3AAQAHAAAA4CfFL5TlRyHeJS%2BQfjooLbXifm9fhCRKJ0TBV1up0Hz8AZQKhLrRInauJrfBC62pIXAmseIKb2nyw9cA46xKPglXBTjAUon%2BJkBmaq4xdG0bU%2Bcna7oAaoV71Q4o%2B3rnRpCE8hEbocdnXA423zhkS4nJgz1NaTklLXwGjAe92bjVkuJpCRaUuUWF7fWmx78lAmPBjaLtVkwvW6LwFphbFVchXpOvmbH0Zdf4ZEycbfkGqgQn4vg4CLmCz8Kqn6iFbNXI%2Fk%2Fc%2FRvOsGhYNy6wirDqrXjvYha4Erszy8nxbfnk%7Ctkp%3ABFBMzpiYi_Jg',\n 'https://www.ebay.com/itm/185579387395?hash=item2b3564ba03:g:1O8AAOSw3a9jIRrW&amdata=enc%3AAQAHAAAA4L1IHh87xwOK68xEIzKlPo8%2Bhw%2FdYuVGeia6wEXgv6L360OMvb4OtxsMIAFo3tTMg8%2FBuGtJj%2F0%2FRdjkeBxI2HQuloBE6GZGp7x56ueneiZPYLuvvi4VXqqS7%2BgdCDLt%2Fmx33brSDRNhiyGHFGRFryjgySVhxjYu6VAd6dW7JAw4rjKPAWb4wWhTDdidl1nEwNMMnh5KYZXNwtDtOOqpsw8sPI9SrQt8wgp7bB6%2BTkh2%2BrUv7TPkXp%2FEtaAd%2FDVDv3Yll23BsboJRjRQqd7YLnFRfzfwNLsMh%2F8ZhBgPFfz2%7Ctkp%3ABFBMzpiYi_Jg',\n 'https://www.ebay.com/itm/284503136338?epid=19049287628&hash=item423db55852:g:wp0AAOSw2Hhii-Ww&amdata=enc%3AAQAHAAAA4ImgzGDYzU7l6O%2FCLHjJOcc1jK0kA8xQqD1moogk8h5TujVsfTpaHtTxpXR8R8gb7oRxNSSmghaqp5yPr5i%2FZxYTY9AZswRX6hHersdjomM6GZFbeTGtiRzFv%2BE%2FRFvkvmNlyZQKZOdkGNDKZbLHaprhxmnrZwv%2Bvf%2BTh%2FzCFVlUdiKYsZ%2FU7YGY5apx3aRqtTBXZzIFMbPgW3WJ0gWPNAhiIXfO%2FPMvdQxWJ2fe146Pm0JXUXE%2BYnj%2BLSUfn5u4p95dZCiXr%2BRKX4Ce%2BqxZGJILSVIWqAsZE9Nhdzv3GYrF%7Ctkp%3ABFBM0JiYi_Jg',\n 'https://www.ebay.com/itm/372524593013?hash=item56bc322f75:g:VbAAAOSwo7RhRRls&amdata=enc%3AAQAHAAAA4Cqfe%2Btcq4%2BySjarpLfvp1IkUl3%2Bj27490fUm7JXy6hEwPXVOCyn%2FpllT1bLUZsJ2OQ6Mcw0vCsF7fKkQbpyk%2Fpme%2BuBB2mLnyvV6N1y%2Fa5BAxSosJZR%2BssK3P50CoUUHR%2Fj%2FF3VaY4zx5C7k6MZcrF5vR0DLwgEL7H6ThMxQQy1vlSWpWFnGDPnvsZ6EGLwmGny5PSr%2BQHGYUHrfGqRLMh3flolMwtV5A5D%2By4rBRJx5WATtVgVMyG%2BxsJRx1U9zGzQO8dNw9wUKlS5%2BmdP7qDzl2%2BGmVmhsLHvw%2FBXAZ%2Fx%7Ctkp%3ABFBM0JiYi_Jg',\n 'https://www.ebay.com/itm/325358483296?epid=17049280694&hash=item4bc0e07760:g:VY0AAOSwSf5jM11X&amdata=enc%3AAQAHAAAAoFZDd1UK3nhIKXhMxMDIF%2FGHtB2%2FLkg4knll5uL2kltXIu%2BNmT16AeczgBJkpD7IoxRKrgiSa70r0ogNwTs4bgaOYBEgNghx%2FArt31gZwhE2vsJZo%2BtTg4Tg5qqMfZI%2F06UGbhdyUt0U3wOT%2BU9yogc6Yhldtch4Znxc8v9Mxgu8ckjdiUa6oxftGP%2BjmWqB3y1eOusJXGaXjZdjTgncrJk%3D%7Ctkp%3ABk9SR9CYmIvyYA',\n 'https://www.ebay.com/itm/255637353803?hash=item3b852c754b:g:0gMAAOSwg2di1t6q&amdata=enc%3AAQAHAAAAoJ4v0j2E%2BuaGmgRiMbcpK7yFKF6U3goq6AvNDXA7IqAxyz96AkLcMhP4M2zD9frMDrI%2BqkFO4NVQ2rrwTz5k%2FijBCnrTlr90wp4XuzFsqM5V%2FWQsjoddUy0Sw0bXF4XlDq%2BsPU7a%2BAPps6Vq1NB%2FAIuc5oY%2F1sZaw4TyhWrMVn2x7XEXVnjynsvACSeJwUkDibNXx6wo3QtEVUPF1NSipsY%3D%7Ctkp%3ABk9SR9CYmIvyYA',\n 'https://www.ebay.com/itm/255517383414?hash=item3b7e05daf6:g:~FwAAOSwCntib8ac&amdata=enc%3AAQAHAAAA4Mu7%2BbNKVsUYnulXnZ0pLkmA9XU8e8aix3pNKrqe2uu6TlZ1b9sFHuVlAiMrnWtgMEtT9NZ%2FDOQbNhW3QpUT0jJTmy2Fe3mnw14PMl32JdcIH5rqNXoHTWbdlItKmL9YKpG22%2Bm241NBgUet5EGLYNMnVDRHSTPXHoDr8BnCkplEpNXF51ORbE8kQNlfLI%2B3mdX7JqVGPl8wM6UFXDhNpU4Fc5evEa9JDDWT4fR9F%2Bd6055QPoXX%2BJgA8SFQuDJ6aZNq6LXkh89ZDT3drZtGrLPB7wRzyCZQEoKFqsE%2B1F%2Bz%7Ctkp%3ABk9SR9CYmIvyYA',\n 'https://www.ebay.com/itm/374283313669?epid=10049287400&hash=item5725062205:g:tfoAAOSw5ehjM2ci&amdata=enc%3AAQAHAAAAoBJ06jsQvp8rg%2BBFVZRhGAaDD%2FvHYIsHVua1u5IZ9jrnX7o00SV3LdmoWs%2FH9zPw%2Bjg%2Bs6pFmI1RriXaW%2Bryx8KA3E6A6CYxHUrZKix%2B9ljMwz0Mt9j7HjsQImXR%2Fo00LSFpEtnX87C3Yg1dryovLYTh58fGyozgaNLw5xEibDulQpQaXeJ4KeauJPFGmh6Q7%2FKM7EUQjtVziUosAMrkWDI%3D%7Ctkp%3ABk9SR9CYmIvyYA',\n 'https://www.ebay.com/itm/144738135843?epid=25049270842&hash=item21b310af23:g:zvAAAOSw07BjMl0G&amdata=enc%3AAQAHAAAA4NqQN1N1qVldGGRQT2MBAogQ1iom%2FBdJs%2By%2BU5Fqio8sKElr%2FT8IUp22RvSER8eAjpeZcjC9TyPRX2mSZHTpteUFrE1cX8L8PU0GPfYUcyNbvXATSLdcsjywnPoDNVmQqJ8CqLBZ%2Bf2k%2BOnlUly0VIwp0bys0i%2BGkvKvDrxw%2FobxUzKBQHU3r7SVeZfcGThNilb7eubRUh9%2BRO294amyurPqAQiTr6iEcrokUAkiX46n1mnKX2QvuXw9cHSV9NeBTVl5x3WOA5U2gNjourOe246nC%2BhAVk5tM5O4GpwaNMO%2F%7Ctkp%3ABk9SR9CYmIvyYA',\n 'https://www.ebay.com/itm/265901655585?epid=12049274258&hash=item3de8f94621:g:uEsAAOSwVCxjLzA~&amdata=enc%3AAQAHAAAA4IlB5P6VPjVES%2FN7aHR9TYw8rGajyDWonu4P49BfoXoUF5rlMgC%2FmRKABAQAPR41lrT%2FAQjNqWS4LO41Xxuiewc4NKiR%2BMVzt6GIFZz3Z6wUtkddyh6u0%2FCtj9prpyMnnyHqbp08IoCF7up0BBh6LAGsHKy0Cf3bpScQYYk5qSf7tDOBNH7pjugUPyNGCwbrG2Ai2t2H5KjTjtx5CDx08DUvcPV3%2F0NZ%2BzjHi%2F6j%2Fe7%2BfDJLmCgQHSubkH1F4aMDLUf6n43Wr95IhptlnDeguyIcGadKmV6yF0qVsJrcivIt%7Ctkp%3ABk9SR9CYmIvyYA',\n 'https://www.ebay.com/itm/195380654226?epid=18049286639&hash=item2d7d983092:g:if4AAOSwnHhjNFhn&amdata=enc%3AAQAHAAAA4IyfWzkCdeHq1zBP26klg6erdSuWiSB1fAkVzSzXlVMD3B6lzfEWTnnLT2Gz%2Fv4bIpRZHNg9AZ71chJxY5i5%2FKax0BtmC%2BiqI4ZwH1d6YmYnZjMNsL8Kk%2FsBrn%2B6psRs7kmAn%2FL%2FxcNpkHeDOH%2B%2B9Hq%2FG0k48ENhir0Z1vkp%2BXQUuOVwqPHYSWFoAIrsbim7p8IgCJ8IrYEFeQe0Qu7dFKDP%2BKCzAd%2FAuSwspvX3iW16ItxEvXZBgOJDptdZgEKmIpFb02CXGeL1LGweVnWwvbLrt1mclvI8pDbw6ygJ00vb%7Ctkp%3ABFBM0JiYi_Jg',\n 'https://www.ebay.com/itm/294477306426?epid=13049281007&hash=item4490371a3a:g:uO4AAOSw3OdijQS-&amdata=enc%3AAQAHAAAA4FIoT0ihXRL%2FTdRtd%2B0DfO5Lomk0mx60%2FB0cTxDz15ThUHqUK9boy8qJsKoKFozzOMxfm35RjNkCme1hnVpRX4sn11qSzUGhKxuxq6SB8z8eH2gx%2FA8Jyni6szQ2FP46Pe0s0QKpI%2BGNlrGleS4lFC05zZZIiOZBhS54TvqkrPLJvo4wLo5sqC7Joc36eSVfveJPBtsLiWGb8wWfftL8uTXJFFKUcy8TXNjyMBy8SC9e12LVqjNjsQd1z%2Bf4zF4r4n5ujQ7mHAeQcosCjutLyf1yjihtW%2FXzBi0EBENxe6ij%7Ctkp%3ABFBM0JiYi_Jg',\n 'https://www.ebay.com/itm/204106649266?epid=20049285611&hash=item2f85b44eb2:g:4h8AAOSwmRVjNxi-&amdata=enc%3AAQAHAAAAoMWQ0KXUem0JsquU7M%2BnbqEJeWE37JZc%2F4HbtdwNjOyvZaX9uegp0DkCbZ%2BmMv%2B2KGScRXs%2BSOp7ROzral7626KxYysKi8v72efVSuGl8mqc5SmVMWclJUBkAqWEsvLnVWo3Bhr%2B4jQJP7STMZbLc51KR5fK6LqoywUwqGw%2BInFH0Dw2yq1XV2R%2B8bagBE91jG%2BtMffRvA4iAIujZ2LEa2c%3D%7Ctkp%3ABk9SR9CYmIvyYA',\n 'https://www.ebay.com/itm/354298161701?epid=8049288632&hash=item527dd0ea25:g:KGAAAOSwJGpjC6rh&amdata=enc%3AAQAHAAAAoA%2B%2F7Our3%2B1U2mCqsGZU2xPTqWehdC8f5I284m0qlaJY5yxhMX9qpL8UxppsZpsXXSBgDdBzyiBYFKSzPln0wSxXWN4%2BQ4m2ee%2BmyQMU9Lp6uH0LnRvUOHBuFCQxV2lyPCAJLbuKr9io55Uz9o%2BS6O%2FtNm5rINRgDDsDMHXJNE2fCOaiGRfDKNCe57pB5xttaFrwXHPMpuscOmKLRPZ3dK4%3D%7Ctkp%3ABk9SR9CYmIvyYA',\n 'https://www.ebay.com/itm/144745202838?epid=20052773143&hash=item21b37c8496:g:qyAAAOSwM1hjNy2O&amdata=enc%3AAQAHAAAAoKAlaGUSTPukQt1nEb6B0ZAIfgNQOubSj7EQUaSLSafKwGo67MbfzF6sq3XIsL8yHZBgnlei2pgEHsa8pRDQEN82KWdwiqPHP9SOrTRR4ueJJYJd%2F9HjZTDCzCymAqGQWalFwDbqjmbzIK%2FoG1hzYlr4jfsbA04kmD%2BXzeSk1kaFtAx2jPPHxQCIEnNGU50K4LZjk%2FDO2IcqePdH%2FhMzykY%3D%7Ctkp%3ABk9SR9CYmIvyYA',\n 'https://www.ebay.com/itm/394258623065?hash=item5bcba52a59:g:zL4AAOSwIbJiq0d7&amdata=enc%3AAQAHAAAAoNv9ACFpwdCsvhfM0%2BaeL4JEzhrr93vcaNNAEkNP35WdTl5cuyDCHBsZ42GEUaIPt6N%2Bm%2BaSzWD6CLpT2M5NILM%2FeXhH%2F25JNoEWroAGQ7ql6%2FjuvUrf%2FPkbyQkwBEt8BM%2FJ05VSEJL0uwe47DACczDlSqgVPWWkoXPyWTguYnFsSIdrn6UqSdUvMsUxGTLbx4W1fp5XIvDjeDqRlukn1Iw%3D%7Ctkp%3ABk9SR9CYmIvyYA',\n 'https://www.ebay.com/itm/224756277133?epid=2320328674&hash=item3454849f8d:g:IwIAAOSwZxxicxeE&amdata=enc%3AAQAHAAAA4NGN9eQBVUVpUxmmtTtzjbe8tTe3LtgrVenJpsxIbAQj6hPQe%2BJCuGfSgtS9wzqnSrIY9AUAszH0X5TIcTUvt5JEP5Rhd5jplBnGFbIgN5dcSJ02EzmucVzguaEHVlr5bJbidwjQkbnxp4sFzYgwZgFWI8tNaCS8xpA4qniWGtQtJY94hJoK%2FJ2VVOMROfGb47jAVVgedb5DNJTdfFR29LqLsHYBHf7CZ8oKxDf5Tb1HJRe%2F8lPqq5GabaGds%2B4tjn1MDWBNF0dC2R%2FdDHza5uNKg8YE8nNjZQhwrNB%2BJ8Gh%7Ctkp%3ABk9SR9CYmIvyYA',\n 'https://www.ebay.com/itm/115398776875?epid=13051460425&hash=item1ade4d982b:g:BI4AAOSwo5Rij4S0&amdata=enc%3AAQAHAAAA4ELrFOtK9Q4ol28SIBCj8AmYLnzpDrkE7BegpKKoZSuWOQUjDUXpfYSvWYnyCpx3RHsr7fyzJD7lcEU75SOsi1FpbCCcbci4IHzBSYRbIqaYHBfh0s00BxFCKeC3ewsayNJM2cDXzNoHDmbNZWa79dxURY8%2Bxfq9Kapp0b%2BeI1I81a6SsYnoYGF1IJTgh4lHSycgV9vz4PYEJmeGbAXDKDHK8IAJ7mAzInWobRw1AwR3y2c7Riwy319ocA5wRYpbtP9lnbBi7F9jv17xRhsMSfuywDHtGd9iYJdYFpcg4Jr%2F%7Ctkp%3ABk9SR9CYmIvyYA',\n 'https://www.ebay.com/itm/185599608487?epid=9049279784&hash=item2b369946a7:g:emgAAOSwApFjNd2X&amdata=enc%3AAQAHAAAA4GCbkY%2FEa%2BdXBZqoosjgnx4w8JLh3wfYmlKxFG9FfVC8Kpu3QHf7gGiV7Z6YmX5EzYyM0gUBJeTYT%2B8DcKqfFTIUA7ff91Elc%2BscrH1mR4lA4neUhW9dAN5FH5wl5Gy6tVfUyiun0Ot3WLa8fvbupEGU3tySJhPL%2BVHZkI0HKVDX2UG46JLDwb%2Bnpc5%2BUBULU%2F2sL%2FypAcW4ninbDUX40cnL22pMLg77xshnEiaRk5ptUcFcxuiJjtHn0LLRu8MOAsF%2FLb7l1NwLr0hEnqMjod%2F3H4jKzl0ze0NT21EVoYDg%7Ctkp%3ABk9SR9CYmIvyYA',\n 'https://www.ebay.com/itm/385144930384?epid=15049284865&hash=item59ac6d4050:g:FGkAAOSwNOBjN3Pd&amdata=enc%3AAQAHAAAAoMpNfERW9GacOonv7IV812a8eYsUrmN%2B8S6k91igNFQ9t%2FfmAtOWKCtmILYpa14z9ppb6DL6bR31e4azoDNLzv11jBChEMdxdbBWODebeSy4GoCEJT%2BZmIGngT9K4X4PrJ7KkB%2BAk2ozrTdwj5Q4zzqXIIn9iqTMyU5%2FGZYie3KnG2XO64tRmkyacr7FZHK2BJe6cq95obevkQXT45%2FJKpE%3D%7Ctkp%3ABk9SR9CYmIvyYA',\n 'https://www.ebay.com/itm/363992785821?epid=17049280668&hash=item54bfa9239d:g:AHIAAOSwVrRjLkox&amdata=enc%3AAQAHAAAAoHmHOxfvlr8Ok4NXEPSv2k00vqh1fqotaK%2FdYHE2xgU11D12sepvaltFn0s5xsPGFLNI98On5HFfu7PZLPkPg7%2FgQr0IBZqeiV4kjRimzq5miKr7DGWHudv4XggDswICcU4nQ7MD7q1yoFrjA2HXEm2IxO3%2ByYcH39kJA8Vlgh%2BTcTWSgPXeKEKvc3NgQQMZsFbZL%2FVuhHPlERxv8Cr8%2BuY%3D%7Ctkp%3ABk9SR9CYmIvyYA',\n 'https://www.ebay.com/itm/295245652701?epid=13049281033&hash=item44be0322dd:g:bTEAAOSwNTdjNMIH&amdata=enc%3AAQAHAAAAoJV19c3wOavYbuR08423giBsp6ipfpS5WuDgfVjt9lzszDxpGPhXftmOzUT89cTodyzwj9z4GxB5kF%2BzXBhf%2ByLVu46FrqTlWcLwDmiBac3Cb3xa4BaT7KcJLqy8CIk7x%2BS9vBlUWhO79Hjk8iVnij%2Bn03LzoPlW7%2FrTylgQDVx%2FnGXFvGYUq2nj4O8kUoygaEu9Kp3OSDIsxQMRtCaVZqQ%3D%7Ctkp%3ABk9SR9CYmIvyYA',\n 'https://www.ebay.com/itm/144744607539?epid=17049280668&hash=item21b3736f33:g:wVAAAOSwb5pjNbMf&amdata=enc%3AAQAHAAAAoD5R0WT00EPGqegoa9Oi0rlad1%2Bqw6gdWupHt%2BPeztra2SnPSKm3BTAKJ%2FqEB8gUujkAEhvou%2F4FO8eu6SPtR9tAnUKuu1s7HxOksup57bto4s3zJ%2B9%2FGkpCE%2BZQkyi09Uv9hvIbrTOc2JhjHLDSPTf%2BaYr6mc%2BQcf37uS%2F%2Fv26lHnfM7li0k%2FCKvc65Ue51d%2FFac5p87KP6dppyXJzpATE%3D%7Ctkp%3ABk9SR9CYmIvyYA',\n 'https://www.ebay.com/itm/334573229595?epid=8049288657&hash=item4de61e561b:g:iWAAAOSwxPhjKdmE&amdata=enc%3AAQAHAAAAoHlWidD8ozUx4afKaQnopzYAAp3MsHUiQJLA5w%2FVSTEVNJZhqpUsNzWTL30MMi0gvEXzYVco9QpiN25zFNISCD0IeLE%2Fduhv18lF9eXsVQ26dtHBEahs8qCbaYEVXYZkWczYJjU2pSNPoqK9ApIuTR%2FFeKBAs0r5u2Dni0pihDJSQ1PGB8nXHIgFp5aCqLXRIVso7OIrF9aF7011OyVXqzw%3D%7Ctkp%3ABk9SR9CYmIvyYA',\n 'https://www.ebay.com/itm/225185191284?epid=19049288451&hash=item346e155574:g:11AAAOSwZgBjLb3f&amdata=enc%3AAQAHAAAAoIsPM8iO8ZnPNvxNewo8yg01dsZ%2FUQZHHg%2FESKwA5SkVD8OQPFThfSN%2FHmpgi3FiioxD%2FdrNMXq64aW%2BwKOT%2Bm9Jfw5CZ%2B544mgnrkXId7fXtYfILClm%2FdwPDcJcNZvcyKWET9AT3vpW9RT0OoOCR%2FqzsMjC%2FreBosiBrrMviEyWiB7jCyQEkgrSmsQ1HkQTJ57nNDEZIH5BQhJS9auqkvU%3D%7Ctkp%3ABk9SR9CYmIvyYA',\n 'https://www.ebay.com/itm/274991801886?epid=25049270842&hash=item4006c9e61e:g:JecAAOSwMf9ijQXC&amdata=enc%3AAQAHAAAA4JZb3Y8t%2FlWhmd1OsY0hzDT4e4DyThL%2FHnz%2Fmslh%2FU%2B3FSbhmi%2FVOcsK4pTl7GTZV2KIyC21w9ZenqLt5o%2BYUrfbnEfeiZtftlXjajK3qxOcnTP7seWLAlet4a%2BGS%2FijcculDRVJR3r%2FLSJoaJenGzlOn70YPXIt%2FhxPd4BcW7e9XNnEoQmVIxQ9P%2FFP1AcA0%2Bf%2BKgsj7OQgaVp1i3GOvozKhLSC9G9WkVRWnQiUcpSj1EqFVmiV%2FJ1HuiJ%2Bieu9oQitrf5BPvxjDgwWq53OGDIx5soYsHYB26QlvUu74auE%7Ctkp%3ABk9SR9CYmIvyYA',\n 'https://www.ebay.com/itm/334313601949?epid=2320328612&hash=item4dd6a4bb9d:g:7lsAAOSwvn5jH1yn&amdata=enc%3AAQAHAAAAoGEJmDtskyyBfCsCH4nEcpYYLCENyOcHW%2BdcGkJfL2dm9nT6xxBlLg2R8QBre5ydxU4QEh%2B57Schi8AXh%2FR1aE5rlcjvDMGRqCv0N9YFAYdLLI94tbdoXGesIE8ZSykae0PGjtmbtsxFGs2C58FRDYnVKtmDRHZlX3du0magJe%2Bj8pi7nAm%2BAb6tZZgIzrGm6uDYS4Af83rUZBQTwDjf2j4%3D%7Ctkp%3ABk9SR9KYmIvyYA',\n 'https://www.ebay.com/itm/234466239755?epid=8049288706&hash=item369746e50b:g:vaYAAOSwaIVjIO4F&amdata=enc%3AAQAHAAAAoPKYAly1PQHAKbNWHJ%2BHMgSWkVQTPr50nGYISAa8O3Kb%2Fgr5sHGwSvEpAiVBBu7Ts9BvV1SENPIw0HfaGTk6PhoNndqTNYWhGBFS9XVKsuB2%2B%2BPybYn%2FtPhZmqyEYWzMduNuIjB5bOWkqjWlToomDBnmxIDy8uoP5UOPm4YEQAPuW%2BUextfhnns%2Fsosxidfvge2SgVY0QlEYH6x5jUC1o%2Bs%3D%7Ctkp%3ABk9SR9KYmIvyYA',\n 'https://www.ebay.com/itm/384736090870?epid=17049280668&hash=item59940edaf6:g:cuYAAOSwkDBiC4Bf&amdata=enc%3AAQAHAAAA4PXBebJH6sWX%2Fl1vfSYmTtZ0WhNYXkOp2jss6Smp86kdWIbd7ctEO%2FX5tt8hYYKH2t%2BvRPoOkA9GOj6Ycma6VfJNbBAzmOCyekXquNu8Exx%2FKufCEgT82laumUgwEsZzB4BX6nX3qzg3niNVwHvuOgsgrVWWcZSVJDT%2Bv41k6PJ2hxPNJdYIDeAjpCHgYpShNyDL9s%2BlRqk7bP%2BRhIAPd70gtfEzwKzmVMkJ3GmLRUdz2l3oZhWyQFtim4rKTkzmCHCp4XKZFtd9IjJp9IQfFrIEawrhHxG2QzH87H%2BsmJ8Z%7Ctkp%3ABk9SR9KYmIvyYA',\n 'https://www.ebay.com/itm/284985593169?epid=12052764234&hash=item425a770d51:g:-PYAAOSw7X1jNx0r&amdata=enc%3AAQAHAAAA4IINz7Q39Hqvs8p7NHKJpzZsU5p2mcpZx3G6LCq%2Bj8PvVZPAMydb3KSzLWE0F6JyVMCxbWI3Xb0TsW6o6YbORq4L80K6WgWE%2BtktXYJpped5C5rdogVyXy%2BcwDjvy8pc5Bcm%2FgJA8eN5yLTkpdbgBuRuv8WPBjsLGsmI23Zl2QikTL5AwxIuL1zCsKvhTGg01QOveFqISePGo69f0WQr90y7bf3oQQ8tjDqw92uAcp97zwO0WOVJ13OkfwUdDnf%2F6qxneXGWUHbBGFG0p7P8qFFby%2FRTW9gJVrOfCr3Oia%2F9%7Ctkp%3ABk9SR9KYmIvyYA',\n 'https://www.ebay.com/itm/403662572610?epid=13041717142&hash=item5dfc2a0c42:g:ZikAAOSwYExhtmzO&amdata=enc%3AAQAHAAAA4AcGLorYepWSxPon%2BbN7rsNfU%2FSRmjdTfrcIO04%2FUOsgg3JfW%2B3vIyipJEYo29Gfr3%2BisOqGs%2BGvT7uXZUpPpZjYoTNDzs3JYXjshIF9JM66kaknA2f02E9N7Jh%2BhhZ5lrd42LQ56nOdg5k3GHx714Mjq6jLeBBG6Oy8fB2ImiitdAzP2ibLxUylnf30995Nc9BwhP96B%2BZ14N%2FIfPAjdreInGRwEz4xaWsU065mw79g7ckXhT5xXw3BWsbyeW8C7WYCb%2FwBNFMDQHyTs2KtAR3SP462micGlSTqOwoPyXya%7Ctkp%3ABFBM0piYi_Jg',\n 'https://www.ebay.com/itm/294493520730?epid=14049280195&hash=item44912e835a:g:apMAAOSwn9RjB9lA&amdata=enc%3AAQAHAAAA4FNph7WPQX7lpE29rDfW5gAxuEBJbc97bQcsLW0drEGMNEUZP0XIF5998jS9Vqt%2BANzEUIIbPhDVUiTqTaebOU8znnomFZjnttTXbsIZM%2B47goe8KVD0J6G%2FzMxBMvuJPN4cT40Ti38%2FQcjgMHvmBeGuuJ8uIY2CbBQgxTOZCUopnV7%2Fbzm3MGQ8IO%2BoMGRkADGxlKhSV9DJsyTsQl2m9GItyAJGoAtmSJlJwwfhv1c0hJfK%2FT%2BUNWV4g6cSywGg9mw%2Fxw88RVaoE9z7m96bxX93A4ro6KnTYB3h34rmK3S7%7Ctkp%3ABFBM0piYi_Jg']"
     },
     "execution_count": 11,
     "metadata": {},
     "output_type": "execute_result"
    }
   ],
   "source": [
    "urls"
   ],
   "metadata": {
    "collapsed": false
   }
  },
  {
   "cell_type": "code",
   "execution_count": 12,
   "outputs": [],
   "source": [
    "# siguiente = driver.find_element(by = By.XPATH, value = \"//a[@class='pagination__next icon-link']\")\n",
    "siguiente = driver.find_element(by = By.CLASS_NAME, value = \"pagination__next\")\n",
    "siguiente.click()"
   ],
   "metadata": {
    "collapsed": false
   }
  },
  {
   "cell_type": "code",
   "execution_count": 13,
   "outputs": [],
   "source": [
    "lista_nombre = []\n",
    "lista_precio = []\n",
    "lista_url = []"
   ],
   "metadata": {
    "collapsed": false
   }
  },
  {
   "cell_type": "code",
   "execution_count": 14,
   "outputs": [],
   "source": [
    "for i in range(5):\n",
    "    # Traemos los nombres\n",
    "    nombres = driver.find_elements(by = By.XPATH, value = \"//ul[@class='srp-results srp-list clearfix']/li/div/div[2]/a/div/span\")\n",
    "    nombres = [i.text for i in nombres]\n",
    "    lista_nombre.extend(nombres)\n",
    "\n",
    "    # Traemos los precios\n",
    "    precio_path = \"//ul[@class='srp-results srp-list clearfix']/li/div/div[@class='s-item__info clearfix']/div[@class='s-item__details clearfix']/div[1]/span\"\n",
    "    precios = driver.find_elements(by = By.XPATH, value = precio_path)\n",
    "    precios = [i.text for i in precios]\n",
    "    lista_precio.extend(precios)\n",
    "\n",
    "    # Traemos los enlaces\n",
    "    urls = driver.find_elements(by = By.XPATH, value = \"//ul[@class='srp-results srp-list clearfix']/li/div/div[@class='s-item__info clearfix']/a\")\n",
    "    urls = [i.get_attribute('href') for i in urls]\n",
    "    lista_url.extend(urls)\n",
    "\n",
    "    try:\n",
    "        siguiente = driver.find_element(by = By.CLASS_NAME, value = \"pagination__next\")\n",
    "        siguiente.click()\n",
    "    except:\n",
    "        break"
   ],
   "metadata": {
    "collapsed": false
   }
  },
  {
   "cell_type": "code",
   "execution_count": 15,
   "outputs": [],
   "source": [
    "df = pd.DataFrame({'Nombre': lista_nombre, 'Precio': lista_precio, 'Enlace': lista_url})"
   ],
   "metadata": {
    "collapsed": false
   }
  },
  {
   "cell_type": "code",
   "execution_count": 16,
   "outputs": [
    {
     "data": {
      "text/plain": "                                                Nombre  \\\n0    Apple iPhone 13 Mini 128/256/512GB ATT Sprint ...   \n1    Apple iPhone 13 Mini - 128/256/512GB - Unlocke...   \n2    ANUNCIO NUEVOApple iPhone 13 Mini 5G 256GB ATT...   \n3    ANUNCIO NUEVONewly Sealed Apple iPhone 13 - 12...   \n4    Apple iPhone 13 Pro - 128/256/512GB 1TB - Unlo...   \n..                                                 ...   \n295  ANUNCIO NUEVOApple iPhone 13 Pro Max - 256GB -...   \n296  ANUNCIO NUEVOApple iPhone 13 Pro Max - 128GB -...   \n297  ANUNCIO NUEVOApple iPhone 13 - 256GB - Starlig...   \n298  iPhone 13 Pro Max Case Heavy Duty Cover With C...   \n299  3x Tempered Glass 9H Full Cover Protector for ...   \n\n                          Precio  \\\n0    S/. 2 066.18 a S/. 2 105.92   \n1    S/. 2 145.65 a S/. 2 781.41   \n2                   S/. 1 986.75   \n3                   S/. 1 986.75   \n4    S/. 3 178.76 a S/. 4 490.02   \n..                           ...   \n295                 S/. 2 757.89   \n296                 S/. 1 275.49   \n297                   S/. 223.61   \n298                   S/. 119.17   \n299                    S/. 30.65   \n\n                                                Enlace  \n0    https://www.ebay.com/itm/294477174757?epid=100...  \n1    https://www.ebay.com/itm/294908799627?epid=250...  \n2    https://www.ebay.com/itm/115545822586?epid=270...  \n3    https://www.ebay.com/itm/225185041028?epid=232...  \n4    https://www.ebay.com/itm/284749954715?epid=804...  \n..                                                 ...  \n295  https://www.ebay.com/itm/255752629106?hash=ite...  \n296  https://www.ebay.com/itm/334577907716?epid=190...  \n297  https://www.ebay.com/itm/234715470952?epid=270...  \n298  https://www.ebay.com/itm/125177445919?hash=ite...  \n299  https://www.ebay.com/itm/275130157756?hash=ite...  \n\n[300 rows x 3 columns]",
      "text/html": "<div>\n<style scoped>\n    .dataframe tbody tr th:only-of-type {\n        vertical-align: middle;\n    }\n\n    .dataframe tbody tr th {\n        vertical-align: top;\n    }\n\n    .dataframe thead th {\n        text-align: right;\n    }\n</style>\n<table border=\"1\" class=\"dataframe\">\n  <thead>\n    <tr style=\"text-align: right;\">\n      <th></th>\n      <th>Nombre</th>\n      <th>Precio</th>\n      <th>Enlace</th>\n    </tr>\n  </thead>\n  <tbody>\n    <tr>\n      <th>0</th>\n      <td>Apple iPhone 13 Mini 128/256/512GB ATT Sprint ...</td>\n      <td>S/. 2 066.18 a S/. 2 105.92</td>\n      <td>https://www.ebay.com/itm/294477174757?epid=100...</td>\n    </tr>\n    <tr>\n      <th>1</th>\n      <td>Apple iPhone 13 Mini - 128/256/512GB - Unlocke...</td>\n      <td>S/. 2 145.65 a S/. 2 781.41</td>\n      <td>https://www.ebay.com/itm/294908799627?epid=250...</td>\n    </tr>\n    <tr>\n      <th>2</th>\n      <td>ANUNCIO NUEVOApple iPhone 13 Mini 5G 256GB ATT...</td>\n      <td>S/. 1 986.75</td>\n      <td>https://www.ebay.com/itm/115545822586?epid=270...</td>\n    </tr>\n    <tr>\n      <th>3</th>\n      <td>ANUNCIO NUEVONewly Sealed Apple iPhone 13 - 12...</td>\n      <td>S/. 1 986.75</td>\n      <td>https://www.ebay.com/itm/225185041028?epid=232...</td>\n    </tr>\n    <tr>\n      <th>4</th>\n      <td>Apple iPhone 13 Pro - 128/256/512GB 1TB - Unlo...</td>\n      <td>S/. 3 178.76 a S/. 4 490.02</td>\n      <td>https://www.ebay.com/itm/284749954715?epid=804...</td>\n    </tr>\n    <tr>\n      <th>...</th>\n      <td>...</td>\n      <td>...</td>\n      <td>...</td>\n    </tr>\n    <tr>\n      <th>295</th>\n      <td>ANUNCIO NUEVOApple iPhone 13 Pro Max - 256GB -...</td>\n      <td>S/. 2 757.89</td>\n      <td>https://www.ebay.com/itm/255752629106?hash=ite...</td>\n    </tr>\n    <tr>\n      <th>296</th>\n      <td>ANUNCIO NUEVOApple iPhone 13 Pro Max - 128GB -...</td>\n      <td>S/. 1 275.49</td>\n      <td>https://www.ebay.com/itm/334577907716?epid=190...</td>\n    </tr>\n    <tr>\n      <th>297</th>\n      <td>ANUNCIO NUEVOApple iPhone 13 - 256GB - Starlig...</td>\n      <td>S/. 223.61</td>\n      <td>https://www.ebay.com/itm/234715470952?epid=270...</td>\n    </tr>\n    <tr>\n      <th>298</th>\n      <td>iPhone 13 Pro Max Case Heavy Duty Cover With C...</td>\n      <td>S/. 119.17</td>\n      <td>https://www.ebay.com/itm/125177445919?hash=ite...</td>\n    </tr>\n    <tr>\n      <th>299</th>\n      <td>3x Tempered Glass 9H Full Cover Protector for ...</td>\n      <td>S/. 30.65</td>\n      <td>https://www.ebay.com/itm/275130157756?hash=ite...</td>\n    </tr>\n  </tbody>\n</table>\n<p>300 rows × 3 columns</p>\n</div>"
     },
     "execution_count": 16,
     "metadata": {},
     "output_type": "execute_result"
    }
   ],
   "source": [
    "df"
   ],
   "metadata": {
    "collapsed": false
   }
  },
  {
   "cell_type": "code",
   "execution_count": 83,
   "outputs": [],
   "source": [
    "df.to_csv(f'precios {buscar}.csv')"
   ],
   "metadata": {
    "collapsed": false
   }
  },
  {
   "cell_type": "code",
   "execution_count": null,
   "outputs": [],
   "source": [],
   "metadata": {
    "collapsed": false
   }
  }
 ],
 "metadata": {
  "kernelspec": {
   "display_name": "Python 3",
   "language": "python",
   "name": "python3"
  },
  "language_info": {
   "codemirror_mode": {
    "name": "ipython",
    "version": 2
   },
   "file_extension": ".py",
   "mimetype": "text/x-python",
   "name": "python",
   "nbconvert_exporter": "python",
   "pygments_lexer": "ipython2",
   "version": "2.7.6"
  }
 },
 "nbformat": 4,
 "nbformat_minor": 0
}

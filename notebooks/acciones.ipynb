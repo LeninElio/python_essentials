{
 "cells": [
  {
   "cell_type": "markdown",
   "source": [
    "## Analisis de accciones"
   ],
   "metadata": {
    "collapsed": false,
    "pycharm": {
     "name": "#%% md\n"
    }
   }
  },
  {
   "cell_type": "code",
   "execution_count": null,
   "outputs": [],
   "source": [
    "import pandas as pd\n",
    "import matplotlib.pyplot as plt"
   ],
   "metadata": {
    "collapsed": false,
    "pycharm": {
     "name": "#%%\n"
    }
   }
  },
  {
   "cell_type": "code",
   "execution_count": 14,
   "outputs": [],
   "source": [
    "lista = ['APLE', 'TSLA', 'AMZN', 'META', 'GOOG']\n",
    "url = \"https://query1.finance.yahoo.com/v7/finance/download/{}?period1=1631799308&period2=1663335308&interval=1d&events=history&includeAdjustedClose=true\""
   ],
   "metadata": {
    "collapsed": false,
    "pycharm": {
     "name": "#%%\n"
    }
   }
  },
  {
   "cell_type": "code",
   "execution_count": 15,
   "outputs": [],
   "source": [
    "df = pd.DataFrame()"
   ],
   "metadata": {
    "collapsed": false,
    "pycharm": {
     "name": "#%%\n"
    }
   }
  },
  {
   "cell_type": "code",
   "execution_count": 17,
   "outputs": [],
   "source": [
    "lista_temp = list()\n",
    "for i in lista:\n",
    "    df_temp = pd.read_csv(url.format(i))\n",
    "    # Symbol es donde se almacenara el nombre de la compania para identificarlo\n",
    "    df_temp['Symbol'] = i\n",
    "    lista_temp.append(df_temp)"
   ],
   "metadata": {
    "collapsed": false,
    "pycharm": {
     "name": "#%%\n"
    }
   }
  },
  {
   "cell_type": "markdown",
   "source": [
    "### Ignore index para que el index no se repita al momento de unir los data set de cada compania"
   ],
   "metadata": {
    "collapsed": false,
    "pycharm": {
     "name": "#%% md\n"
    }
   }
  },
  {
   "cell_type": "code",
   "execution_count": 18,
   "outputs": [],
   "source": [
    "df = pd.concat(lista_temp, ignore_index=True)"
   ],
   "metadata": {
    "collapsed": false,
    "pycharm": {
     "name": "#%%\n"
    }
   }
  },
  {
   "cell_type": "code",
   "execution_count": 19,
   "outputs": [
    {
     "data": {
      "text/plain": "            Date        Open        High         Low       Close   Adj Close  \\\n0     2021-09-16   15.230000   15.490000   15.170000   15.350000   14.993930   \n1     2021-09-17   15.460000   15.630000   15.320000   15.350000   14.993930   \n2     2021-09-20   14.990000   15.310000   14.889000   15.280000   14.925552   \n3     2021-09-21   15.440000   15.880000   15.350000   15.710000   15.345579   \n4     2021-09-22   15.870000   16.240000   15.835000   16.090000   15.716764   \n...          ...         ...         ...         ...         ...         ...   \n1255  2022-09-09  110.050003  112.000000  110.000000  111.779999  111.779999   \n1256  2022-09-12  111.989998  112.639999  110.930000  111.870003  111.870003   \n1257  2022-09-13  108.889999  109.370003  105.000000  105.309998  105.309998   \n1258  2022-09-14  105.440002  106.099998  104.500000  105.870003  105.870003   \n1259  2022-09-15  105.010002  106.209999  103.309998  103.900002  103.900002   \n\n        Volume Symbol  \n0      1589600   APLE  \n1      4391200   APLE  \n2      1778300   APLE  \n3      3653600   APLE  \n4      2922900   APLE  \n...        ...    ...  \n1255  21732900   GOOG  \n1256  19732900   GOOG  \n1257  33015000   GOOG  \n1258  22115800   GOOG  \n1259  26446800   GOOG  \n\n[1260 rows x 8 columns]",
      "text/html": "<div>\n<style scoped>\n    .dataframe tbody tr th:only-of-type {\n        vertical-align: middle;\n    }\n\n    .dataframe tbody tr th {\n        vertical-align: top;\n    }\n\n    .dataframe thead th {\n        text-align: right;\n    }\n</style>\n<table border=\"1\" class=\"dataframe\">\n  <thead>\n    <tr style=\"text-align: right;\">\n      <th></th>\n      <th>Date</th>\n      <th>Open</th>\n      <th>High</th>\n      <th>Low</th>\n      <th>Close</th>\n      <th>Adj Close</th>\n      <th>Volume</th>\n      <th>Symbol</th>\n    </tr>\n  </thead>\n  <tbody>\n    <tr>\n      <th>0</th>\n      <td>2021-09-16</td>\n      <td>15.230000</td>\n      <td>15.490000</td>\n      <td>15.170000</td>\n      <td>15.350000</td>\n      <td>14.993930</td>\n      <td>1589600</td>\n      <td>APLE</td>\n    </tr>\n    <tr>\n      <th>1</th>\n      <td>2021-09-17</td>\n      <td>15.460000</td>\n      <td>15.630000</td>\n      <td>15.320000</td>\n      <td>15.350000</td>\n      <td>14.993930</td>\n      <td>4391200</td>\n      <td>APLE</td>\n    </tr>\n    <tr>\n      <th>2</th>\n      <td>2021-09-20</td>\n      <td>14.990000</td>\n      <td>15.310000</td>\n      <td>14.889000</td>\n      <td>15.280000</td>\n      <td>14.925552</td>\n      <td>1778300</td>\n      <td>APLE</td>\n    </tr>\n    <tr>\n      <th>3</th>\n      <td>2021-09-21</td>\n      <td>15.440000</td>\n      <td>15.880000</td>\n      <td>15.350000</td>\n      <td>15.710000</td>\n      <td>15.345579</td>\n      <td>3653600</td>\n      <td>APLE</td>\n    </tr>\n    <tr>\n      <th>4</th>\n      <td>2021-09-22</td>\n      <td>15.870000</td>\n      <td>16.240000</td>\n      <td>15.835000</td>\n      <td>16.090000</td>\n      <td>15.716764</td>\n      <td>2922900</td>\n      <td>APLE</td>\n    </tr>\n    <tr>\n      <th>...</th>\n      <td>...</td>\n      <td>...</td>\n      <td>...</td>\n      <td>...</td>\n      <td>...</td>\n      <td>...</td>\n      <td>...</td>\n      <td>...</td>\n    </tr>\n    <tr>\n      <th>1255</th>\n      <td>2022-09-09</td>\n      <td>110.050003</td>\n      <td>112.000000</td>\n      <td>110.000000</td>\n      <td>111.779999</td>\n      <td>111.779999</td>\n      <td>21732900</td>\n      <td>GOOG</td>\n    </tr>\n    <tr>\n      <th>1256</th>\n      <td>2022-09-12</td>\n      <td>111.989998</td>\n      <td>112.639999</td>\n      <td>110.930000</td>\n      <td>111.870003</td>\n      <td>111.870003</td>\n      <td>19732900</td>\n      <td>GOOG</td>\n    </tr>\n    <tr>\n      <th>1257</th>\n      <td>2022-09-13</td>\n      <td>108.889999</td>\n      <td>109.370003</td>\n      <td>105.000000</td>\n      <td>105.309998</td>\n      <td>105.309998</td>\n      <td>33015000</td>\n      <td>GOOG</td>\n    </tr>\n    <tr>\n      <th>1258</th>\n      <td>2022-09-14</td>\n      <td>105.440002</td>\n      <td>106.099998</td>\n      <td>104.500000</td>\n      <td>105.870003</td>\n      <td>105.870003</td>\n      <td>22115800</td>\n      <td>GOOG</td>\n    </tr>\n    <tr>\n      <th>1259</th>\n      <td>2022-09-15</td>\n      <td>105.010002</td>\n      <td>106.209999</td>\n      <td>103.309998</td>\n      <td>103.900002</td>\n      <td>103.900002</td>\n      <td>26446800</td>\n      <td>GOOG</td>\n    </tr>\n  </tbody>\n</table>\n<p>1260 rows × 8 columns</p>\n</div>"
     },
     "execution_count": 19,
     "metadata": {},
     "output_type": "execute_result"
    }
   ],
   "source": [
    "df"
   ],
   "metadata": {
    "collapsed": false,
    "pycharm": {
     "name": "#%%\n"
    }
   }
  },
  {
   "cell_type": "markdown",
   "source": [
    "### Una descripcion de nuestro conjunto de datos"
   ],
   "metadata": {
    "collapsed": false,
    "pycharm": {
     "name": "#%% md\n"
    }
   }
  },
  {
   "cell_type": "code",
   "execution_count": 20,
   "outputs": [
    {
     "data": {
      "text/plain": "              Open         High          Low        Close    Adj Close  \\\ncount  1260.000000  1260.000000  1260.000000  1260.000000  1260.000000   \nmean    167.032039   170.098085   163.786183   166.867310   166.813955   \nstd     105.818931   108.062630   103.332473   105.656875   105.732929   \nmin      14.440000    14.710000    14.290000    14.440000    14.284519   \n25%     112.132750   114.000378   110.293873   112.148746   112.148746   \n50%     151.700752   154.014755   149.084999   151.167748   151.167748   \n75%     244.385834   250.106666   236.911666   242.066670   242.066670   \nmax     411.470001   414.496674   405.666656   409.970001   409.970001   \n\n             Volume  \ncount  1.260000e+03  \nmean   4.226506e+07  \nstd    3.581500e+07  \nmin    6.383000e+05  \n25%    1.685918e+07  \n50%    3.226500e+07  \n75%    6.464192e+07  \nmax    2.726620e+08  ",
      "text/html": "<div>\n<style scoped>\n    .dataframe tbody tr th:only-of-type {\n        vertical-align: middle;\n    }\n\n    .dataframe tbody tr th {\n        vertical-align: top;\n    }\n\n    .dataframe thead th {\n        text-align: right;\n    }\n</style>\n<table border=\"1\" class=\"dataframe\">\n  <thead>\n    <tr style=\"text-align: right;\">\n      <th></th>\n      <th>Open</th>\n      <th>High</th>\n      <th>Low</th>\n      <th>Close</th>\n      <th>Adj Close</th>\n      <th>Volume</th>\n    </tr>\n  </thead>\n  <tbody>\n    <tr>\n      <th>count</th>\n      <td>1260.000000</td>\n      <td>1260.000000</td>\n      <td>1260.000000</td>\n      <td>1260.000000</td>\n      <td>1260.000000</td>\n      <td>1.260000e+03</td>\n    </tr>\n    <tr>\n      <th>mean</th>\n      <td>167.032039</td>\n      <td>170.098085</td>\n      <td>163.786183</td>\n      <td>166.867310</td>\n      <td>166.813955</td>\n      <td>4.226506e+07</td>\n    </tr>\n    <tr>\n      <th>std</th>\n      <td>105.818931</td>\n      <td>108.062630</td>\n      <td>103.332473</td>\n      <td>105.656875</td>\n      <td>105.732929</td>\n      <td>3.581500e+07</td>\n    </tr>\n    <tr>\n      <th>min</th>\n      <td>14.440000</td>\n      <td>14.710000</td>\n      <td>14.290000</td>\n      <td>14.440000</td>\n      <td>14.284519</td>\n      <td>6.383000e+05</td>\n    </tr>\n    <tr>\n      <th>25%</th>\n      <td>112.132750</td>\n      <td>114.000378</td>\n      <td>110.293873</td>\n      <td>112.148746</td>\n      <td>112.148746</td>\n      <td>1.685918e+07</td>\n    </tr>\n    <tr>\n      <th>50%</th>\n      <td>151.700752</td>\n      <td>154.014755</td>\n      <td>149.084999</td>\n      <td>151.167748</td>\n      <td>151.167748</td>\n      <td>3.226500e+07</td>\n    </tr>\n    <tr>\n      <th>75%</th>\n      <td>244.385834</td>\n      <td>250.106666</td>\n      <td>236.911666</td>\n      <td>242.066670</td>\n      <td>242.066670</td>\n      <td>6.464192e+07</td>\n    </tr>\n    <tr>\n      <th>max</th>\n      <td>411.470001</td>\n      <td>414.496674</td>\n      <td>405.666656</td>\n      <td>409.970001</td>\n      <td>409.970001</td>\n      <td>2.726620e+08</td>\n    </tr>\n  </tbody>\n</table>\n</div>"
     },
     "execution_count": 20,
     "metadata": {},
     "output_type": "execute_result"
    }
   ],
   "source": [
    "df.describe()"
   ],
   "metadata": {
    "collapsed": false,
    "pycharm": {
     "name": "#%%\n"
    }
   }
  },
  {
   "cell_type": "markdown",
   "source": [
    "### Creamos la columna Volat para saber que tan volatil fue la accion en este dia"
   ],
   "metadata": {
    "collapsed": false,
    "pycharm": {
     "name": "#%% md\n"
    }
   }
  },
  {
   "cell_type": "code",
   "execution_count": 22,
   "outputs": [],
   "source": [
    "df['Volat'] = (df['High'] - df['Low']) / df['Open']"
   ],
   "metadata": {
    "collapsed": false,
    "pycharm": {
     "name": "#%%\n"
    }
   }
  },
  {
   "cell_type": "code",
   "execution_count": 23,
   "outputs": [
    {
     "data": {
      "text/plain": "            Date        Open        High         Low       Close   Adj Close  \\\n0     2021-09-16   15.230000   15.490000   15.170000   15.350000   14.993930   \n1     2021-09-17   15.460000   15.630000   15.320000   15.350000   14.993930   \n2     2021-09-20   14.990000   15.310000   14.889000   15.280000   14.925552   \n3     2021-09-21   15.440000   15.880000   15.350000   15.710000   15.345579   \n4     2021-09-22   15.870000   16.240000   15.835000   16.090000   15.716764   \n...          ...         ...         ...         ...         ...         ...   \n1255  2022-09-09  110.050003  112.000000  110.000000  111.779999  111.779999   \n1256  2022-09-12  111.989998  112.639999  110.930000  111.870003  111.870003   \n1257  2022-09-13  108.889999  109.370003  105.000000  105.309998  105.309998   \n1258  2022-09-14  105.440002  106.099998  104.500000  105.870003  105.870003   \n1259  2022-09-15  105.010002  106.209999  103.309998  103.900002  103.900002   \n\n        Volume Symbol     Volat  \n0      1589600   APLE  0.021011  \n1      4391200   APLE  0.020052  \n2      1778300   APLE  0.028085  \n3      3653600   APLE  0.034326  \n4      2922900   APLE  0.025520  \n...        ...    ...       ...  \n1255  21732900   GOOG  0.018174  \n1256  19732900   GOOG  0.015269  \n1257  33015000   GOOG  0.040132  \n1258  22115800   GOOG  0.015174  \n1259  26446800   GOOG  0.027616  \n\n[1260 rows x 9 columns]",
      "text/html": "<div>\n<style scoped>\n    .dataframe tbody tr th:only-of-type {\n        vertical-align: middle;\n    }\n\n    .dataframe tbody tr th {\n        vertical-align: top;\n    }\n\n    .dataframe thead th {\n        text-align: right;\n    }\n</style>\n<table border=\"1\" class=\"dataframe\">\n  <thead>\n    <tr style=\"text-align: right;\">\n      <th></th>\n      <th>Date</th>\n      <th>Open</th>\n      <th>High</th>\n      <th>Low</th>\n      <th>Close</th>\n      <th>Adj Close</th>\n      <th>Volume</th>\n      <th>Symbol</th>\n      <th>Volat</th>\n    </tr>\n  </thead>\n  <tbody>\n    <tr>\n      <th>0</th>\n      <td>2021-09-16</td>\n      <td>15.230000</td>\n      <td>15.490000</td>\n      <td>15.170000</td>\n      <td>15.350000</td>\n      <td>14.993930</td>\n      <td>1589600</td>\n      <td>APLE</td>\n      <td>0.021011</td>\n    </tr>\n    <tr>\n      <th>1</th>\n      <td>2021-09-17</td>\n      <td>15.460000</td>\n      <td>15.630000</td>\n      <td>15.320000</td>\n      <td>15.350000</td>\n      <td>14.993930</td>\n      <td>4391200</td>\n      <td>APLE</td>\n      <td>0.020052</td>\n    </tr>\n    <tr>\n      <th>2</th>\n      <td>2021-09-20</td>\n      <td>14.990000</td>\n      <td>15.310000</td>\n      <td>14.889000</td>\n      <td>15.280000</td>\n      <td>14.925552</td>\n      <td>1778300</td>\n      <td>APLE</td>\n      <td>0.028085</td>\n    </tr>\n    <tr>\n      <th>3</th>\n      <td>2021-09-21</td>\n      <td>15.440000</td>\n      <td>15.880000</td>\n      <td>15.350000</td>\n      <td>15.710000</td>\n      <td>15.345579</td>\n      <td>3653600</td>\n      <td>APLE</td>\n      <td>0.034326</td>\n    </tr>\n    <tr>\n      <th>4</th>\n      <td>2021-09-22</td>\n      <td>15.870000</td>\n      <td>16.240000</td>\n      <td>15.835000</td>\n      <td>16.090000</td>\n      <td>15.716764</td>\n      <td>2922900</td>\n      <td>APLE</td>\n      <td>0.025520</td>\n    </tr>\n    <tr>\n      <th>...</th>\n      <td>...</td>\n      <td>...</td>\n      <td>...</td>\n      <td>...</td>\n      <td>...</td>\n      <td>...</td>\n      <td>...</td>\n      <td>...</td>\n      <td>...</td>\n    </tr>\n    <tr>\n      <th>1255</th>\n      <td>2022-09-09</td>\n      <td>110.050003</td>\n      <td>112.000000</td>\n      <td>110.000000</td>\n      <td>111.779999</td>\n      <td>111.779999</td>\n      <td>21732900</td>\n      <td>GOOG</td>\n      <td>0.018174</td>\n    </tr>\n    <tr>\n      <th>1256</th>\n      <td>2022-09-12</td>\n      <td>111.989998</td>\n      <td>112.639999</td>\n      <td>110.930000</td>\n      <td>111.870003</td>\n      <td>111.870003</td>\n      <td>19732900</td>\n      <td>GOOG</td>\n      <td>0.015269</td>\n    </tr>\n    <tr>\n      <th>1257</th>\n      <td>2022-09-13</td>\n      <td>108.889999</td>\n      <td>109.370003</td>\n      <td>105.000000</td>\n      <td>105.309998</td>\n      <td>105.309998</td>\n      <td>33015000</td>\n      <td>GOOG</td>\n      <td>0.040132</td>\n    </tr>\n    <tr>\n      <th>1258</th>\n      <td>2022-09-14</td>\n      <td>105.440002</td>\n      <td>106.099998</td>\n      <td>104.500000</td>\n      <td>105.870003</td>\n      <td>105.870003</td>\n      <td>22115800</td>\n      <td>GOOG</td>\n      <td>0.015174</td>\n    </tr>\n    <tr>\n      <th>1259</th>\n      <td>2022-09-15</td>\n      <td>105.010002</td>\n      <td>106.209999</td>\n      <td>103.309998</td>\n      <td>103.900002</td>\n      <td>103.900002</td>\n      <td>26446800</td>\n      <td>GOOG</td>\n      <td>0.027616</td>\n    </tr>\n  </tbody>\n</table>\n<p>1260 rows × 9 columns</p>\n</div>"
     },
     "execution_count": 23,
     "metadata": {},
     "output_type": "execute_result"
    }
   ],
   "source": [
    "df"
   ],
   "metadata": {
    "collapsed": false,
    "pycharm": {
     "name": "#%%\n"
    }
   }
  },
  {
   "cell_type": "markdown",
   "source": [
    "### Creamos la columna return para identificar si se perdio o se gano"
   ],
   "metadata": {
    "collapsed": false,
    "pycharm": {
     "name": "#%% md\n"
    }
   }
  },
  {
   "cell_type": "code",
   "execution_count": 24,
   "outputs": [],
   "source": [
    "df['Return'] = (df['Close'] - df['Open']) - 1.0"
   ],
   "metadata": {
    "collapsed": false,
    "pycharm": {
     "name": "#%%\n"
    }
   }
  },
  {
   "cell_type": "code",
   "execution_count": 25,
   "outputs": [
    {
     "data": {
      "text/plain": "            Date        Open        High         Low       Close   Adj Close  \\\n0     2021-09-16   15.230000   15.490000   15.170000   15.350000   14.993930   \n1     2021-09-17   15.460000   15.630000   15.320000   15.350000   14.993930   \n2     2021-09-20   14.990000   15.310000   14.889000   15.280000   14.925552   \n3     2021-09-21   15.440000   15.880000   15.350000   15.710000   15.345579   \n4     2021-09-22   15.870000   16.240000   15.835000   16.090000   15.716764   \n...          ...         ...         ...         ...         ...         ...   \n1255  2022-09-09  110.050003  112.000000  110.000000  111.779999  111.779999   \n1256  2022-09-12  111.989998  112.639999  110.930000  111.870003  111.870003   \n1257  2022-09-13  108.889999  109.370003  105.000000  105.309998  105.309998   \n1258  2022-09-14  105.440002  106.099998  104.500000  105.870003  105.870003   \n1259  2022-09-15  105.010002  106.209999  103.309998  103.900002  103.900002   \n\n        Volume Symbol     Volat    Return  \n0      1589600   APLE  0.021011 -0.880000  \n1      4391200   APLE  0.020052 -1.110000  \n2      1778300   APLE  0.028085 -0.710000  \n3      3653600   APLE  0.034326 -0.730000  \n4      2922900   APLE  0.025520 -0.780000  \n...        ...    ...       ...       ...  \n1255  21732900   GOOG  0.018174  0.729996  \n1256  19732900   GOOG  0.015269 -1.119995  \n1257  33015000   GOOG  0.040132 -4.580001  \n1258  22115800   GOOG  0.015174 -0.569999  \n1259  26446800   GOOG  0.027616 -2.110000  \n\n[1260 rows x 10 columns]",
      "text/html": "<div>\n<style scoped>\n    .dataframe tbody tr th:only-of-type {\n        vertical-align: middle;\n    }\n\n    .dataframe tbody tr th {\n        vertical-align: top;\n    }\n\n    .dataframe thead th {\n        text-align: right;\n    }\n</style>\n<table border=\"1\" class=\"dataframe\">\n  <thead>\n    <tr style=\"text-align: right;\">\n      <th></th>\n      <th>Date</th>\n      <th>Open</th>\n      <th>High</th>\n      <th>Low</th>\n      <th>Close</th>\n      <th>Adj Close</th>\n      <th>Volume</th>\n      <th>Symbol</th>\n      <th>Volat</th>\n      <th>Return</th>\n    </tr>\n  </thead>\n  <tbody>\n    <tr>\n      <th>0</th>\n      <td>2021-09-16</td>\n      <td>15.230000</td>\n      <td>15.490000</td>\n      <td>15.170000</td>\n      <td>15.350000</td>\n      <td>14.993930</td>\n      <td>1589600</td>\n      <td>APLE</td>\n      <td>0.021011</td>\n      <td>-0.880000</td>\n    </tr>\n    <tr>\n      <th>1</th>\n      <td>2021-09-17</td>\n      <td>15.460000</td>\n      <td>15.630000</td>\n      <td>15.320000</td>\n      <td>15.350000</td>\n      <td>14.993930</td>\n      <td>4391200</td>\n      <td>APLE</td>\n      <td>0.020052</td>\n      <td>-1.110000</td>\n    </tr>\n    <tr>\n      <th>2</th>\n      <td>2021-09-20</td>\n      <td>14.990000</td>\n      <td>15.310000</td>\n      <td>14.889000</td>\n      <td>15.280000</td>\n      <td>14.925552</td>\n      <td>1778300</td>\n      <td>APLE</td>\n      <td>0.028085</td>\n      <td>-0.710000</td>\n    </tr>\n    <tr>\n      <th>3</th>\n      <td>2021-09-21</td>\n      <td>15.440000</td>\n      <td>15.880000</td>\n      <td>15.350000</td>\n      <td>15.710000</td>\n      <td>15.345579</td>\n      <td>3653600</td>\n      <td>APLE</td>\n      <td>0.034326</td>\n      <td>-0.730000</td>\n    </tr>\n    <tr>\n      <th>4</th>\n      <td>2021-09-22</td>\n      <td>15.870000</td>\n      <td>16.240000</td>\n      <td>15.835000</td>\n      <td>16.090000</td>\n      <td>15.716764</td>\n      <td>2922900</td>\n      <td>APLE</td>\n      <td>0.025520</td>\n      <td>-0.780000</td>\n    </tr>\n    <tr>\n      <th>...</th>\n      <td>...</td>\n      <td>...</td>\n      <td>...</td>\n      <td>...</td>\n      <td>...</td>\n      <td>...</td>\n      <td>...</td>\n      <td>...</td>\n      <td>...</td>\n      <td>...</td>\n    </tr>\n    <tr>\n      <th>1255</th>\n      <td>2022-09-09</td>\n      <td>110.050003</td>\n      <td>112.000000</td>\n      <td>110.000000</td>\n      <td>111.779999</td>\n      <td>111.779999</td>\n      <td>21732900</td>\n      <td>GOOG</td>\n      <td>0.018174</td>\n      <td>0.729996</td>\n    </tr>\n    <tr>\n      <th>1256</th>\n      <td>2022-09-12</td>\n      <td>111.989998</td>\n      <td>112.639999</td>\n      <td>110.930000</td>\n      <td>111.870003</td>\n      <td>111.870003</td>\n      <td>19732900</td>\n      <td>GOOG</td>\n      <td>0.015269</td>\n      <td>-1.119995</td>\n    </tr>\n    <tr>\n      <th>1257</th>\n      <td>2022-09-13</td>\n      <td>108.889999</td>\n      <td>109.370003</td>\n      <td>105.000000</td>\n      <td>105.309998</td>\n      <td>105.309998</td>\n      <td>33015000</td>\n      <td>GOOG</td>\n      <td>0.040132</td>\n      <td>-4.580001</td>\n    </tr>\n    <tr>\n      <th>1258</th>\n      <td>2022-09-14</td>\n      <td>105.440002</td>\n      <td>106.099998</td>\n      <td>104.500000</td>\n      <td>105.870003</td>\n      <td>105.870003</td>\n      <td>22115800</td>\n      <td>GOOG</td>\n      <td>0.015174</td>\n      <td>-0.569999</td>\n    </tr>\n    <tr>\n      <th>1259</th>\n      <td>2022-09-15</td>\n      <td>105.010002</td>\n      <td>106.209999</td>\n      <td>103.309998</td>\n      <td>103.900002</td>\n      <td>103.900002</td>\n      <td>26446800</td>\n      <td>GOOG</td>\n      <td>0.027616</td>\n      <td>-2.110000</td>\n    </tr>\n  </tbody>\n</table>\n<p>1260 rows × 10 columns</p>\n</div>"
     },
     "execution_count": 25,
     "metadata": {},
     "output_type": "execute_result"
    }
   ],
   "source": [
    "df"
   ],
   "metadata": {
    "collapsed": false,
    "pycharm": {
     "name": "#%%\n"
    }
   }
  },
  {
   "cell_type": "code",
   "execution_count": null,
   "outputs": [],
   "source": [],
   "metadata": {
    "collapsed": false,
    "pycharm": {
     "name": "#%%\n"
    }
   }
  }
 ],
 "metadata": {
  "kernelspec": {
   "display_name": "Python 3",
   "language": "python",
   "name": "python3"
  },
  "language_info": {
   "codemirror_mode": {
    "name": "ipython",
    "version": 2
   },
   "file_extension": ".py",
   "mimetype": "text/x-python",
   "name": "python",
   "nbconvert_exporter": "python",
   "pygments_lexer": "ipython2",
   "version": "2.7.6"
  }
 },
 "nbformat": 4,
 "nbformat_minor": 0
}
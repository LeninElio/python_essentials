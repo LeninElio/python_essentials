{
 "cells": [
  {
   "cell_type": "code",
   "execution_count": 56,
   "metadata": {
    "collapsed": true,
    "pycharm": {
     "name": "#%%\n"
    }
   },
   "outputs": [],
   "source": [
    "import requests\n",
    "from bs4 import BeautifulSoup\n",
    "from lxml import etree\n",
    "import pandas as pd"
   ]
  },
  {
   "cell_type": "code",
   "execution_count": 57,
   "outputs": [],
   "source": [
    "url = requests.get('https://listado.mercadolibre.com.pe/televisor-32-pulgadas')"
   ],
   "metadata": {
    "collapsed": false,
    "pycharm": {
     "name": "#%%\n"
    }
   }
  },
  {
   "cell_type": "code",
   "execution_count": 58,
   "outputs": [
    {
     "data": {
      "text/plain": "200"
     },
     "execution_count": 58,
     "metadata": {},
     "output_type": "execute_result"
    }
   ],
   "source": [
    "url.status_code"
   ],
   "metadata": {
    "collapsed": false,
    "pycharm": {
     "name": "#%%\n"
    }
   }
  },
  {
   "cell_type": "code",
   "execution_count": 59,
   "outputs": [],
   "source": [
    "soup = BeautifulSoup(url.content, 'html.parser')"
   ],
   "metadata": {
    "collapsed": false,
    "pycharm": {
     "name": "#%%\n"
    }
   }
  },
  {
   "cell_type": "code",
   "execution_count": 5,
   "outputs": [],
   "source": [
    "# //h2[@class=\"ui-search-item__title\"] -- esto encuentra los titulo\n",
    "# //li[@class=\"ui-search-layout__item\"] --\n",
    "# //a[@class='ui-search-item__group__element shops-custom-secondary-font ui-search-link']\n",
    "# //li[@class='ui-search-layout__item']//div[@class='ui-search-result__content-columns shops__content-columns']//div[1]//div[1]//div[1]//div[1]//div[1]//span[1]//span[@class='price-tag-text-sr-only']"
   ],
   "metadata": {
    "collapsed": false,
    "pycharm": {
     "name": "#%%\n"
    }
   }
  },
  {
   "cell_type": "code",
   "execution_count": 60,
   "outputs": [],
   "source": [
    "titulo = soup.find_all('h2', attrs={'class': 'ui-search-item__title'})\n",
    "urls = soup.find_all('a', attrs={'class': 'ui-search-item__group__element shops-custom-secondary-font ui-search-link'})"
   ],
   "metadata": {
    "collapsed": false,
    "pycharm": {
     "name": "#%%\n"
    }
   }
  },
  {
   "cell_type": "code",
   "execution_count": 61,
   "outputs": [
    {
     "data": {
      "text/plain": "'https://articulo.mercadolibre.com.pe/MPE-604485679-tv-hyundai-32-led-hd-smart-tv-hyled3248aim-_JM#position=1&search_layout=stack&type=item&tracking_id=fece3dfd-651d-4d2d-9dbc-51dcd8621d92'"
     },
     "execution_count": 61,
     "metadata": {},
     "output_type": "execute_result"
    }
   ],
   "source": [
    "# titulo[9].text\n",
    "# urls\n",
    "urls[0].get('href')"
   ],
   "metadata": {
    "collapsed": false,
    "pycharm": {
     "name": "#%%\n"
    }
   }
  },
  {
   "cell_type": "code",
   "execution_count": 63,
   "outputs": [],
   "source": [
    "titulo = [i.text for i in titulo]\n",
    "urls = [i.get('href') for i in urls]"
   ],
   "metadata": {
    "collapsed": false,
    "pycharm": {
     "name": "#%%\n"
    }
   }
  },
  {
   "cell_type": "code",
   "execution_count": 64,
   "outputs": [
    {
     "data": {
      "text/plain": "['Tv Hyundai 32  Led Hd Smart Tv Hyled3248aim',\n 'Tv Hyundai 32  Led Hd Smart Tv Hyled3248aim',\n 'Televisor Xiaomi 32  Hd P1 L32m6 Mtk',\n 'Tv 32 Jvc Smart Tv Digital Wifi Led Nuevo Modelo ',\n 'Xiaomi Mi Led Tv 4a 32 Pulgadas Versión Europea',\n 'Tv LG 32 Hdr Smart Wifi Nuevo Modelo Sellados ',\n 'Control Remoto Aoc Led Original (nuevo)',\n 'Tv Led A4h 32 Hd Smart Hisense',\n 'Tv LG 32 Smart 2k 2019 Ips Bluetooth Webos 4.5 Wifi Netflix ',\n 'Tv 32 Samsung Smart Wifi Modelo Nuevo Sellados ',\n 'Televisor 32 Pulgadas Smart Android Tv Nuevo Sellado Garanti',\n 'Televisor Smart Tv Hd Philips 32 32phd6825  Negro',\n 'Televisor Xiaomi Mi Led Tv 4a 32 Smart Hd Android Tv',\n 'Tv Led Smart 32 Nuevo Modelo Sellados ',\n 'Televisor Xiaomi 32  Hd P1 L32m6 Mtk',\n 'Aiwa 32  Android Tv Hd Smart',\n 'Televisor Led Samsung Smart Tv Hd 32  Un32t4300 Nuevo',\n 'Tv Hyundai Hyled3236d Hd Led 32',\n 'Televisor Led Jvc Smart Tv Webos De 32  Lt-32kb116 Nuevo',\n 'Televisor Jvc 32 Led Smart Tv Lt-32kb208  Negro',\n 'Tv Led A4h 32 Hd Smart Hisense',\n 'Televisor Winia Smart Tv 32 L32v750basw  Negro',\n 'Televisor LG Hd 32  Smart Thinq Ai 32lq630bpsa (2022)',\n \"Televisor Aoc 32' Led Smart Tv Hd Roku 32s5195\",\n 'Televisor Led 32 Hd Android Smart Tv Hisense 32e5610',\n 'Televisor LG Pantalla Plana',\n 'Sony Tv Led Smart Con Wi-fi 32w605d',\n 'Televisor LG 32 Smart Tv 32lm637bpsb  Negro',\n 'LG 32 Tv 2019 Hdr10 Pro Control Magic Thinq Ia Bluetooth',\n 'Rack Televisor De Pared ,soporte De Pared Para Tv , Tv37',\n 'Samsung Qn32q50rafxza Flat 32  Qled 4k Serie Smart Tv 32q50',\n 'Tv Led Samsung 65 Smart Ultra 4k Un65au7090g  -  Negro ',\n 'Televisor Imperial Smart Tv 32 32ln4100s  Negro',\n 'Aiwa 32  Android Tv Hd Smart',\n \"Miray Tv 32' Led Señal Digital Hd\",\n 'Smart Tv 32  Dled Hd Hx32ao6k Wolff Nuevo',\n 'Androidtv 32  Jvc',\n 'Televisor Led Bgh 32  Hd Smart Tv B3219k5ip Nuevo-garantía ',\n \"Tv Smart De 32''  S/digital + Bluetooth\",\n \"Nuevo Samsung Led Tv 32''\",\n 'Tv Lcd 32  Continental',\n 'Televisor Smart Tv 32 4k',\n 'Televisor Smart Recco 32  Android Hd Rled-l32d1200a ',\n 'Tv 32  Haier Led Hd Smart L981.576.524dg',\n 'Televisor Led Bgh 32  Hd Smart Tv B3219k5ip Nuevo +rack ',\n 'Tv Smart LG 32 ',\n 'Televisor Led Hd Advance De 32 Pulgadas De Oferta Garantia',\n 'Televisor Winia L32v750basw Led Smart Tv  Hd 32  ',\n 'Televisor Hyundai 32 Led Digital Hd Smart Android Tv Hyled32',\n 'Motorola Smart Tv Hd 32 Pulgadas + Tiendas Fisicas']"
     },
     "execution_count": 64,
     "metadata": {},
     "output_type": "execute_result"
    }
   ],
   "source": [
    "titulo"
   ],
   "metadata": {
    "collapsed": false,
    "pycharm": {
     "name": "#%%\n"
    }
   }
  },
  {
   "cell_type": "code",
   "execution_count": 65,
   "outputs": [],
   "source": [
    "# titulo\n",
    "# urls\n",
    "precio = \"//li[@class='ui-search-layout__item']//div[@class='ui-search-result__content-columns shops__content-columns']//div[1]//div[1]//div[1]//div[1]//div[1]//span[1]//span[@class='price-tag-amount']//span[2]\"\n",
    "dom = etree.HTML(str(soup))\n",
    "precios = dom.xpath(precio)"
   ],
   "metadata": {
    "collapsed": false,
    "pycharm": {
     "name": "#%%\n"
    }
   }
  },
  {
   "cell_type": "code",
   "execution_count": 66,
   "outputs": [
    {
     "data": {
      "text/plain": "'599'"
     },
     "execution_count": 66,
     "metadata": {},
     "output_type": "execute_result"
    }
   ],
   "source": [
    "precios[0].text"
   ],
   "metadata": {
    "collapsed": false,
    "pycharm": {
     "name": "#%%\n"
    }
   }
  },
  {
   "cell_type": "code",
   "execution_count": 67,
   "outputs": [],
   "source": [
    "precios = [i.text for i in precios]"
   ],
   "metadata": {
    "collapsed": false,
    "pycharm": {
     "name": "#%%\n"
    }
   }
  },
  {
   "cell_type": "code",
   "execution_count": 68,
   "outputs": [],
   "source": [
    "df = pd.DataFrame({'Titulos': titulo, 'Enlaces': urls, 'Precio': precios})"
   ],
   "metadata": {
    "collapsed": false,
    "pycharm": {
     "name": "#%%\n"
    }
   }
  },
  {
   "cell_type": "code",
   "execution_count": 69,
   "outputs": [
    {
     "data": {
      "text/plain": "                                              Titulos  \\\n0         Tv Hyundai 32  Led Hd Smart Tv Hyled3248aim   \n1         Tv Hyundai 32  Led Hd Smart Tv Hyled3248aim   \n2                Televisor Xiaomi 32  Hd P1 L32m6 Mtk   \n3   Tv 32 Jvc Smart Tv Digital Wifi Led Nuevo Modelo    \n4     Xiaomi Mi Led Tv 4a 32 Pulgadas Versión Europea   \n5      Tv LG 32 Hdr Smart Wifi Nuevo Modelo Sellados    \n6             Control Remoto Aoc Led Original (nuevo)   \n7                      Tv Led A4h 32 Hd Smart Hisense   \n8   Tv LG 32 Smart 2k 2019 Ips Bluetooth Webos 4.5...   \n9     Tv 32 Samsung Smart Wifi Modelo Nuevo Sellados    \n10  Televisor 32 Pulgadas Smart Android Tv Nuevo S...   \n11  Televisor Smart Tv Hd Philips 32 32phd6825  Negro   \n12  Televisor Xiaomi Mi Led Tv 4a 32 Smart Hd Andr...   \n13             Tv Led Smart 32 Nuevo Modelo Sellados    \n14               Televisor Xiaomi 32  Hd P1 L32m6 Mtk   \n15                       Aiwa 32  Android Tv Hd Smart   \n16  Televisor Led Samsung Smart Tv Hd 32  Un32t430...   \n17                    Tv Hyundai Hyled3236d Hd Led 32   \n18  Televisor Led Jvc Smart Tv Webos De 32  Lt-32k...   \n19    Televisor Jvc 32 Led Smart Tv Lt-32kb208  Negro   \n20                     Tv Led A4h 32 Hd Smart Hisense   \n21     Televisor Winia Smart Tv 32 L32v750basw  Negro   \n22  Televisor LG Hd 32  Smart Thinq Ai 32lq630bpsa...   \n23     Televisor Aoc 32' Led Smart Tv Hd Roku 32s5195   \n24  Televisor Led 32 Hd Android Smart Tv Hisense 3...   \n25                        Televisor LG Pantalla Plana   \n26                Sony Tv Led Smart Con Wi-fi 32w605d   \n27        Televisor LG 32 Smart Tv 32lm637bpsb  Negro   \n28  LG 32 Tv 2019 Hdr10 Pro Control Magic Thinq Ia...   \n29  Rack Televisor De Pared ,soporte De Pared Para...   \n30  Samsung Qn32q50rafxza Flat 32  Qled 4k Serie S...   \n31  Tv Led Samsung 65 Smart Ultra 4k Un65au7090g  ...   \n32    Televisor Imperial Smart Tv 32 32ln4100s  Negro   \n33                       Aiwa 32  Android Tv Hd Smart   \n34                  Miray Tv 32' Led Señal Digital Hd   \n35          Smart Tv 32  Dled Hd Hx32ao6k Wolff Nuevo   \n36                                  Androidtv 32  Jvc   \n37  Televisor Led Bgh 32  Hd Smart Tv B3219k5ip Nu...   \n38            Tv Smart De 32''  S/digital + Bluetooth   \n39                          Nuevo Samsung Led Tv 32''   \n40                             Tv Lcd 32  Continental   \n41                           Televisor Smart Tv 32 4k   \n42  Televisor Smart Recco 32  Android Hd Rled-l32d...   \n43           Tv 32  Haier Led Hd Smart L981.576.524dg   \n44  Televisor Led Bgh 32  Hd Smart Tv B3219k5ip Nu...   \n45                                    Tv Smart LG 32    \n46  Televisor Led Hd Advance De 32 Pulgadas De Ofe...   \n47  Televisor Winia L32v750basw Led Smart Tv  Hd 32     \n48  Televisor Hyundai 32 Led Digital Hd Smart Andr...   \n49  Motorola Smart Tv Hd 32 Pulgadas + Tiendas Fis...   \n\n                                              Enlaces Precio  \n0   https://articulo.mercadolibre.com.pe/MPE-60448...    599  \n1   https://articulo.mercadolibre.com.pe/MPE-60447...    599  \n2   https://articulo.mercadolibre.com.pe/MPE-60935...    699  \n3   https://articulo.mercadolibre.com.pe/MPE-43589...    799  \n4   https://articulo.mercadolibre.com.pe/MPE-44135...    729  \n5   https://articulo.mercadolibre.com.pe/MPE-43205...  1.099  \n6   https://articulo.mercadolibre.com.pe/MPE-43344...     22  \n7   https://articulo.mercadolibre.com.pe/MPE-61453...    699  \n8   https://articulo.mercadolibre.com.pe/MPE-43686...  1.099  \n9   https://articulo.mercadolibre.com.pe/MPE-43219...    999  \n10  https://articulo.mercadolibre.com.pe/MPE-44639...    869  \n11  https://articulo.mercadolibre.com.pe/MPE-61305...    799  \n12  https://articulo.mercadolibre.com.pe/MPE-61464...    989  \n13  https://articulo.mercadolibre.com.pe/MPE-43250...    650  \n14  https://articulo.mercadolibre.com.pe/MPE-60935...    699  \n15  https://articulo.mercadolibre.com.pe/MPE-61460...    649  \n16  https://articulo.mercadolibre.com.pe/MPE-60847...  1.159  \n17  https://articulo.mercadolibre.com.pe/MPE-44050...    999  \n18  https://articulo.mercadolibre.com.pe/MPE-60830...    797  \n19  https://articulo.mercadolibre.com.pe/MPE-60291...    899  \n20  https://articulo.mercadolibre.com.pe/MPE-61452...    699  \n21  https://articulo.mercadolibre.com.pe/MPE-60682...    899  \n22  https://articulo.mercadolibre.com.pe/MPE-61460...  1.039  \n23  https://articulo.mercadolibre.com.pe/MPE-61015...    579  \n24  https://articulo.mercadolibre.com.pe/MPE-61624...    649  \n25  https://articulo.mercadolibre.com.pe/MPE-43335...    250  \n26  https://articulo.mercadolibre.com.pe/MPE-61038...    899  \n27  https://articulo.mercadolibre.com.pe/MPE-61541...  1.159  \n28  https://articulo.mercadolibre.com.pe/MPE-43820...  1.199  \n29  https://articulo.mercadolibre.com.pe/MPE-41984...    158  \n30  https://articulo.mercadolibre.com.pe/MPE-44227...  1.500  \n31  https://articulo.mercadolibre.com.pe/MPE-61342...  2.339  \n32  https://articulo.mercadolibre.com.pe/MPE-60672...    749  \n33  https://articulo.mercadolibre.com.pe/MPE-61459...    649  \n34  https://articulo.mercadolibre.com.pe/MPE-41927...    550  \n35  https://articulo.mercadolibre.com.pe/MPE-61524...    699  \n36  https://articulo.mercadolibre.com.pe/MPE-44194...    900  \n37  https://articulo.mercadolibre.com.pe/MPE-60838...    797  \n38  https://articulo.mercadolibre.com.pe/MPE-61416...    599  \n39  https://articulo.mercadolibre.com.pe/MPE-44060...  1.055  \n40  https://articulo.mercadolibre.com.pe/MPE-43959...    350  \n41  https://articulo.mercadolibre.com.pe/MPE-60010...    899  \n42  https://articulo.mercadolibre.com.pe/MPE-60136...    849  \n43  https://articulo.mercadolibre.com.pe/MPE-60213...    700  \n44  https://articulo.mercadolibre.com.pe/MPE-60841...    829  \n45  https://articulo.mercadolibre.com.pe/MPE-44790...    980  \n46  https://articulo.mercadolibre.com.pe/MPE-43023...    750  \n47  https://articulo.mercadolibre.com.pe/MPE-61501...    668  \n48  https://articulo.mercadolibre.com.pe/MPE-61530...    620  \n49  https://articulo.mercadolibre.com.pe/MPE-61436...    649  ",
      "text/html": "<div>\n<style scoped>\n    .dataframe tbody tr th:only-of-type {\n        vertical-align: middle;\n    }\n\n    .dataframe tbody tr th {\n        vertical-align: top;\n    }\n\n    .dataframe thead th {\n        text-align: right;\n    }\n</style>\n<table border=\"1\" class=\"dataframe\">\n  <thead>\n    <tr style=\"text-align: right;\">\n      <th></th>\n      <th>Titulos</th>\n      <th>Enlaces</th>\n      <th>Precio</th>\n    </tr>\n  </thead>\n  <tbody>\n    <tr>\n      <th>0</th>\n      <td>Tv Hyundai 32  Led Hd Smart Tv Hyled3248aim</td>\n      <td>https://articulo.mercadolibre.com.pe/MPE-60448...</td>\n      <td>599</td>\n    </tr>\n    <tr>\n      <th>1</th>\n      <td>Tv Hyundai 32  Led Hd Smart Tv Hyled3248aim</td>\n      <td>https://articulo.mercadolibre.com.pe/MPE-60447...</td>\n      <td>599</td>\n    </tr>\n    <tr>\n      <th>2</th>\n      <td>Televisor Xiaomi 32  Hd P1 L32m6 Mtk</td>\n      <td>https://articulo.mercadolibre.com.pe/MPE-60935...</td>\n      <td>699</td>\n    </tr>\n    <tr>\n      <th>3</th>\n      <td>Tv 32 Jvc Smart Tv Digital Wifi Led Nuevo Modelo</td>\n      <td>https://articulo.mercadolibre.com.pe/MPE-43589...</td>\n      <td>799</td>\n    </tr>\n    <tr>\n      <th>4</th>\n      <td>Xiaomi Mi Led Tv 4a 32 Pulgadas Versión Europea</td>\n      <td>https://articulo.mercadolibre.com.pe/MPE-44135...</td>\n      <td>729</td>\n    </tr>\n    <tr>\n      <th>5</th>\n      <td>Tv LG 32 Hdr Smart Wifi Nuevo Modelo Sellados</td>\n      <td>https://articulo.mercadolibre.com.pe/MPE-43205...</td>\n      <td>1.099</td>\n    </tr>\n    <tr>\n      <th>6</th>\n      <td>Control Remoto Aoc Led Original (nuevo)</td>\n      <td>https://articulo.mercadolibre.com.pe/MPE-43344...</td>\n      <td>22</td>\n    </tr>\n    <tr>\n      <th>7</th>\n      <td>Tv Led A4h 32 Hd Smart Hisense</td>\n      <td>https://articulo.mercadolibre.com.pe/MPE-61453...</td>\n      <td>699</td>\n    </tr>\n    <tr>\n      <th>8</th>\n      <td>Tv LG 32 Smart 2k 2019 Ips Bluetooth Webos 4.5...</td>\n      <td>https://articulo.mercadolibre.com.pe/MPE-43686...</td>\n      <td>1.099</td>\n    </tr>\n    <tr>\n      <th>9</th>\n      <td>Tv 32 Samsung Smart Wifi Modelo Nuevo Sellados</td>\n      <td>https://articulo.mercadolibre.com.pe/MPE-43219...</td>\n      <td>999</td>\n    </tr>\n    <tr>\n      <th>10</th>\n      <td>Televisor 32 Pulgadas Smart Android Tv Nuevo S...</td>\n      <td>https://articulo.mercadolibre.com.pe/MPE-44639...</td>\n      <td>869</td>\n    </tr>\n    <tr>\n      <th>11</th>\n      <td>Televisor Smart Tv Hd Philips 32 32phd6825  Negro</td>\n      <td>https://articulo.mercadolibre.com.pe/MPE-61305...</td>\n      <td>799</td>\n    </tr>\n    <tr>\n      <th>12</th>\n      <td>Televisor Xiaomi Mi Led Tv 4a 32 Smart Hd Andr...</td>\n      <td>https://articulo.mercadolibre.com.pe/MPE-61464...</td>\n      <td>989</td>\n    </tr>\n    <tr>\n      <th>13</th>\n      <td>Tv Led Smart 32 Nuevo Modelo Sellados</td>\n      <td>https://articulo.mercadolibre.com.pe/MPE-43250...</td>\n      <td>650</td>\n    </tr>\n    <tr>\n      <th>14</th>\n      <td>Televisor Xiaomi 32  Hd P1 L32m6 Mtk</td>\n      <td>https://articulo.mercadolibre.com.pe/MPE-60935...</td>\n      <td>699</td>\n    </tr>\n    <tr>\n      <th>15</th>\n      <td>Aiwa 32  Android Tv Hd Smart</td>\n      <td>https://articulo.mercadolibre.com.pe/MPE-61460...</td>\n      <td>649</td>\n    </tr>\n    <tr>\n      <th>16</th>\n      <td>Televisor Led Samsung Smart Tv Hd 32  Un32t430...</td>\n      <td>https://articulo.mercadolibre.com.pe/MPE-60847...</td>\n      <td>1.159</td>\n    </tr>\n    <tr>\n      <th>17</th>\n      <td>Tv Hyundai Hyled3236d Hd Led 32</td>\n      <td>https://articulo.mercadolibre.com.pe/MPE-44050...</td>\n      <td>999</td>\n    </tr>\n    <tr>\n      <th>18</th>\n      <td>Televisor Led Jvc Smart Tv Webos De 32  Lt-32k...</td>\n      <td>https://articulo.mercadolibre.com.pe/MPE-60830...</td>\n      <td>797</td>\n    </tr>\n    <tr>\n      <th>19</th>\n      <td>Televisor Jvc 32 Led Smart Tv Lt-32kb208  Negro</td>\n      <td>https://articulo.mercadolibre.com.pe/MPE-60291...</td>\n      <td>899</td>\n    </tr>\n    <tr>\n      <th>20</th>\n      <td>Tv Led A4h 32 Hd Smart Hisense</td>\n      <td>https://articulo.mercadolibre.com.pe/MPE-61452...</td>\n      <td>699</td>\n    </tr>\n    <tr>\n      <th>21</th>\n      <td>Televisor Winia Smart Tv 32 L32v750basw  Negro</td>\n      <td>https://articulo.mercadolibre.com.pe/MPE-60682...</td>\n      <td>899</td>\n    </tr>\n    <tr>\n      <th>22</th>\n      <td>Televisor LG Hd 32  Smart Thinq Ai 32lq630bpsa...</td>\n      <td>https://articulo.mercadolibre.com.pe/MPE-61460...</td>\n      <td>1.039</td>\n    </tr>\n    <tr>\n      <th>23</th>\n      <td>Televisor Aoc 32' Led Smart Tv Hd Roku 32s5195</td>\n      <td>https://articulo.mercadolibre.com.pe/MPE-61015...</td>\n      <td>579</td>\n    </tr>\n    <tr>\n      <th>24</th>\n      <td>Televisor Led 32 Hd Android Smart Tv Hisense 3...</td>\n      <td>https://articulo.mercadolibre.com.pe/MPE-61624...</td>\n      <td>649</td>\n    </tr>\n    <tr>\n      <th>25</th>\n      <td>Televisor LG Pantalla Plana</td>\n      <td>https://articulo.mercadolibre.com.pe/MPE-43335...</td>\n      <td>250</td>\n    </tr>\n    <tr>\n      <th>26</th>\n      <td>Sony Tv Led Smart Con Wi-fi 32w605d</td>\n      <td>https://articulo.mercadolibre.com.pe/MPE-61038...</td>\n      <td>899</td>\n    </tr>\n    <tr>\n      <th>27</th>\n      <td>Televisor LG 32 Smart Tv 32lm637bpsb  Negro</td>\n      <td>https://articulo.mercadolibre.com.pe/MPE-61541...</td>\n      <td>1.159</td>\n    </tr>\n    <tr>\n      <th>28</th>\n      <td>LG 32 Tv 2019 Hdr10 Pro Control Magic Thinq Ia...</td>\n      <td>https://articulo.mercadolibre.com.pe/MPE-43820...</td>\n      <td>1.199</td>\n    </tr>\n    <tr>\n      <th>29</th>\n      <td>Rack Televisor De Pared ,soporte De Pared Para...</td>\n      <td>https://articulo.mercadolibre.com.pe/MPE-41984...</td>\n      <td>158</td>\n    </tr>\n    <tr>\n      <th>30</th>\n      <td>Samsung Qn32q50rafxza Flat 32  Qled 4k Serie S...</td>\n      <td>https://articulo.mercadolibre.com.pe/MPE-44227...</td>\n      <td>1.500</td>\n    </tr>\n    <tr>\n      <th>31</th>\n      <td>Tv Led Samsung 65 Smart Ultra 4k Un65au7090g  ...</td>\n      <td>https://articulo.mercadolibre.com.pe/MPE-61342...</td>\n      <td>2.339</td>\n    </tr>\n    <tr>\n      <th>32</th>\n      <td>Televisor Imperial Smart Tv 32 32ln4100s  Negro</td>\n      <td>https://articulo.mercadolibre.com.pe/MPE-60672...</td>\n      <td>749</td>\n    </tr>\n    <tr>\n      <th>33</th>\n      <td>Aiwa 32  Android Tv Hd Smart</td>\n      <td>https://articulo.mercadolibre.com.pe/MPE-61459...</td>\n      <td>649</td>\n    </tr>\n    <tr>\n      <th>34</th>\n      <td>Miray Tv 32' Led Señal Digital Hd</td>\n      <td>https://articulo.mercadolibre.com.pe/MPE-41927...</td>\n      <td>550</td>\n    </tr>\n    <tr>\n      <th>35</th>\n      <td>Smart Tv 32  Dled Hd Hx32ao6k Wolff Nuevo</td>\n      <td>https://articulo.mercadolibre.com.pe/MPE-61524...</td>\n      <td>699</td>\n    </tr>\n    <tr>\n      <th>36</th>\n      <td>Androidtv 32  Jvc</td>\n      <td>https://articulo.mercadolibre.com.pe/MPE-44194...</td>\n      <td>900</td>\n    </tr>\n    <tr>\n      <th>37</th>\n      <td>Televisor Led Bgh 32  Hd Smart Tv B3219k5ip Nu...</td>\n      <td>https://articulo.mercadolibre.com.pe/MPE-60838...</td>\n      <td>797</td>\n    </tr>\n    <tr>\n      <th>38</th>\n      <td>Tv Smart De 32''  S/digital + Bluetooth</td>\n      <td>https://articulo.mercadolibre.com.pe/MPE-61416...</td>\n      <td>599</td>\n    </tr>\n    <tr>\n      <th>39</th>\n      <td>Nuevo Samsung Led Tv 32''</td>\n      <td>https://articulo.mercadolibre.com.pe/MPE-44060...</td>\n      <td>1.055</td>\n    </tr>\n    <tr>\n      <th>40</th>\n      <td>Tv Lcd 32  Continental</td>\n      <td>https://articulo.mercadolibre.com.pe/MPE-43959...</td>\n      <td>350</td>\n    </tr>\n    <tr>\n      <th>41</th>\n      <td>Televisor Smart Tv 32 4k</td>\n      <td>https://articulo.mercadolibre.com.pe/MPE-60010...</td>\n      <td>899</td>\n    </tr>\n    <tr>\n      <th>42</th>\n      <td>Televisor Smart Recco 32  Android Hd Rled-l32d...</td>\n      <td>https://articulo.mercadolibre.com.pe/MPE-60136...</td>\n      <td>849</td>\n    </tr>\n    <tr>\n      <th>43</th>\n      <td>Tv 32  Haier Led Hd Smart L981.576.524dg</td>\n      <td>https://articulo.mercadolibre.com.pe/MPE-60213...</td>\n      <td>700</td>\n    </tr>\n    <tr>\n      <th>44</th>\n      <td>Televisor Led Bgh 32  Hd Smart Tv B3219k5ip Nu...</td>\n      <td>https://articulo.mercadolibre.com.pe/MPE-60841...</td>\n      <td>829</td>\n    </tr>\n    <tr>\n      <th>45</th>\n      <td>Tv Smart LG 32</td>\n      <td>https://articulo.mercadolibre.com.pe/MPE-44790...</td>\n      <td>980</td>\n    </tr>\n    <tr>\n      <th>46</th>\n      <td>Televisor Led Hd Advance De 32 Pulgadas De Ofe...</td>\n      <td>https://articulo.mercadolibre.com.pe/MPE-43023...</td>\n      <td>750</td>\n    </tr>\n    <tr>\n      <th>47</th>\n      <td>Televisor Winia L32v750basw Led Smart Tv  Hd 32</td>\n      <td>https://articulo.mercadolibre.com.pe/MPE-61501...</td>\n      <td>668</td>\n    </tr>\n    <tr>\n      <th>48</th>\n      <td>Televisor Hyundai 32 Led Digital Hd Smart Andr...</td>\n      <td>https://articulo.mercadolibre.com.pe/MPE-61530...</td>\n      <td>620</td>\n    </tr>\n    <tr>\n      <th>49</th>\n      <td>Motorola Smart Tv Hd 32 Pulgadas + Tiendas Fis...</td>\n      <td>https://articulo.mercadolibre.com.pe/MPE-61436...</td>\n      <td>649</td>\n    </tr>\n  </tbody>\n</table>\n</div>"
     },
     "execution_count": 69,
     "metadata": {},
     "output_type": "execute_result"
    }
   ],
   "source": [
    "df"
   ],
   "metadata": {
    "collapsed": false,
    "pycharm": {
     "name": "#%%\n"
    }
   }
  },
  {
   "cell_type": "code",
   "execution_count": 14,
   "outputs": [],
   "source": [
    "df.to_csv('televisores_mercado_libre.csv')"
   ],
   "metadata": {
    "collapsed": false,
    "pycharm": {
     "name": "#%%\n"
    }
   }
  },
  {
   "cell_type": "code",
   "execution_count": 70,
   "outputs": [],
   "source": [
    "# //div[@class='ui-search-pagination']//li[contains(@class, '--next')]/a\n",
    "# //div[@class='ui-search-pagination']//li[3]/a\n",
    "siguiente = dom.xpath(\"//div[@class='ui-search-pagination']//li[3]/a\")[0].get('href')"
   ],
   "metadata": {
    "collapsed": false,
    "pycharm": {
     "name": "#%%\n"
    }
   }
  },
  {
   "cell_type": "code",
   "execution_count": 71,
   "outputs": [],
   "source": [
    "inicial = int(soup.find('span', attrs={'class': 'andes-pagination__link'}).get_text())"
   ],
   "metadata": {
    "collapsed": false,
    "pycharm": {
     "name": "#%%\n"
    }
   }
  },
  {
   "cell_type": "code",
   "execution_count": 72,
   "outputs": [],
   "source": [
    "cantidad = soup.find('li', attrs={'class': 'andes-pagination__page-count'}).get_text().split(' ')\n",
    "cantidad = int(cantidad[1])"
   ],
   "metadata": {
    "collapsed": false,
    "pycharm": {
     "name": "#%%\n"
    }
   }
  },
  {
   "cell_type": "markdown",
   "source": [
    "## Se recorrera con un while todas las paginas"
   ],
   "metadata": {
    "collapsed": false,
    "pycharm": {
     "name": "#%% md\n"
    }
   }
  },
  {
   "cell_type": "code",
   "execution_count": 73,
   "outputs": [
    {
     "data": {
      "text/plain": "'https://listado.mercadolibre.com.pe/electronica-audio-video/tvs/televisor-32-pulgadas_Desde_51_NoIndex_True'"
     },
     "execution_count": 73,
     "metadata": {},
     "output_type": "execute_result"
    }
   ],
   "source": [
    "siguiente"
   ],
   "metadata": {
    "collapsed": false,
    "pycharm": {
     "name": "#%%\n"
    }
   }
  },
  {
   "cell_type": "code",
   "execution_count": 74,
   "outputs": [],
   "source": [
    "lista_titulo = []\n",
    "lista_url = []\n",
    "lista_precios = []"
   ],
   "metadata": {
    "collapsed": false,
    "pycharm": {
     "name": "#%%\n"
    }
   }
  },
  {
   "cell_type": "code",
   "execution_count": 78,
   "outputs": [
    {
     "name": "stdout",
     "output_type": "stream",
     "text": [
      "Finalizado, se reviso 7 paginas ....\n"
     ]
    }
   ],
   "source": [
    "siguiente = 'https://listado.mercadolibre.com.pe/televisor-32-pulgadas'\n",
    "\n",
    "while True:\n",
    "    r = requests.get(siguiente)\n",
    "    if r.status_code == 200:\n",
    "        soup = BeautifulSoup(r.content, 'html.parser')\n",
    "        # definimos los Títulos\n",
    "        titulo = soup.find_all('h2', attrs={'class': 'ui-search-item__title'})\n",
    "        titulo = [i.text for i in titulo]\n",
    "        lista_titulo.extend(titulo)\n",
    "        # Traemos las URL\n",
    "        urls = soup.find_all('a', attrs={'class': 'ui-search-item__group__element shops-custom-secondary-font ui-search-link'})\n",
    "        urls = [i.get('href') for i in urls]\n",
    "        lista_url.extend(urls)\n",
    "        # Precios\n",
    "        precio = \"//li[@class='ui-search-layout__item']//div[@class='ui-search-result__content-columns shops__content-columns']//div[1]//div[1]//div[1]//div[1]//div[1]//span[1]//span[@class='price-tag-amount']//span[2]\"\n",
    "        dom = etree.HTML(str(soup))\n",
    "        precios = dom.xpath(precio)\n",
    "        precios = [i.text for i in precios]\n",
    "        lista_precios.extend(precios)\n",
    "\n",
    "        inicial = int(soup.find('span', attrs={'class': 'andes-pagination__link'}).get_text())\n",
    "        cantidad = soup.find('li', attrs={'class': 'andes-pagination__page-count'}).get_text().split(' ')\n",
    "        cantidad = int(cantidad[1])\n",
    "    else:\n",
    "        break\n",
    "\n",
    "\n",
    "    if inicial == cantidad:\n",
    "        print(f'Finalizado, se reviso {cantidad} paginas ....')\n",
    "        break\n",
    "    siguiente = dom.xpath(\"//div[@class='ui-search-pagination']//li[contains(@class, '--next')]/a\")[0].get('href')"
   ],
   "metadata": {
    "collapsed": false,
    "pycharm": {
     "name": "#%%\n"
    }
   }
  },
  {
   "cell_type": "code",
   "execution_count": 79,
   "outputs": [
    {
     "name": "stdout",
     "output_type": "stream",
     "text": [
      "747\n",
      "747\n",
      "747\n"
     ]
    }
   ],
   "source": [
    "print(len(lista_titulo))\n",
    "print(len(lista_url))\n",
    "print(len(lista_precios))"
   ],
   "metadata": {
    "collapsed": false,
    "pycharm": {
     "name": "#%%\n"
    }
   }
  },
  {
   "cell_type": "code",
   "execution_count": 80,
   "outputs": [],
   "source": [
    "df = pd.DataFrame({'Título': lista_titulo, 'Enlace': lista_url, 'Precio': lista_precios})"
   ],
   "metadata": {
    "collapsed": false,
    "pycharm": {
     "name": "#%%\n"
    }
   }
  },
  {
   "cell_type": "code",
   "execution_count": 81,
   "outputs": [
    {
     "data": {
      "text/plain": "                                                Título  \\\n0          Tv Hyundai 32  Led Hd Smart Tv Hyled3248aim   \n1          Tv Hyundai 32  Led Hd Smart Tv Hyled3248aim   \n2                 Televisor Xiaomi 32  Hd P1 L32m6 Mtk   \n3    Tv 32 Jvc Smart Tv Digital Wifi Led Nuevo Modelo    \n4      Xiaomi Mi Led Tv 4a 32 Pulgadas Versión Europea   \n..                                                 ...   \n742                               Televisor Hyndai 32    \n743  Televisor Lcd Samsung De 32 Pulgadas Para Reparar   \n744  Televisor De 32 Pulgadas Marca Jvc,6 Meses De Uso   \n745                         Tv Samsung Led 32 Pulgadas   \n746       Tv LG Con Disco Duro 32 Pulgadas Para Grabar   \n\n                                                Enlace Precio  \n0    https://articulo.mercadolibre.com.pe/MPE-60448...    599  \n1    https://articulo.mercadolibre.com.pe/MPE-60447...    599  \n2    https://articulo.mercadolibre.com.pe/MPE-60935...    699  \n3    https://articulo.mercadolibre.com.pe/MPE-43589...    799  \n4    https://articulo.mercadolibre.com.pe/MPE-44135...    729  \n..                                                 ...    ...  \n742  https://articulo.mercadolibre.com.pe/MPE-61657...    599  \n743  https://articulo.mercadolibre.com.pe/MPE-61786...    200  \n744  https://articulo.mercadolibre.com.pe/MPE-61795...    450  \n745  https://articulo.mercadolibre.com.pe/MPE-61819...    250  \n746  https://articulo.mercadolibre.com.pe/MPE-61663...    299  \n\n[747 rows x 3 columns]",
      "text/html": "<div>\n<style scoped>\n    .dataframe tbody tr th:only-of-type {\n        vertical-align: middle;\n    }\n\n    .dataframe tbody tr th {\n        vertical-align: top;\n    }\n\n    .dataframe thead th {\n        text-align: right;\n    }\n</style>\n<table border=\"1\" class=\"dataframe\">\n  <thead>\n    <tr style=\"text-align: right;\">\n      <th></th>\n      <th>Título</th>\n      <th>Enlace</th>\n      <th>Precio</th>\n    </tr>\n  </thead>\n  <tbody>\n    <tr>\n      <th>0</th>\n      <td>Tv Hyundai 32  Led Hd Smart Tv Hyled3248aim</td>\n      <td>https://articulo.mercadolibre.com.pe/MPE-60448...</td>\n      <td>599</td>\n    </tr>\n    <tr>\n      <th>1</th>\n      <td>Tv Hyundai 32  Led Hd Smart Tv Hyled3248aim</td>\n      <td>https://articulo.mercadolibre.com.pe/MPE-60447...</td>\n      <td>599</td>\n    </tr>\n    <tr>\n      <th>2</th>\n      <td>Televisor Xiaomi 32  Hd P1 L32m6 Mtk</td>\n      <td>https://articulo.mercadolibre.com.pe/MPE-60935...</td>\n      <td>699</td>\n    </tr>\n    <tr>\n      <th>3</th>\n      <td>Tv 32 Jvc Smart Tv Digital Wifi Led Nuevo Modelo</td>\n      <td>https://articulo.mercadolibre.com.pe/MPE-43589...</td>\n      <td>799</td>\n    </tr>\n    <tr>\n      <th>4</th>\n      <td>Xiaomi Mi Led Tv 4a 32 Pulgadas Versión Europea</td>\n      <td>https://articulo.mercadolibre.com.pe/MPE-44135...</td>\n      <td>729</td>\n    </tr>\n    <tr>\n      <th>...</th>\n      <td>...</td>\n      <td>...</td>\n      <td>...</td>\n    </tr>\n    <tr>\n      <th>742</th>\n      <td>Televisor Hyndai 32</td>\n      <td>https://articulo.mercadolibre.com.pe/MPE-61657...</td>\n      <td>599</td>\n    </tr>\n    <tr>\n      <th>743</th>\n      <td>Televisor Lcd Samsung De 32 Pulgadas Para Reparar</td>\n      <td>https://articulo.mercadolibre.com.pe/MPE-61786...</td>\n      <td>200</td>\n    </tr>\n    <tr>\n      <th>744</th>\n      <td>Televisor De 32 Pulgadas Marca Jvc,6 Meses De Uso</td>\n      <td>https://articulo.mercadolibre.com.pe/MPE-61795...</td>\n      <td>450</td>\n    </tr>\n    <tr>\n      <th>745</th>\n      <td>Tv Samsung Led 32 Pulgadas</td>\n      <td>https://articulo.mercadolibre.com.pe/MPE-61819...</td>\n      <td>250</td>\n    </tr>\n    <tr>\n      <th>746</th>\n      <td>Tv LG Con Disco Duro 32 Pulgadas Para Grabar</td>\n      <td>https://articulo.mercadolibre.com.pe/MPE-61663...</td>\n      <td>299</td>\n    </tr>\n  </tbody>\n</table>\n<p>747 rows × 3 columns</p>\n</div>"
     },
     "execution_count": 81,
     "metadata": {},
     "output_type": "execute_result"
    }
   ],
   "source": [
    "df"
   ],
   "metadata": {
    "collapsed": false,
    "pycharm": {
     "name": "#%%\n"
    }
   }
  },
  {
   "cell_type": "code",
   "execution_count": null,
   "outputs": [],
   "source": [],
   "metadata": {
    "collapsed": false,
    "pycharm": {
     "name": "#%%\n"
    }
   }
  }
 ],
 "metadata": {
  "kernelspec": {
   "display_name": "Python 3",
   "language": "python",
   "name": "python3"
  },
  "language_info": {
   "codemirror_mode": {
    "name": "ipython",
    "version": 2
   },
   "file_extension": ".py",
   "mimetype": "text/x-python",
   "name": "python",
   "nbconvert_exporter": "python",
   "pygments_lexer": "ipython2",
   "version": "2.7.6"
  }
 },
 "nbformat": 4,
 "nbformat_minor": 0
}